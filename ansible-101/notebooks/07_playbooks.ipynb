{
 "cells": [
  {
   "attachments": {},
   "cell_type": "markdown",
   "metadata": {},
   "source": [
    "# Playbooks\n",
    "#### ([exercise directory](/tree/notebooks/exercise-07))"
   ]
  },
  {
   "cell_type": "code",
   "execution_count": null,
   "metadata": {},
   "outputs": [],
   "source": [
    "cd /notebooks/exercise-07"
   ]
  },
  {
   "attachments": {},
   "cell_type": "markdown",
   "metadata": {},
   "source": [
    "\n",
    "\n",
    "As we already learn in the other lessons, playbooks are YAML files where we group **tasks**.\n",
    "\n",
    "A playbook starts with an `hosts` mark specifying the target hosts to run the playbook on.\n",
    "\n",
    "```yaml\n",
    "# Since you can have multiple YAML documents in a single file,\n",
    "# YAML files usually start with 3 dashes: ---\n",
    "# and may end with 3 dots: ...\n",
    "---\n",
    "- hosts: web\n",
    "  tasks: \n",
    "  ..\n",
    "...\n",
    "```"
   ]
  },
  {
   "attachments": {},
   "cell_type": "markdown",
   "metadata": {},
   "source": [
    "\n",
    "A playbook is a *list* of `hosts` entries in a single YAML document.\n",
    "\n",
    "\n",
    "```yaml\n",
    "---\n",
    "- hosts: localhost\n",
    "  tasks:\n",
    "  - name: one or more tasks to be run on localhost\n",
    "    ...\n",
    "    \n",
    "- hosts: web\n",
    "  tasks:\n",
    "  - name: followed by tasks to be run on web hostgroup\n",
    "    ...\n",
    "```\n",
    "\n",
    "We can even pick a single element in an host group, or add `tags` entries to restrict executions\n",
    "\n",
    "```yaml\n",
    "- hosts: db[0]\n",
    "  tags: beware\n",
    "  tasks:\n",
    "  - name: .. and then on the first db node ;)\n",
    "          ...\n",
    "  - name: run many tasks...\n",
    "\n",
    "```\n"
   ]
  },
  {
   "attachments": {},
   "cell_type": "markdown",
   "metadata": {},
   "source": [
    "\n",
    "You can limit execution of a single task on a single host within a group using `run_once`.\n",
    "\n",
    "```yaml\n",
    "- hosts: db\n",
    "  tags: beware\n",
    "  tasks:\n",
    "  - name: Only this task is run on one of the db nodes.\n",
    "    run_once: yes\n",
    "    \n",
    "  - name: Other tasks are run on all nodes!\n",
    "```\n",
    "\n",
    "We can even delegate the execution on a given host (e.g., the ansible one)\n",
    "\n",
    "```yaml\n",
    "- hosts: db\n",
    "  tasks:\n",
    "  - name: Run this task from the local ansible host.\n",
    "    run_once: yes\n",
    "    delegate_to: localhost\n",
    "    shell: |\n",
    "      remove a node from the balancer\n",
    "```\n"
   ]
  },
  {
   "attachments": {},
   "cell_type": "markdown",
   "metadata": {},
   "source": [
    "## Goal\n",
    "\n",
    " - fact gathering (hostvars)\n",
    " - user and skel\n",
    " - install packages and enable service (not on containers)\n",
    " - lineinfile\n",
    " - curl\n",
    " - file, copy & fetch\n",
    "\n",
    "More fun with:\n",
    "\n",
    "  - iterations\n",
    "  - ignore_errors\n",
    "  - with_fileglob and remote_fileglob ;)\n",
    "\n",
    "Creating small reports.\n",
    "\n"
   ]
  },
  {
   "attachments": {},
   "cell_type": "markdown",
   "metadata": {},
   "source": [
    "## Gathering facts\n",
    "\n",
    "\n",
    "When run, a playbook gathers facts about hosts (remember the setup module?).\n",
    "\n",
    "Gathering facts may be time-consuming, so you can [tune it via ansible.cfg](http://docs.ansible.com/ansible/intro_configuration.html#gathering) or disable it\n",
    "\n",
    "```yaml\n",
    "- hosts: web\n",
    "  gather_facts: no\n",
    "  tasks:\n",
    "  ...\n",
    "```\n",
    "\n",
    "We can use the [predefined variables](http://docs.ansible.com/ansible/playbooks_variables.html#magic-variables-and-how-to-access-information-about-other-hosts) too:\n",
    "\n",
    "  - group_names\n",
    "  - groups\n",
    "  - hostvars\n",
    "  - environment "
   ]
  },
  {
   "cell_type": "code",
   "execution_count": null,
   "metadata": {},
   "outputs": [],
   "source": [
    "!ansible-playbook debug.yml --tags gather_facts"
   ]
  },
  {
   "cell_type": "code",
   "execution_count": null,
   "metadata": {},
   "outputs": [],
   "source": [
    "!ansible-playbook debug.yml --tags groups"
   ]
  },
  {
   "attachments": {},
   "cell_type": "markdown",
   "metadata": {},
   "source": [
    "#### Exercise: \n",
    "\n",
    "[modify debug.yml](/edit/notebooks/exercise-07/debug.yml) to disable fact gathering and use the following cell to test it "
   ]
  },
  {
   "cell_type": "code",
   "execution_count": null,
   "metadata": {},
   "outputs": [],
   "source": [
    "# Test the exercise here"
   ]
  },
  {
   "attachments": {},
   "cell_type": "markdown",
   "metadata": {},
   "source": [
    "### Hints\n",
    "\n",
    " - use `ansible_facts` as possible \n",
    " - avoid gathering facts with uname & co\n",
    " - test and template your iterations statically instead of continuosly gathering facts\n",
    " "
   ]
  },
  {
   "attachments": {},
   "cell_type": "markdown",
   "metadata": {},
   "source": [
    "## hostvars\n",
    "\n",
    "Ansible allows referencing facts between hosts, so that we're able to get eg. a list of all webserver ip addresses.\n",
    "\n",
    "Between set variables we have:\n",
    "\n",
    "- `groups`\n",
    "- `hostvars`\n",
    "\n",
    "⚠ Fact gathering requires that specific tools are installed on the target host.\n",
    "For example, gathering IP addresses requires the `iproute2` package to be installed.\n",
    "\n",
    "#### Exercise:\n",
    "\n",
    "1. Run the following playbook and look at the error message: which fact is missing?\n",
    "1. Can you gather the missing fact using the `setup` module? Why? **Hint: access the container and try to run `ip addr`.**\n",
    "1. Can you fix the playbook to ensure that the `ip` fact is gathered?"
   ]
  },
  {
   "cell_type": "code",
   "execution_count": null,
   "metadata": {},
   "outputs": [],
   "source": [
    "!ansible-playbook hostvars.yml"
   ]
  },
  {
   "attachments": {},
   "cell_type": "markdown",
   "metadata": {
    "solution": "hidden",
    "solution_first": true
   },
   "source": [
    "#### Exercise\n",
    "\n",
    "Did you note anything about the hostvars keys printed out by the previous command?"
   ]
  },
  {
   "attachments": {},
   "cell_type": "markdown",
   "metadata": {
    "solution": "hidden"
   },
   "source": [
    "Answer: they are related to the `setup` module output"
   ]
  },
  {
   "attachments": {},
   "cell_type": "markdown",
   "metadata": {},
   "source": [
    "## Filters\n",
    "\n",
    "We can process hostvars using jinja filters (see the \"facts and variables\" lesson). \n",
    "\n",
    "Here is a [list of useful filters](http://docs.ansible.com/ansible/latest/playbooks_filters.html)\n",
    "\n",
    "\n",
    "Remember: a filter is essentially a function returning a function, like a [python lambda](https://docs.python.org/3/tutorial/controlflow.html#lambda-expressions).\n",
    "\n",
    "```python\n",
    "int_filter = lambda x: int(x)\n",
    "```"
   ]
  },
  {
   "attachments": {},
   "cell_type": "markdown",
   "metadata": {},
   "source": [
    "\n",
    "A more complex filter: \n",
    "\n",
    "```yaml\n",
    "- name: This is a getter\n",
    "  debug:\n",
    "    msg: >\n",
    "      {{ ['host1', 'host2'] | \n",
    "           map('extract', hostvars, ['key1', .. , 'keyN']) \n",
    "      }}\n",
    "```\n",
    "\n",
    "where\n",
    "\n",
    "```python\n",
    "hostvars_getter = lambda host: hostvars[host]['key1'][..]['keyN']\n",
    "```\n",
    "\n",
    "You can pipeline filters and test incrementally."
   ]
  },
  {
   "cell_type": "code",
   "execution_count": null,
   "metadata": {},
   "outputs": [],
   "source": [
    "!ansible-playbook debug.yml --tags filters"
   ]
  },
  {
   "attachments": {},
   "cell_type": "markdown",
   "metadata": {},
   "source": [
    "## Packages, User and Files\n",
    "\n",
    "Creating user and installing packages is easy\n",
    "\n",
    "```yaml\n",
    "  - name: Install apache\n",
    "    apt: item=\"{{item}}\" state=present\n",
    "    with_items:\n",
    "    - apache2\n",
    "    - curl\n",
    "    \n",
    "  - name: Remove wget\n",
    "    apt: item=wget state=absent\n",
    "```"
   ]
  },
  {
   "cell_type": "code",
   "execution_count": null,
   "metadata": {},
   "outputs": [],
   "source": [
    "!cat package-user.yml\n"
   ]
  },
  {
   "cell_type": "code",
   "execution_count": null,
   "metadata": {},
   "outputs": [],
   "source": [
    "!ansible-playbook package-user.yml\n"
   ]
  },
  {
   "cell_type": "code",
   "execution_count": null,
   "metadata": {},
   "outputs": [],
   "source": [
    "!tree /tmp/fetched/"
   ]
  },
  {
   "attachments": {},
   "cell_type": "markdown",
   "metadata": {},
   "source": [
    "## Files and Directories\n",
    "\n",
    "Creating files and directories. \n",
    "\n",
    "lineinfile / blockinfile\n",
    "\n",
    "with_fileglob"
   ]
  },
  {
   "cell_type": "code",
   "execution_count": null,
   "metadata": {},
   "outputs": [],
   "source": [
    "!cat files-content.yml"
   ]
  },
  {
   "cell_type": "code",
   "execution_count": null,
   "metadata": {},
   "outputs": [],
   "source": [
    "!ansible-playbook -i inventory files-content.yml \n"
   ]
  },
  {
   "attachments": {},
   "cell_type": "markdown",
   "metadata": {},
   "source": [
    "## shell module reloaded\n",
    "\n",
    "Ansible can be used to reproduce issues and gather command output. \n",
    "\n",
    "Though the standard workflow can be done registering output in a temporary variable\n"
   ]
  },
  {
   "cell_type": "code",
   "execution_count": null,
   "metadata": {},
   "outputs": [],
   "source": [
    "!cat shell-output-01.yml"
   ]
  },
  {
   "cell_type": "code",
   "execution_count": null,
   "metadata": {},
   "outputs": [],
   "source": [
    "!ansible-playbook shell-output-01.yml"
   ]
  },
  {
   "attachments": {},
   "cell_type": "markdown",
   "metadata": {},
   "source": [
    "This approach has its limits.\n",
    "\n",
    "#### Exercise\n",
    "\n",
    "  - what happens if you process a long pipeline with  [shell-output-01.yml](/edit/notebooks/exercise-07/shell-output-01.yml) ? "
   ]
  },
  {
   "attachments": {},
   "cell_type": "markdown",
   "metadata": {},
   "source": [
    "#### Exercise\n",
    "\n",
    "modify [shell-output-01.yml](/edit/notebooks/exercise-07/shell-output-01.yml) so that:\n",
    "\n",
    "  - every command stdout/stderr is redirected to a given file\n",
    "  - before and after every command output print  a header and a footer (eg. the expected output is like\n",
    "  \n",
    "```\n",
    "--- START COMMAND: cat /etc/resolv.conf --\n",
    "nameserver 172.17.0.1\n",
    "-- END COMMAND: cat /etc/resolv.conf\n",
    "```\n",
    "\n",
    "HINTS:\n",
    "\n",
    "  - use shell redirection instead of `register`\n",
    "  - use with_items to process many different commands \n",
    "  "
   ]
  },
  {
   "cell_type": "code",
   "execution_count": null,
   "metadata": {},
   "outputs": [],
   "source": [
    "!ansible-playbook shell-output-02.yml -i ../web"
   ]
  },
  {
   "attachments": {},
   "cell_type": "markdown",
   "metadata": {},
   "source": [
    "### using shell for testing, changing hints\n",
    "\n",
    "In ansible, `shell` and `command` calls:\n",
    "\n",
    "  - always changes the machine state and are colored with brown;\n",
    "  - are skipped by `ansible-playbook --check` to avoid accidental modifications.\n",
    "  \n",
    "\n",
    "If you know a task is not modifying the host (eg. pgrep, ls) you can set `changed_when: no`.\n",
    "\n",
    "If you want to run a `shell|command` task when `--check`, disable the `check_mode` control.\n",
    "\n",
    "Here's a full example!\n",
    "\n",
    "```\n",
    "  - name: This shell task will not modify the system\n",
    "    shell: |\n",
    "      pgrep -fa tomcat\n",
    "    changed_when: no\n",
    "    check_mode: no\n",
    "\n",
    "```\n",
    "\n",
    "#### Exercise\n",
    "\n",
    "Write the [changed-when.yml](/edit/notebooks/exercise-07/changed-when.yml) playbook which:\n",
    "\n",
    "- checks for the following processes on all nodes: ansible, ssh, oracle\n",
    "- checks for the presence of `/tmp/didit.txt` file\n",
    "- all tests should be run even with `--check`\n",
    "- creates an empty /tmp/didit.txt file only when not run in `--check`\n",
    "\n",
    "Does `changed_when` changes ansible behavior when a command fails?\n",
    "\n",
    "\n"
   ]
  },
  {
   "cell_type": "code",
   "execution_count": null,
   "metadata": {},
   "outputs": [],
   "source": [
    "!ansible-playbook --check changed-when.yml"
   ]
  },
  {
   "cell_type": "code",
   "execution_count": null,
   "metadata": {},
   "outputs": [],
   "source": [
    "!ansible-playbook changed-when.yml"
   ]
  },
  {
   "attachments": {},
   "cell_type": "markdown",
   "metadata": {},
   "source": [
    "## Server configuration\n",
    "\n",
    "Server configuration modules include:\n",
    "    \n",
    "    - systemd\n",
    "    - service\n",
    "    - mount\n",
    "    \n",
    "    \n",
    "*service* manages and enables services\n",
    "\n",
    "```\n",
    " - name: Restart httpd\n",
    "   service: \n",
    "     name: httpd\n",
    "     state: restarted\n",
    "     enabled: true\n",
    "```\n",
    "\n",
    "*systemd* manages and enables services with systemd. It can reload systemd configuration too\n",
    "\n",
    "\n",
    "```\n",
    "\n",
    "  - name: Reload docker with new systemd config\n",
    "    systemd:\n",
    "      state: restarted\n",
    "      name: docker\n",
    "      daemon_reload: yes\n",
    "\n",
    "\n",
    "```\n",
    "    \n",
    "*mount* populates entries in /etc/fstab and mounts associate filesystem.\n",
    "\n",
    "\n",
    "```\n",
    "  - name: Check if mongod LUN is mounted\n",
    "    register: mongod_on_storage\n",
    "    mount:\n",
    "      path: /var/lib/mongo\n",
    "      src: /dev/sdc\n",
    "      fstype: xfs\n",
    "      state: present  # creates an entry in /etc/fstab. `mounted` does the actual mount.\n",
    "\n",
    "```\n",
    "\n",
    "#### Exercise\n",
    "\n",
    "Write the [mount-bind.yml](/edit/notebooks/exercise-07/mount-bind.yml) playbook which:\n",
    "\n",
    "- runs only on ONE host of the web group\n",
    "- creates a bind mountpoint from /var to /mnt/bind into `/etc/fstab`, eventually creating `/mnt/bind`\n",
    "- mount the new fstab entry\n",
    "- all tests should be run even with `--check`\n",
    "\n",
    "This playbook is expected to fail in this course environment: try to understand why.\n"
   ]
  },
  {
   "cell_type": "code",
   "execution_count": null,
   "metadata": {},
   "outputs": [],
   "source": [
    "!ansible-playbook --check mount-bind.yml"
   ]
  },
  {
   "cell_type": "code",
   "execution_count": null,
   "metadata": {},
   "outputs": [],
   "source": [
    "!ansible-playbook -v mount-bind.yml"
   ]
  },
  {
   "cell_type": "code",
   "execution_count": null,
   "metadata": {},
   "outputs": [],
   "source": []
  }
 ],
 "metadata": {
  "kernelspec": {
   "display_name": "Python 2",
   "language": "python",
   "name": "python2"
  },
  "language_info": {
   "codemirror_mode": {
    "name": "ipython",
    "version": 2
   },
   "file_extension": ".py",
   "mimetype": "text/x-python",
   "name": "python",
   "nbconvert_exporter": "python",
   "pygments_lexer": "ipython2",
   "version": "2.7.13"
  }
 },
 "nbformat": 4,
 "nbformat_minor": 2
}
