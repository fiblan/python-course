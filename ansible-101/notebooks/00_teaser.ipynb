{
 "cells": [
  {
   "cell_type": "markdown",
   "metadata": {},
   "source": [
    "# Ansible\n",
    "\n",
    "\n",
    "Ansible is a configuration management software.\n",
    "\n",
    "Connects via ssh or docker to a list of inventory machines and executes a series of tasks eventually grouped in playbooks.\n",
    "\n",
    "At first, create an inventory file with all your hosts."
   ]
  },
  {
   "cell_type": "code",
   "execution_count": 1,
   "metadata": {},
   "outputs": [
    {
     "name": "stdout",
     "output_type": "stream",
     "text": [
      "/notebooks/exercise-00\n"
     ]
    }
   ],
   "source": [
    "cd /notebooks/exercise-00  "
   ]
  },
  {
   "cell_type": "code",
   "execution_count": 2,
   "metadata": {},
   "outputs": [
    {
     "name": "stdout",
     "output_type": "stream",
     "text": [
      "#\r\n",
      "# This inventory file contains a list of server to\r\n",
      "#  play with - divided in groups.\r\n",
      "#\r\n",
      "[course]\r\n",
      "# this is the local machine where you run jupyter\r\n",
      "# the tutorial just works with this one.\r\n",
      "pythonforsysadmin_course_1  ansible_connection=local\r\n",
      "\r\n",
      "\r\n",
      "# Another group of servers\r\n",
      "# where we can pass optional arguments\r\n",
      "# Homework: you can play with this group of host\r\n",
      "#  once you exchange ssh-keys between the pythonforsysadmin_course_1\r\n",
      "#  container and the pythonforsysadmin_ansible_* ones._\r\n",
      "[ansible]\r\n",
      "172.17.0.[5:7]\r\n",
      "\r\n",
      "#\r\n",
      "# Besides, ansible has two predefined groups:\r\n",
      "#   - all\r\n",
      "#   - ungrouped\r\n"
     ]
    }
   ],
   "source": [
    "cat inventory"
   ]
  },
  {
   "cell_type": "markdown",
   "metadata": {},
   "source": [
    "Now check if you can ping the local host."
   ]
  },
  {
   "cell_type": "code",
   "execution_count": 3,
   "metadata": {
    "code_folding": []
   },
   "outputs": [
    {
     "name": "stdout",
     "output_type": "stream",
     "text": [
      "\u001b[0;32mpythonforsysadmin_course_1 | SUCCESS => {\u001b[0m\r\n",
      "\u001b[0;32m    \"changed\": false, \u001b[0m\r\n",
      "\u001b[0;32m    \"ping\": \"pong\"\u001b[0m\r\n",
      "\u001b[0;32m}\u001b[0m\r\n"
     ]
    }
   ],
   "source": [
    "# Check connections versus the local host in the \"course\" group\n",
    "\n",
    "!ansible -i inventory -m ping course"
   ]
  },
  {
   "cell_type": "code",
   "execution_count": 4,
   "metadata": {},
   "outputs": [
    {
     "name": "stdout",
     "output_type": "stream",
     "text": [
      "\u001b[0;32mpythonforsysadmin_course_1 | SUCCESS => {\u001b[0m\n",
      "\u001b[0;32m    \"changed\": false, \u001b[0m\n",
      "\u001b[0;32m    \"ping\": \"pong\"\u001b[0m\n",
      "\u001b[0;32m}\u001b[0m\n",
      "\u001b[1;31m172.17.0.5 | UNREACHABLE! => {\u001b[0m\n",
      "\u001b[1;31m    \"changed\": false, \u001b[0m\n",
      "\u001b[1;31m    \"msg\": \"Failed to connect to the host via ssh: ssh: connect to host 172.17.0.5 port 22: No route to host\\r\\n\", \u001b[0m\n",
      "\u001b[1;31m    \"unreachable\": true\u001b[0m\n",
      "\u001b[1;31m}\u001b[0m\n",
      "\u001b[1;31m172.17.0.7 | UNREACHABLE! => {\u001b[0m\n",
      "\u001b[1;31m    \"changed\": false, \u001b[0m\n",
      "\u001b[1;31m    \"msg\": \"Failed to connect to the host via ssh: ssh: connect to host 172.17.0.7 port 22: No route to host\\r\\n\", \u001b[0m\n",
      "\u001b[1;31m    \"unreachable\": true\u001b[0m\n",
      "\u001b[1;31m}\u001b[0m\n",
      "\u001b[1;31m172.17.0.6 | UNREACHABLE! => {\u001b[0m\n",
      "\u001b[1;31m    \"changed\": false, \u001b[0m\n",
      "\u001b[1;31m    \"msg\": \"Failed to connect to the host via ssh: ssh: connect to host 172.17.0.6 port 22: No route to host\\r\\n\", \u001b[0m\n",
      "\u001b[1;31m    \"unreachable\": true\u001b[0m\n",
      "\u001b[1;31m}\u001b[0m\n"
     ]
    }
   ],
   "source": [
    "# Pinging all hosts gives some errors too, due to missing hosts or no ssh-key exchange\n",
    "!ansible -i inventory -m ping all"
   ]
  },
  {
   "cell_type": "markdown",
   "metadata": {},
   "source": [
    "## Further on inventories"
   ]
  },
  {
   "cell_type": "markdown",
   "metadata": {},
   "source": [
    " You can split your servers in many inventory files, like\n",
    "\n",
    " - staging\n",
    " \n",
    "```\n",
    "# staging inventory file\n",
    "# run with\n",
    "# ansible -i staging ...\n",
    " [ws]\n",
    " staging-ws-[0:3]\n",
    " \n",
    " [jboss]\n",
    " staging-boss-[0:6]\n",
    "```\n",
    " \n",
    " - production\n",
    " \n",
    "```\n",
    "# production inventory file\n",
    "# run with\n",
    "# ansible -i production ...\n",
    " [ws]\n",
    " ws-[0:3]\n",
    " \n",
    " [jboss]\n",
    " boss-[0:6]\n",
    "```\n",
    " \n",
    " "
   ]
  },
  {
   "cell_type": "markdown",
   "metadata": {},
   "source": [
    "# Playbooks\n",
    "\n",
    "To run a group of tasks with ansible, just:\n",
    "\n",
    "  - create a playbook.yml\n",
    "  - run ansible-playbook -i inventory playbook.yml\n",
    "  \n",
    "\n",
    "A playbook is a list of tasks in yml format, something like\n",
    "\n",
    "```\n",
    "#\n",
    "# playbook.yml\n",
    "#\n",
    "- name: >-\n",
    "    All public traffic is redirected via https.\n",
    "    Beware: in real world, if your site accept credentials,\n",
    "            you should close port 80 instead!\n",
    "  uri:\n",
    "    url: http://{{server_host}}/\n",
    "    follow_redirects: none\n",
    "    status_code: 301\n",
    "    \n",
    "- name: This webapp  is served\n",
    "  uri:\n",
    "    url: https://{{server_host}}/webapp-1\n",
    "    validate_certs: false\n",
    "    status_code: 200\n",
    "    HEADER_testflag: test\n",
    "\n",
    "- name: The WS is serverd and requires authentication\n",
    "  uri:\n",
    "    url: https://{{server_host}}/rest/v1/method\n",
    "    validate_certs: false\n",
    "    status_code: 401\n",
    "\n",
    "```\n",
    "\n",
    "In this case, instead of making actual installation|setup tasks, we just created a testsuite validating our deployment. Now we must write another playbook which takes care of deployng the actual machine.\n",
    "\n"
   ]
  },
  {
   "cell_type": "markdown",
   "metadata": {},
   "source": [
    "## Testing our course environment\n",
    "\n",
    "We can write a playbook to test our course environment."
   ]
  },
  {
   "cell_type": "code",
   "execution_count": 5,
   "metadata": {},
   "outputs": [
    {
     "name": "stdout",
     "output_type": "stream",
     "text": [
      "# Run this with\r\n",
      "#\r\n",
      "#   #ansible-playbook -i inventory python-course-test.yml\r\n",
      "#\r\n",
      "- hosts: course\r\n",
      "  tasks:\r\n",
      "    - name: The /notebooks directory should exist\r\n",
      "      file: path=\"/notebooks\" state=directory\r\n",
      "\r\n",
      "    - name: jupyter is responding on 8888\r\n",
      "      uri:\r\n",
      "        url: http://0.0.0.0:8888/notebooks\r\n",
      "        validate_certs: false\r\n",
      "        status_code: 200  # modify this line to simulate an error and see the outcome!\r\n",
      "\r\n",
      "    - name: The template.conf is in place\r\n",
      "      file: path=\"/tmp/template.conf\" state=file\r\n"
     ]
    }
   ],
   "source": [
    "!cat python-course-test.yml"
   ]
  },
  {
   "cell_type": "code",
   "execution_count": 6,
   "metadata": {},
   "outputs": [
    {
     "name": "stdout",
     "output_type": "stream",
     "text": [
      "\n",
      "PLAY [course] ******************************************************************\n",
      "\n",
      "TASK [Gathering Facts] *********************************************************\n",
      "\u001b[0;32mok: [pythonforsysadmin_course_1]\u001b[0m\n",
      "\n",
      "TASK [The /notebooks directory should exist] ***********************************\n",
      "\u001b[0;32mok: [pythonforsysadmin_course_1]\u001b[0m\n",
      "\n",
      "TASK [jupyter is responding on 8888] *******************************************\n",
      "\u001b[0;32mok: [pythonforsysadmin_course_1]\u001b[0m\n",
      "\n",
      "TASK [The template.conf is in place] *******************************************\n",
      "\u001b[0;31mfatal: [pythonforsysadmin_course_1]: FAILED! => {\"changed\": false, \"msg\": \"file (/tmp/template.conf) is absent, cannot continue\", \"path\": \"/tmp/template.conf\", \"state\": \"absent\"}\u001b[0m\n",
      "\n",
      "PLAY RECAP *********************************************************************\n",
      "\u001b[0;31mpythonforsysadmin_course_1\u001b[0m : \u001b[0;32mok=3   \u001b[0m changed=0    unreachable=0    \u001b[0;31mfailed=1   \u001b[0m\n",
      "\n"
     ]
    }
   ],
   "source": [
    "!ansible-playbook -i inventory python-course-test.yml "
   ]
  },
  {
   "cell_type": "markdown",
   "metadata": {},
   "source": [
    "As you can see something is missing: this playbook is not going to modify our machine but only test that everything is in place. \n",
    "\n",
    "See ```ansible-playbook --check ``` and ``` --diff ``` for further infos.\n",
    "\n",
    "We can run a setup playbook, conventionally named [site.yml (click to edit)](/edit/notebooks/exercise-00/site.yml).\n"
   ]
  },
  {
   "cell_type": "code",
   "execution_count": 7,
   "metadata": {},
   "outputs": [
    {
     "name": "stdout",
     "output_type": "stream",
     "text": [
      "# Run this with\r\n",
      "#\r\n",
      "#   #ansible-playbook -i inventory site.yml\r\n",
      "#\r\n",
      "- hosts: course\r\n",
      "  tasks:\r\n",
      "\r\n",
      "    - name: Create a file from a template\r\n",
      "      template: src=mytemplate.j2 dest=/tmp/template.conf\r\n",
      "\r\n",
      "    - name: Ensure needed packages are present and eventually install them\r\n",
      "      apt: name={{item}} state=present\r\n",
      "      with_items:\r\n",
      "        - python\r\n",
      "        - python-dev\r\n",
      "      ignore_errors: yes  #  ignore errors during the course (eg. connectivity)\r\n"
     ]
    }
   ],
   "source": [
    "!cat site.yml"
   ]
  },
  {
   "cell_type": "code",
   "execution_count": 8,
   "metadata": {},
   "outputs": [
    {
     "name": "stdout",
     "output_type": "stream",
     "text": [
      "\n",
      "PLAY [course] ******************************************************************\n",
      "\n",
      "TASK [Gathering Facts] *********************************************************\n",
      "\u001b[0;32mok: [pythonforsysadmin_course_1]\u001b[0m\n",
      "\n",
      "TASK [Create a file from a template] *******************************************\n",
      "\u001b[0;33mchanged: [pythonforsysadmin_course_1]\u001b[0m\n",
      "\n",
      "TASK [Ensure needed packages are present and eventually install them] **********\n",
      "\u001b[0;31mfailed: [pythonforsysadmin_course_1] (item=[u'python', u'python-dev']) => {\"changed\": false, \"cmd\": \"apt-get update\", \"item\": [\"python\", \"python-dev\"], \"msg\": \"W: Failed to fetch http://security.debian.org/dists/jessie/updates/main/binary-amd64/Packages  404  Not Found [IP: 151.101.130.132 80]\\n\\nW: Failed to fetch http://deb.debian.org/debian/dists/jessie/main/binary-amd64/Packages  404  Not Found\\n\\nW: Failed to fetch http://deb.debian.org/debian/dists/jessie-updates/main/binary-amd64/Packages  404  Not Found\\n\\nE: Some index files failed to download. They have been ignored, or old ones used instead.\", \"rc\": 100, \"stderr\": \"W: Failed to fetch http://security.debian.org/dists/jessie/updates/main/binary-amd64/Packages  404  Not Found [IP: 151.101.130.132 80]\\n\\nW: Failed to fetch http://deb.debian.org/debian/dists/jessie/main/binary-amd64/Packages  404  Not Found\\n\\nW: Failed to fetch http://deb.debian.org/debian/dists/jessie-updates/main/binary-amd64/Packages  404  Not Found\\n\\nE: Some index files failed to download. They have been ignored, or old ones used instead.\\n\", \"stderr_lines\": [\"W: Failed to fetch http://security.debian.org/dists/jessie/updates/main/binary-amd64/Packages  404  Not Found [IP: 151.101.130.132 80]\", \"\", \"W: Failed to fetch http://deb.debian.org/debian/dists/jessie/main/binary-amd64/Packages  404  Not Found\", \"\", \"W: Failed to fetch http://deb.debian.org/debian/dists/jessie-updates/main/binary-amd64/Packages  404  Not Found\", \"\", \"E: Some index files failed to download. They have been ignored, or old ones used instead.\"], \"stdout\": \"Ign http://security.debian.org jessie/updates InRelease\\nIgn http://deb.debian.org jessie InRelease\\nIgn http://security.debian.org jessie/updates Release.gpg\\nIgn http://security.debian.org jessie/updates Release\\nErr http://security.debian.org jessie/updates/main amd64 Packages\\n  \\nIgn http://deb.debian.org jessie-updates InRelease\\nErr http://security.debian.org jessie/updates/main amd64 Packages\\n  \\nErr http://security.debian.org jessie/updates/main amd64 Packages\\n  \\nErr http://security.debian.org jessie/updates/main amd64 Packages\\n  \\nErr http://security.debian.org jessie/updates/main amd64 Packages\\n  404  Not Found [IP: 151.101.130.132 80]\\nIgn http://deb.debian.org jessie Release.gpg\\nIgn http://deb.debian.org jessie-updates Release.gpg\\nIgn http://deb.debian.org jessie Release\\nIgn http://deb.debian.org jessie-updates Release\\nErr http://deb.debian.org jessie/main amd64 Packages\\n  404  Not Found\\nErr http://deb.debian.org jessie-updates/main amd64 Packages\\n  404  Not Found\\nGet:1 https://download.docker.com jessie InRelease [44.8 kB]\\nGet:2 https://download.docker.com jessie/stable amd64 Packages [6099 B]\\nFetched 50.9 kB in 6s (7660 B/s)\\n\", \"stdout_lines\": [\"Ign http://security.debian.org jessie/updates InRelease\", \"Ign http://deb.debian.org jessie InRelease\", \"Ign http://security.debian.org jessie/updates Release.gpg\", \"Ign http://security.debian.org jessie/updates Release\", \"Err http://security.debian.org jessie/updates/main amd64 Packages\", \"  \", \"Ign http://deb.debian.org jessie-updates InRelease\", \"Err http://security.debian.org jessie/updates/main amd64 Packages\", \"  \", \"Err http://security.debian.org jessie/updates/main amd64 Packages\", \"  \", \"Err http://security.debian.org jessie/updates/main amd64 Packages\", \"  \", \"Err http://security.debian.org jessie/updates/main amd64 Packages\", \"  404  Not Found [IP: 151.101.130.132 80]\", \"Ign http://deb.debian.org jessie Release.gpg\", \"Ign http://deb.debian.org jessie-updates Release.gpg\", \"Ign http://deb.debian.org jessie Release\", \"Ign http://deb.debian.org jessie-updates Release\", \"Err http://deb.debian.org jessie/main amd64 Packages\", \"  404  Not Found\", \"Err http://deb.debian.org jessie-updates/main amd64 Packages\", \"  404  Not Found\", \"Get:1 https://download.docker.com jessie InRelease [44.8 kB]\", \"Get:2 https://download.docker.com jessie/stable amd64 Packages [6099 B]\", \"Fetched 50.9 kB in 6s (7660 B/s)\"]}\u001b[0m\n",
      "\u001b[0;36m...ignoring\u001b[0m\n",
      "\n",
      "PLAY RECAP *********************************************************************\n",
      "\u001b[0;33mpythonforsysadmin_course_1\u001b[0m : \u001b[0;32mok=3   \u001b[0m \u001b[0;33mchanged=1   \u001b[0m unreachable=0    failed=0   \n",
      "\n"
     ]
    }
   ],
   "source": [
    "!ansible-playbook -i inventory site.yml --limit=course  # in this case the --limit does not change anything ;)"
   ]
  },
  {
   "cell_type": "code",
   "execution_count": 10,
   "metadata": {},
   "outputs": [
    {
     "name": "stdout",
     "output_type": "stream",
     "text": [
      "ansible 2.4.2.0\r\n",
      "  config file = /notebooks/exercise-00/ansible.cfg\r\n",
      "  configured module search path = [u'/root/.ansible/plugins/modules', u'/usr/share/ansible/plugins/modules']\r\n",
      "  ansible python module location = /usr/local/lib/python2.7/site-packages/ansible\r\n",
      "  executable location = /usr/local/bin/ansible\r\n",
      "  python version = 2.7.14 (default, Dec 12 2017, 16:55:09) [GCC 4.9.2]\r\n"
     ]
    }
   ],
   "source": [
    "!ansible --version"
   ]
  },
  {
   "cell_type": "code",
   "execution_count": null,
   "metadata": {},
   "outputs": [],
   "source": []
  }
 ],
 "metadata": {
  "kernelspec": {
   "display_name": "Python 2",
   "language": "python",
   "name": "python2"
  },
  "language_info": {
   "codemirror_mode": {
    "name": "ipython",
    "version": 2
   },
   "file_extension": ".py",
   "mimetype": "text/x-python",
   "name": "python",
   "nbconvert_exporter": "python",
   "pygments_lexer": "ipython2",
   "version": "2.7.14"
  }
 },
 "nbformat": 4,
 "nbformat_minor": 2
}
