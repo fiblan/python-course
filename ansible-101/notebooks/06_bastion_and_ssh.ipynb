{
 "cells": [
  {
   "attachments": {},
   "cell_type": "markdown",
   "metadata": {},
   "source": [
    "# Bastion hosts\n",
    "\n",
    "There are many reasons for using bastion hosts:\n",
    "\n",
    "- security access eg in cloud environment\n",
    "- vpn eg via windows hosts\n",
    "  \n",
    "The latter case is quite boring as [ansible doesn't support windows as a client platform](https://docs.ansible.com/ansible/latest/os_guide/windows_faq.html#does-ansible-work-with-windows-xp-or-server-2003).\n",
    "\n",
    "A standard approach is:\n",
    "\n",
    "- to have an ssh server or a proxy installed on the bastion\n",
    "- connecto the bastion to the remote network (eg. via vpn)\n",
    "- configure ssh options in ansible to connect through the bastion\n",
    "  \n",
    "We'll do this via two configuration files:\n",
    "\n",
    "- a standard `ssh_config` where we put the \"passthru\" configuration\n",
    "- a simple `ansible.cfg` referencing `ssh_config`\n",
    "  \n",
    "This approach allows us:\n",
    "\n",
    "1. to test the standard ssh connection thru the bastion without messing with ansible\n",
    "2. keep `ansible.cfg` simple in case we want to reuse them from the intranet (Eg. without traversing the bastion)\n",
    "  \n",
    "  "
   ]
  },
  {
   "cell_type": "code",
   "execution_count": null,
   "metadata": {},
   "outputs": [],
   "source": [
    "cd /notebooks/exercise-06/"
   ]
  },
  {
   "attachments": {},
   "cell_type": "markdown",
   "metadata": {},
   "source": [
    "## SSH basics\n",
    "\n",
    "SSH connections follows roughly this basic schema (more information in [RFC4254](https://www.rfc-editor.org/rfc/rfc4253) and further revisions):\n",
    "\n",
    "1. client connects to server\n",
    "2. server sends its public key\n",
    "3. client checks the public key against its `known_hosts` file\n",
    "4. if the key is not found, the client asks the user to confirm the key\n",
    "5. if the key is confirmed, the client saves it in `known_hosts`\n",
    "6. client sends its public key\n",
    "\n"
   ]
  },
  {
   "attachments": {},
   "cell_type": "markdown",
   "metadata": {},
   "source": [
    "## ssh_config\n",
    "\n",
    "Instead of continuously passing options to ssh, we can use [`-F ssh_config`](/edit/notebooks/exercise-06/ssh_config) and put configurations there.\n"
   ]
  },
  {
   "cell_type": "code",
   "execution_count": null,
   "metadata": {},
   "outputs": [],
   "source": [
    "!cat ssh_config"
   ]
  },
  {
   "attachments": {},
   "cell_type": "markdown",
   "metadata": {},
   "source": [
    "If we don't use it, we can turn off `GSSApiAuthentication` which attempts may slow down the connection.\n",
    "\n",
    "\n",
    "### Unsecure by design\n",
    "\n",
    "Inhibit PKI authentication is insecure by design:\n",
    "\n",
    "  - passwords will surely ends in cleartext files\n",
    "  - people ends doing things like the following\n",
    "  \n",
    "```\n",
    "#\n",
    "# the password is sent to the bastion via a\n",
    "#   cleartext file.\n",
    "Match Host 172.25.0.*\n",
    "    ProxyCommand sshpass -f cleartext-bastion-password ssh -F config jump@bastion -W %h:%p \n",
    "\n",
    "```\n",
    "\n",
    "\n",
    "## Connect to the bastion\n",
    "\n",
    "Test connectivity to the bastion. Check your host ips and modify  [`ssh_config`](/edit/notebooks/exercise-06/ssh_config)  accordingly.\n",
    "\n",
    "** Replace ALL bastion occurrencies, including the one below the BEWARE note**"
   ]
  },
  {
   "cell_type": "code",
   "execution_count": null,
   "metadata": {},
   "outputs": [],
   "source": [
    "fmt=r'{{.NetworkSettings.IPAddress}}'\n",
    "!docker  -H tcp://172.17.0.1:2375 inspect  ansible101_bastion_1 --format {fmt} # pass variables *before* commands ;)"
   ]
  },
  {
   "attachments": {},
   "cell_type": "markdown",
   "metadata": {},
   "source": [
    "#### Exercise\n",
    "\n",
    "Write the [ssh-copy-id.yml](/edit/notebooks/exercise-06/ssh-copy-id.yml) playbook to install an ssh key to the bastion.\n",
    "\n",
    "\n",
    "Bastion credentials are:\n",
    "\n",
    "  - user: `root`\n",
    "  - password `root`\n",
    " \n",
    "Try to do it without watching the previous exercises:\n",
    "\n",
    "  - modify the empty [`ansible.cfg`](/edit/notebooks/exercise-06/ansible.cfg)\n",
    "      * referencing a pin file \n",
    "      * passing [`[ssh_connection]`](http://docs.ansible.com/ansible/intro_configuration.html#openssh-specific-settings) arguments to avoid ssh key mismatches\n",
    "      * pointing to the local inventory\n",
    "  - store credentials in the encrypted [`vault.yml`](/edit/notebooks/exercise-06/vault.yml). \n",
    "  - provide an [`inventory`](/edit/notebooks/exercise-06/inventory) file \n",
    "\n",
    "You can reuse the old id_ansible key or:\n",
    "\n",
    "  - create a new one and adjust the reference in [` ssh_config`](/edit/notebooks/exercise-06/ssh_config) \n",
    "  \n",
    "Hint:\n",
    "\n",
    "  - if you provide an IdentityFile, password authentication won't work on the `bastion` node;\n",
    "  - you *must* copy ssh id file using password authentication and eventually clean up your known_host file"
   ]
  },
  {
   "cell_type": "code",
   "execution_count": null,
   "metadata": {},
   "outputs": [],
   "source": [
    "# Use this cell to create the pin file and then encrypt the vault"
   ]
  },
  {
   "cell_type": "code",
   "execution_count": null,
   "metadata": {},
   "outputs": [],
   "source": [
    "# Use this cell to test/run  the playbook. You can --limit the execution to the bastion host only."
   ]
  },
  {
   "cell_type": "code",
   "execution_count": null,
   "metadata": {},
   "outputs": [],
   "source": [
    "!ssh -Fssh_config bastion hostname"
   ]
  },
  {
   "attachments": {},
   "cell_type": "markdown",
   "metadata": {},
   "source": [
    "# ansible.cfg and ssh_config\n",
    "\n",
    "In the previous exercise, we used the `[ssh_connection]` stanza to configure ssh connections.\n",
    "\n",
    "We can instead just set\n",
    "\n",
    "```\n",
    "[ssh_connection]\n",
    "ssh_args = -F ssh_config\n",
    "```\n",
    "\n",
    "Write everything in ssh_config.\n",
    "\n",
    "\n",
    "Connecting via bastion in ansible enforcing multiple references to ssh_config"
   ]
  },
  {
   "attachments": {},
   "cell_type": "markdown",
   "metadata": {},
   "source": [
    "#### Exercise\n",
    "\n",
    "Uncomment the last lines of  [` ssh_config`](/edit/notebooks/exercise-06/ssh_config) and try to use bastion for connecting to the other hosts\n",
    "  "
   ]
  },
  {
   "cell_type": "code",
   "execution_count": null,
   "metadata": {},
   "outputs": [],
   "source": [
    "fmt=r'{{.NetworkSettings.IPAddress}}'\n",
    "!docker  -H tcp://172.17.0.1:2375 inspect  ansible101_web_1 --format {fmt} # pass variables *before* commands ;)"
   ]
  },
  {
   "cell_type": "code",
   "execution_count": null,
   "metadata": {},
   "outputs": [],
   "source": [
    "!ssh -F ssh_config  root@172.17.0.4 ip -4 -o a  # get host ip"
   ]
  },
  {
   "attachments": {},
   "cell_type": "markdown",
   "metadata": {},
   "source": [
    "#### Exercise\n",
    "\n",
    "Configure your `ansible.cfg` so that every web host is accessed via the bastion.\n",
    "\n",
    "  - recycle your dynamic inventory script to access web hosts\n",
    "  - your id_ansible key should already be on your web hosts \n",
    "  - use ansible -m ping to check host connectivity\n",
    "  - run `ps -ef | grep ssh` on your docker host to check all the `ProxyCommand` processes."
   ]
  },
  {
   "cell_type": "code",
   "execution_count": null,
   "metadata": {},
   "outputs": [],
   "source": []
  }
 ],
 "metadata": {
  "kernelspec": {
   "display_name": "Python 2",
   "language": "python",
   "name": "python2"
  },
  "language_info": {
   "codemirror_mode": {
    "name": "ipython",
    "version": 2
   },
   "file_extension": ".py",
   "mimetype": "text/x-python",
   "name": "python",
   "nbconvert_exporter": "python",
   "pygments_lexer": "ipython2",
   "version": "2.7.13"
  }
 },
 "nbformat": 4,
 "nbformat_minor": 2
}
