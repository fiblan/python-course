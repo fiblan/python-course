{
 "cells": [
  {
   "attachments": {},
   "cell_type": "markdown",
   "metadata": {},
   "source": [
    "# My first project - using vaults\n",
    "\n",
    "When creating a project, we start defining the infrastructure layout via two files:\n",
    "\n",
    "  - ansible.cfg\n",
    "  - inventory\n",
    "\n",
    "\n",
    "We're going to describe the following setup:\n",
    "\n",
    "  - direct access to client machines (eg. no bastion)\n",
    "  - one `inventory` file\n",
    "  - no host_key_check\n",
    "  - no retry files\n",
    "  - client machine username/password is `root:root`\n",
    "  - no public key is installed by default\n",
    "\n"
   ]
  },
  {
   "cell_type": "code",
   "execution_count": null,
   "metadata": {},
   "outputs": [],
   "source": [
    "cd /notebooks/exercise-01/"
   ]
  },
  {
   "attachments": {},
   "cell_type": "markdown",
   "metadata": {},
   "source": [
    "## Preparation\n",
    "\n",
    "The first steps include creating:\n",
    "\n",
    " - all secret files (ssh identity, vault pin file)\n",
    " - ansible.cfg (the deployment descriptor) \n",
    " - and the inventory."
   ]
  },
  {
   "cell_type": "code",
   "execution_count": null,
   "metadata": {},
   "outputs": [],
   "source": [
    "# At first create a proper ssh key for the project\n",
    "! rm id_ansible.pub id_ansible -rf"
   ]
  },
  {
   "attachments": {},
   "cell_type": "markdown",
   "metadata": {},
   "source": [
    "Now create a new ssh key for the project:\n",
    "\n",
    "- the default name is `id_ansible`;\n",
    "- the algorithm is `ed25519`, which is the most efficient one. For further information on ed25519 see [RFC8032](https://datatracker.ietf.org/doc/html/rfc8032).\n",
    "\n",
    "\n"
   ]
  },
  {
   "cell_type": "code",
   "execution_count": null,
   "metadata": {},
   "outputs": [],
   "source": [
    "! test -f id_ansible || ssh-keygen -q -t ed25519 -f id_ansible  -N ''"
   ]
  },
  {
   "cell_type": "code",
   "execution_count": null,
   "metadata": {},
   "outputs": [],
   "source": [
    "# Use the `lookup` plugin to create a password file.\n",
    "!ansible localhost -m copy -a \"content='{{ lookup('password', '/dev/null length=20 chars=ascii_letters,digits') }}' dest=$PWD/.pin\""
   ]
  },
  {
   "cell_type": "code",
   "execution_count": null,
   "metadata": {},
   "outputs": [],
   "source": [
    "# Let's show the password :)\n",
    "! cat .pin"
   ]
  },
  {
   "cell_type": "code",
   "execution_count": null,
   "metadata": {},
   "outputs": [],
   "source": [
    "# then prepare a deployment descriptor referencing the .pin file\n",
    "!cat ansible.cfg"
   ]
  },
  {
   "attachments": {},
   "cell_type": "markdown",
   "metadata": {},
   "source": [
    "#### Exercise\n",
    "\n",
    "What is the meaning of the `-q` and `-N` options of `ssh-keygen`?\n",
    "\n",
    "Hint: open a [terminal](/terminals/man) and use `man ssh-keygen`.\n"
   ]
  },
  {
   "attachments": {},
   "cell_type": "markdown",
   "metadata": {},
   "source": [
    "#### Exercise\n",
    "\n",
    " - use ansible docs or the web to comment properly all the [ansible.cfg](/edit/notebooks/exercise-01/ansible.cfg) params"
   ]
  },
  {
   "cell_type": "code",
   "execution_count": null,
   "metadata": {},
   "outputs": [],
   "source": [
    "# And in the end, the inventory. \n",
    "!cat inventory"
   ]
  },
  {
   "attachments": {},
   "cell_type": "markdown",
   "metadata": {},
   "source": [
    "- use the `copy` module to generate the `vault.yaml` file with the following content\n",
    "\n",
    "```yaml\n",
    "root_password: <a random password generated via the lookup plugin>\n",
    "```"
   ]
  },
  {
   "cell_type": "code",
   "execution_count": null,
   "metadata": {},
   "outputs": [],
   "source": [
    "# Solution\n",
    "!ansible localhost -mcopy \\\n",
    "    -a \"content='root_password: {{lookup('password','/dev/null')}}' dest=$PWD/vault.yaml\""
   ]
  },
  {
   "attachments": {},
   "cell_type": "markdown",
   "metadata": {},
   "source": [
    "\n",
    "\n",
    "- use the ansible_connection=docker method specified in `inventory.docker` to copy the ssh key to the docker containers. Without this, the ssh key will not be available to the docker containers and you cannot access them via ssh.\n",
    "\n",
    "In real infrastructures, the ssh keys are usually provisioned at boot.\n",
    "\n",
    "[![](https://mermaid.ink/img/pako:eNp1U1Fr2zAQ_itCDyMFK8xKnLmmFArdw6CFsr3NCkORLo2pLQVJbpsl-e87W3bTdBQ_6O6-T3efPll7qqwGWlDGmDChCjUU5Mb4alUDUdYYUKGyhjQQNlZ7YXreo5PbDbn7KYwwvl3FVFv1BK6MC1nLVbGWLGbLd7St1CXBgkpL7B9kZcClSO_Yql1BB_ETxM8hn04mPx7IuMFAeLHuib1UDvTFBeK8x_lnOBgtTBSl_WQSIyEM7vlkx0Auy9uR68E998EozT76D-ddDpN8StiUXROVdtKGmJ_ZJqPZf05mI-g3rDLPYIJ1uxIz0ljd4o3EgTUOWY7K3hEH69-45zfQC_rQmzB2fcDKgaDSL8Tz_7v2lFg8kNG5k4cdPMSku1TsovCgjB2u3ug0oQ24RlYaf7Q9-kYEDRtoQNACQw1r2dZBUGGOSG23Wgb4riucTovgWkiobIP9tTNqzCPntpLoYUPxmLXH6laa39Y2IwlTWuzpKy3SLJ_OUz6bZXnOZxn_xhO6owW_XEwX2eUiz_LZfJ7hd0zo377D12mWUOg13McH0r-T4z9VnhsC?type=png)](https://mermaid.live/edit#pako:eNp1U1Fr2zAQ_itCDyMFK8xKnLmmFArdw6CFsr3NCkORLo2pLQVJbpsl-e87W3bTdBQ_6O6-T3efPll7qqwGWlDGmDChCjUU5Mb4alUDUdYYUKGyhjQQNlZ7YXreo5PbDbn7KYwwvl3FVFv1BK6MC1nLVbGWLGbLd7St1CXBgkpL7B9kZcClSO_Yql1BB_ETxM8hn04mPx7IuMFAeLHuib1UDvTFBeK8x_lnOBgtTBSl_WQSIyEM7vlkx0Auy9uR68E998EozT76D-ddDpN8StiUXROVdtKGmJ_ZJqPZf05mI-g3rDLPYIJ1uxIz0ljd4o3EgTUOWY7K3hEH69-45zfQC_rQmzB2fcDKgaDSL8Tz_7v2lFg8kNG5k4cdPMSku1TsovCgjB2u3ug0oQ24RlYaf7Q9-kYEDRtoQNACQw1r2dZBUGGOSG23Wgb4riucTovgWkiobIP9tTNqzCPntpLoYUPxmLXH6laa39Y2IwlTWuzpKy3SLJ_OUz6bZXnOZxn_xhO6owW_XEwX2eUiz_LZfJ7hd0zo377D12mWUOg13McH0r-T4z9VnhsC)"
   ]
  },
  {
   "cell_type": "code",
   "execution_count": null,
   "metadata": {},
   "outputs": [],
   "source": []
  },
  {
   "cell_type": "code",
   "execution_count": null,
   "metadata": {},
   "outputs": [],
   "source": [
    "# Provision the ssh keys using the docker_connector\n",
    "!cat inventory.docker\n",
    "!ansible docker -i inventory.docker -m shell \\\n",
    "       -a \"echo 'root:{{root_password}}' | chpasswd\" \\\n",
    "       -e@vault.yaml "
   ]
  },
  {
   "attachments": {},
   "cell_type": "markdown",
   "metadata": {},
   "source": [
    "## Gotta ping 'em all\n",
    "\n",
    "Our Ansible environment is all set, but we still need to check if we can reach all the hosts.\n",
    "\n",
    "Let's ping all hosts, eventually adjusting the ip ranges in the [inventory](/edit/notebooks/exercise-01/inventory).\n",
    "\n",
    "Open a [terminal](/terminals/man) and use `docker inspect` to retrieve the container IPs."
   ]
  },
  {
   "cell_type": "code",
   "execution_count": null,
   "metadata": {},
   "outputs": [],
   "source": [
    "# Let's get an error: root_password is UNDEFINED. \n",
    "!ansible -m ping all"
   ]
  },
  {
   "attachments": {},
   "cell_type": "markdown",
   "metadata": {},
   "source": [
    "## Vaults\n",
    "\n",
    "We now ensure that everything is encrypted and we're able to connect to some hosts"
   ]
  },
  {
   "cell_type": "code",
   "execution_count": null,
   "metadata": {},
   "outputs": [],
   "source": [
    "# A vault is just a yaml file containing a dictionary of secrets.\n",
    "#  We can put here as many information as we want, but for now\n",
    "#  just set a `root_password` generated using the lookup plugin.\n",
    "!cat vault.yaml"
   ]
  },
  {
   "cell_type": "code",
   "execution_count": null,
   "metadata": {},
   "outputs": [],
   "source": [
    "# We need to encrypt it. \n",
    "!ansible-vault encrypt vault.yml\n"
   ]
  },
  {
   "attachments": {},
   "cell_type": "markdown",
   "metadata": {},
   "source": [
    "#### Exercise\n",
    "\n",
    "  - which secret is used to encrypt vault.yml ?\n",
    "  - where is it specified?\n",
    "  - what happens if you try to re-encrypt the vault.yml"
   ]
  },
  {
   "cell_type": "code",
   "execution_count": null,
   "metadata": {},
   "outputs": [],
   "source": [
    "# And show the anatomy of the vault.\n",
    "!cat vault.yaml"
   ]
  },
  {
   "cell_type": "code",
   "execution_count": null,
   "metadata": {},
   "outputs": [],
   "source": [
    "# Can we decrypt it?\n",
    "!ansible-vault view vault.yaml"
   ]
  },
  {
   "cell_type": "code",
   "execution_count": null,
   "metadata": {},
   "outputs": [],
   "source": [
    "!ansible -m ping all -e@vault.yaml"
   ]
  },
  {
   "attachments": {},
   "cell_type": "markdown",
   "metadata": {},
   "source": [
    "#### Exercise\n",
    "\n",
    " - How can you pass the vault password file from the command line?\n",
    " - Run ansible in verbose mode and check how ansible pass the password to ssh: does it use some helper program?"
   ]
  },
  {
   "cell_type": "code",
   "execution_count": null,
   "metadata": {},
   "outputs": [],
   "source": [
    "# Write answers here"
   ]
  },
  {
   "attachments": {},
   "cell_type": "markdown",
   "metadata": {},
   "source": [
    "## SSH Authentication\n",
    "\n",
    "We want to switch from password to ssh authentication. Create a playbook to install ssh keys: it reads the password from vault.yaml\n"
   ]
  },
  {
   "cell_type": "code",
   "execution_count": 28,
   "metadata": {},
   "outputs": [
    {
     "name": "stdout",
     "output_type": "stream",
     "text": [
      "cat: copy-key.yml: File o directory non esistente\n"
     ]
    }
   ],
   "source": [
    "!cat copy-key.yml"
   ]
  },
  {
   "cell_type": "code",
   "execution_count": null,
   "metadata": {},
   "outputs": [],
   "source": [
    "!cat id_ansible.pub"
   ]
  },
  {
   "cell_type": "code",
   "execution_count": null,
   "metadata": {},
   "outputs": [],
   "source": [
    "!ansible-playbook copy-key.yml"
   ]
  },
  {
   "attachments": {},
   "cell_type": "markdown",
   "metadata": {
    "solution": "shown",
    "solution_first": true
   },
   "source": [
    "#### Exercise\n",
    "\n",
    "Comment out the ansible_password field  [in `inventory` here](/edit/notebooks/exercise-01/inventory)\n",
    "\n",
    "  - guess the expected output without running ansible\n",
    "  \n",
    "  "
   ]
  },
  {
   "cell_type": "code",
   "execution_count": null,
   "metadata": {
    "solution": "shown"
   },
   "outputs": [],
   "source": [
    "# Running in debug mode we can see all ssh arguments injected via anisble. Discuss the DEBUG output       \n",
    "!sed -i 's/ansible_password/#ansible_password/' inventory\n",
    "!ansible -vvv -m ping all"
   ]
  },
  {
   "cell_type": "code",
   "execution_count": null,
   "metadata": {
    "code_folding": []
   },
   "outputs": [],
   "source": [
    "# Use this cell for the exercise"
   ]
  },
  {
   "attachments": {},
   "cell_type": "markdown",
   "metadata": {},
   "source": [
    "#### Exercise\n",
    "\n",
    "Run ansible in verbose mode to se all the injected ssh argument. If the output is too verbose, reduce it either with:\n",
    "\n",
    "- `--limit ipaddress` to contact only one node\n",
    "- host indexing/subscript eg: `all[0]` "
   ]
  },
  {
   "attachments": {},
   "cell_type": "markdown",
   "metadata": {},
   "source": [
    "# Discuss vaults for:\n",
    "- common secrets to be shared on a repo\n",
    "- private secrets to reside on local PC"
   ]
  }
 ],
 "metadata": {
  "kernelspec": {
   "display_name": "Python 2",
   "language": "python",
   "name": "python2"
  },
  "language_info": {
   "codemirror_mode": {
    "name": "ipython",
    "version": 2
   },
   "file_extension": ".py",
   "mimetype": "text/x-python",
   "name": "python",
   "nbconvert_exporter": "python",
   "pygments_lexer": "ipython2",
   "version": "2.7.14"
  }
 },
 "nbformat": 4,
 "nbformat_minor": 2
}
