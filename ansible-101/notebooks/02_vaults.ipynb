{
 "cells": [
  {
   "cell_type": "markdown",
   "metadata": {},
   "source": [
    "# My first project - using vaults\n",
    "\n",
    "When creating a project, we start defining the infrastructure layout via two files:\n",
    "\n",
    "  - ansible.cfg\n",
    "  - inventory\n",
    "\n",
    "\n",
    "We're going to describe the following setup:\n",
    "\n",
    "  - direct access to client machines (eg. no bastion)\n",
    "  - one `inventory` file\n",
    "  - no host_key_check\n",
    "  - no retry files\n",
    "  - client machine username/password is `root:root`\n",
    "  - no public key is installed by default\n",
    "\n"
   ]
  },
  {
   "cell_type": "code",
   "execution_count": 7,
   "metadata": {},
   "outputs": [
    {
     "name": "stdout",
     "output_type": "stream",
     "text": [
      "/notebooks/exercise-01\n"
     ]
    }
   ],
   "source": [
    "cd /notebooks/exercise-01/"
   ]
  },
  {
   "cell_type": "markdown",
   "metadata": {},
   "source": [
    "## Preparation\n",
    "\n",
    "The first steps include creating:\n",
    "\n",
    " - all secret files (ssh identity, vault pin file)\n",
    " - ansible.cfg (the deployment descriptor) \n",
    " - and the inventory."
   ]
  },
  {
   "cell_type": "code",
   "execution_count": 8,
   "metadata": {},
   "outputs": [],
   "source": [
    "# At first create a proper ssh key for the project\n",
    "! rm id_ansible.pub id_ansible -rf"
   ]
  },
  {
   "cell_type": "markdown",
   "metadata": {},
   "source": [
    "Now create a new ssh key for the project:\n",
    "\n",
    "- the default name is `id_ansible`;\n",
    "- the algorithm is `ed25519`, which is the most efficient one. For further information on ed25519 see [RFC8032](https://datatracker.ietf.org/doc/html/rfc8032).\n",
    "\n",
    "\n"
   ]
  },
  {
   "cell_type": "code",
   "execution_count": null,
   "metadata": {},
   "outputs": [],
   "source": [
    "! test -f id_ansible || ssh-keygen -q -t ed25519 -f id_ansible  -N ''"
   ]
  },
  {
   "cell_type": "code",
   "execution_count": null,
   "metadata": {},
   "outputs": [],
   "source": [
    "# Now a `secret` password ;) We'll reference this in ansible.cfg\n",
    "!echo secret > .pin    "
   ]
  },
  {
   "cell_type": "code",
   "execution_count": null,
   "metadata": {},
   "outputs": [],
   "source": [
    "# then prepare a deployment descriptor referencing the .pin file\n",
    "!cat ansible.cfg"
   ]
  },
  {
   "cell_type": "markdown",
   "metadata": {},
   "source": [
    "#### Exercise\n",
    "\n",
    "What is the meaning of the `-q` and `-N` options of `ssh-keygen`?\n",
    "\n",
    "Hint: open a [terminal](/terminals/man) and use `man ssh-keygen`.\n"
   ]
  },
  {
   "cell_type": "markdown",
   "metadata": {},
   "source": [
    "#### Exercise\n",
    "\n",
    " - use ansible docs or the web to comment properly all the [ansible.cfg](/edit/notebooks/exercise-01/ansible.cfg) params"
   ]
  },
  {
   "cell_type": "code",
   "execution_count": null,
   "metadata": {},
   "outputs": [],
   "source": [
    "# And in the end, the inventory. \n",
    "!cat inventory"
   ]
  },
  {
   "cell_type": "markdown",
   "metadata": {},
   "source": [
    "## Gotta ping 'em all\n",
    "\n",
    "Everything is set up now. \n",
    "\n",
    "Let's ping all hosts, eventually adjusting the ip ranges in the [inventory](/edit/notebooks/exercise-01/inventory).\n",
    "\n",
    "Open a [terminal](/terminals/man) and use `docker inspect` to retrieve the container IPs."
   ]
  },
  {
   "cell_type": "code",
   "execution_count": null,
   "metadata": {},
   "outputs": [],
   "source": [
    "# Let's get an error: root_password is UNDEFINED. \n",
    "!ansible -m ping all\n"
   ]
  },
  {
   "cell_type": "markdown",
   "metadata": {},
   "source": [
    "## Vaults\n",
    "\n",
    "We now ensure that everything is encrypted and we're able to connect to some hosts"
   ]
  },
  {
   "cell_type": "code",
   "execution_count": null,
   "metadata": {},
   "outputs": [],
   "source": [
    "# A vault is just a yaml file containing a dictionary of secrets.\n",
    "#  We can put here as many information as we want, but for now\n",
    "#  just put the `root_password`.\n",
    "\n",
    "!echo \"root_password: root\" > vault.yml"
   ]
  },
  {
   "cell_type": "code",
   "execution_count": null,
   "metadata": {},
   "outputs": [],
   "source": [
    "# We need to encrypt it. \n",
    "!ansible-vault encrypt vault.yml"
   ]
  },
  {
   "cell_type": "markdown",
   "metadata": {},
   "source": [
    "#### Exercise\n",
    "\n",
    "  - which secret is used to encrypt vault.yml ?\n",
    "  - where is it specified?\n",
    "  - what happens if you try to re-encrypt the vault.yml"
   ]
  },
  {
   "cell_type": "code",
   "execution_count": null,
   "metadata": {},
   "outputs": [],
   "source": [
    "# And show the anatomy of the vault.\n",
    "!cat vault.yml"
   ]
  },
  {
   "cell_type": "code",
   "execution_count": null,
   "metadata": {},
   "outputs": [],
   "source": [
    "# Can we decrypt it?\n",
    "!ansible-vault view vault.yml"
   ]
  },
  {
   "cell_type": "code",
   "execution_count": null,
   "metadata": {},
   "outputs": [],
   "source": [
    "!ansible -m ping all -e@vault.yml"
   ]
  },
  {
   "cell_type": "markdown",
   "metadata": {},
   "source": [
    "#### Exercise\n",
    "\n",
    " - How can you pass the vault password file from the command line?\n",
    " - Run ansible in verbose mode and check how ansible pass the password to ssh: does it use some helper program?"
   ]
  },
  {
   "cell_type": "code",
   "execution_count": null,
   "metadata": {},
   "outputs": [],
   "source": [
    "# Write answers here"
   ]
  },
  {
   "cell_type": "markdown",
   "metadata": {},
   "source": [
    "## SSH Authentication\n",
    "\n",
    "We want to switch from password to ssh authentication. Create a playbook to install ssh keys: it reads the password from vault.yml\n"
   ]
  },
  {
   "cell_type": "code",
   "execution_count": null,
   "metadata": {},
   "outputs": [],
   "source": [
    "!cat copy-key.yml"
   ]
  },
  {
   "cell_type": "code",
   "execution_count": null,
   "metadata": {},
   "outputs": [],
   "source": [
    "!cat id_ansible.pub"
   ]
  },
  {
   "cell_type": "code",
   "execution_count": null,
   "metadata": {},
   "outputs": [],
   "source": [
    "!ansible-playbook copy-key.yml"
   ]
  },
  {
   "cell_type": "markdown",
   "metadata": {
    "solution": "shown",
    "solution_first": true
   },
   "source": [
    "#### Exercise\n",
    "\n",
    "Comment out the ansible_password field  [in `inventory` here](/edit/notebooks/exercise-01/inventory)\n",
    "\n",
    "  - guess the expected output without running ansible\n",
    "  \n",
    "  "
   ]
  },
  {
   "cell_type": "code",
   "execution_count": null,
   "metadata": {
    "solution": "shown"
   },
   "outputs": [],
   "source": [
    "# Running in debug mode we can see all ssh arguments injected via anisble. Discuss the DEBUG output       \n",
    "!sed -i 's/ansible_password/#ansible_password/' inventory\n",
    "!ansible -vvv -m ping all"
   ]
  },
  {
   "cell_type": "code",
   "execution_count": null,
   "metadata": {
    "code_folding": []
   },
   "outputs": [],
   "source": [
    "# Use this cell for the exercise"
   ]
  },
  {
   "cell_type": "markdown",
   "metadata": {},
   "source": [
    "#### Exercise\n",
    "\n",
    "Run ansible in verbose mode to se all the injected ssh argument. If the output is too verbose, reduce it either with:\n",
    "    - `--limit ipaddress` to contact only one node\n",
    "    - host indexing/subscript eg: `all[0]` "
   ]
  },
  {
   "cell_type": "markdown",
   "metadata": {},
   "source": [
    "# Discuss vaults for:\n",
    "- common secrets to be shared on a repo\n",
    "- private secrets to reside on local PC"
   ]
  }
 ],
 "metadata": {
  "kernelspec": {
   "display_name": "Python 2",
   "language": "python",
   "name": "python2"
  },
  "language_info": {
   "codemirror_mode": {
    "name": "ipython",
    "version": 2
   },
   "file_extension": ".py",
   "mimetype": "text/x-python",
   "name": "python",
   "nbconvert_exporter": "python",
   "pygments_lexer": "ipython2",
   "version": "2.7.14"
  }
 },
 "nbformat": 4,
 "nbformat_minor": 2
}
