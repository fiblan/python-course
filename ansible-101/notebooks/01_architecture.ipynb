{
 "cells": [
  {
   "attachments": {},
   "cell_type": "markdown",
   "metadata": {},
   "source": [
    "# Ansible is\n",
    "\n",
    "\n",
    " - configuration manager \n",
    " - simple \n",
    " - extensible via modules\n",
    " - written in python\n",
    " - broad community\n",
    " - many external tools\n",
    " - playbook repository\n",
    " - used by openstack & tonns of project\n",
    " \n",
    " \n"
   ]
  },
  {
   "attachments": {},
   "cell_type": "markdown",
   "metadata": {},
   "source": [
    " # Configuration Manager\n",
    " \n",
    "Explain infrastructure as code (e.g., remember `docker-compose`?):\n",
    "\n",
    "- managing data centers through machine-readable definition files;\n",
    "- install, configure, decommission physical and virtual resources;\n",
    "- avoid manual processes;\n",
    "- speed ++, costs --, risk -- (see [Google SRE Book](https://sre.google/workbook/postmortem-culture/) );\n",
    "- declarative (describe the expected state) or imperative (describe the steps) approaches;\n",
    "- push or pull model;\n",
    "\n",
    "[![](https://mermaid.ink/img/pako:eNrNVMFu2zAM_RVBhyEB4sB2Yjfxhh7W9RB0RYclp0U9KDaTGLElT5LbuXH-fZQVdw3QATvuYpP0I_keKetIU5kBTajneUyY3BSQkIXYKq6NqlNTKyBckxsEMdFhdopXe_L1OxNMZPA0GDD6QWx09dE9tzzZcq_WoIgzC14ZWb2FsC7xbNPh0Ba-Jq2DWzpeVReFp-BnDdog2rrk7LZoVHI9-INGgA3p3EjVoKNTlVdGo2WgrApuwNp7qY0ePrpeIHa5AKvAWQSVkfYaYQ93Lckv5HdkLaD9hN_vHto-uU8de7LdgSEZN7wli9Xyfm0fZ_k4iKfXWeyAK40cdL1xY3Q11gt-Q25duUsgF7xodK672ZMnXuTYJZfimO4hPZxcOIOqkE0JwlhSmZX12uBSy_pys9ggyxWktiJZfcZBK5mtGf2Gr7qLouJ3ZLzj9Dg7hA3XvY6_uD1agHmW6uA9I4uM_GOM0Ue7Wm2Q6codkP-T43kXRS4OS9MUQCYERy8PkFjEm3jYx3cKADPoiJagSp5n-GMemSCEUbOHEhhN0Mxgy-vCMMrECaF1hZThNrPnnya4WxhRXhu5bETa-w7zJed4KkqKdAuN0YqLH1KWPQhdmhzpL5oE0-l46kdR4E_DyWzuz0e0oUk4j8ZxNI8nYRyH4Sy4Oo3oS5fvj-MgCv0oiGdX4dSP_WBEoSN0726X7pI5_QYwkpLJ?type=png)](https://mermaid.live/edit#pako:eNrNVMFu2zAM_RVBhyEB4sB2Yjfxhh7W9RB0RYclp0U9KDaTGLElT5LbuXH-fZQVdw3QATvuYpP0I_keKetIU5kBTajneUyY3BSQkIXYKq6NqlNTKyBckxsEMdFhdopXe_L1OxNMZPA0GDD6QWx09dE9tzzZcq_WoIgzC14ZWb2FsC7xbNPh0Ba-Jq2DWzpeVReFp-BnDdog2rrk7LZoVHI9-INGgA3p3EjVoKNTlVdGo2WgrApuwNp7qY0ePrpeIHa5AKvAWQSVkfYaYQ93Lckv5HdkLaD9hN_vHto-uU8de7LdgSEZN7wli9Xyfm0fZ_k4iKfXWeyAK40cdL1xY3Q11gt-Q25duUsgF7xodK672ZMnXuTYJZfimO4hPZxcOIOqkE0JwlhSmZX12uBSy_pys9ggyxWktiJZfcZBK5mtGf2Gr7qLouJ3ZLzj9Dg7hA3XvY6_uD1agHmW6uA9I4uM_GOM0Ue7Wm2Q6codkP-T43kXRS4OS9MUQCYERy8PkFjEm3jYx3cKADPoiJagSp5n-GMemSCEUbOHEhhN0Mxgy-vCMMrECaF1hZThNrPnnya4WxhRXhu5bETa-w7zJed4KkqKdAuN0YqLH1KWPQhdmhzpL5oE0-l46kdR4E_DyWzuz0e0oUk4j8ZxNI8nYRyH4Sy4Oo3oS5fvj-MgCv0oiGdX4dSP_WBEoSN0726X7pI5_QYwkpLJ)\n"
   ]
  },
  {
   "attachments": {},
   "cell_type": "markdown",
   "metadata": {},
   "source": [
    "\n",
    "Trick: use a light development environment based on the introductory session.\n",
    "\n",
    "[![](https://mermaid.ink/img/pako:eNp1Uk1v2zAM_SsCD0MCxEVqp67jFru0OwxoL91tVjEoNpMYtSVNH0HdJP99lK1g62EwRJDy4-MjqSPUqkEoIUkSLl3rOizZd7k1wjrja-cNMmHZA4G4HDE7I_SePb1wGb4GD7MZhy9yY_XdZLei3IrEWzRscjuhndL_QviYGH2YzwOT9ZuJ2qBW1QsZ2zplhkgSZJK7Cf6uda_E0BqsXavkKCZk_apmuhPDRqk3OydErxrfoa1m0bnk68HtlQwIlE3sInT3lZ3-Fku077rE4G-P1pHgELIYnkaRUwrKXSvxUwdEh_JQPeKB_h4-TYFq1qqn3rB6UNIJSjWW2KOyRtVv49z-G71GtVF5JGO0mtP9KVRmXMICejS9aBta7JFLxji4PfbIoSS3wa3wnePA5ZmgXjfC4bcmTBtK2jouQHinfgyyvsQT5rEV1GAPpKazdKuF_KlUfwFRCOUR3qG8zourPF2u8tt0nRbrfFUsYKDroriis86DSW-y2-y8gI-RYUn4LE2z6_Rmna3y5ZIycJT0PL3P8Zme_wCRge2O?type=png)](https://mermaid.live/edit#pako:eNp1Uk1v2zAM_SsCD0MCxEVqp67jFru0OwxoL91tVjEoNpMYtSVNH0HdJP99lK1g62EwRJDy4-MjqSPUqkEoIUkSLl3rOizZd7k1wjrja-cNMmHZA4G4HDE7I_SePb1wGb4GD7MZhy9yY_XdZLei3IrEWzRscjuhndL_QviYGH2YzwOT9ZuJ2qBW1QsZ2zplhkgSZJK7Cf6uda_E0BqsXavkKCZk_apmuhPDRqk3OydErxrfoa1m0bnk68HtlQwIlE3sInT3lZ3-Fku077rE4G-P1pHgELIYnkaRUwrKXSvxUwdEh_JQPeKB_h4-TYFq1qqn3rB6UNIJSjWW2KOyRtVv49z-G71GtVF5JGO0mtP9KVRmXMICejS9aBta7JFLxji4PfbIoSS3wa3wnePA5ZmgXjfC4bcmTBtK2jouQHinfgyyvsQT5rEV1GAPpKazdKuF_KlUfwFRCOUR3qG8zourPF2u8tt0nRbrfFUsYKDroriis86DSW-y2-y8gI-RYUn4LE2z6_Rmna3y5ZIycJT0PL3P8Zme_wCRge2O)\n",
    "\n",
    "Ansible uses the push model and supports both declarative and imperative approaches."
   ]
  },
  {
   "attachments": {},
   "cell_type": "markdown",
   "metadata": {
    "solution": "hidden"
   },
   "source": [
    " # Advantages\n",
    " \n",
    " No agents: ansible copies python and all deployment scripts/modules to the target machine via ssh and executes them remotely. Some modules though require that target hosts contain specific python libraries.\n",
    " \n",
    " Jobs are executed in parallel, but you can configure for serialization using different strategies for speed up, rollout or other purposes: (link)\n",
    "  \n",
    " Authentication can be passwordless (ssh/pki, kerberos) or with password.\n",
    " \n",
    " Automation jobs (Playbooks) are described via YAML - a very concise and simple language.\n",
    " You can validate and lint files with yamllint and [ansible-lint](https://github.com/ansible/ansible-lint).\n",
    " \n",
    "```yaml\n",
    "this_is:\n",
    "  a: yaml\n",
    "\n",
    "file:\n",
    "- with dict\n",
    "- a list\n",
    "```\n",
    " \n",
    "Passwords are supported, but SSH keys with ssh-agent are one of the best ways to use Ansible. Though if you want to use Kerberos, that's good too. \n",
    " \n",
    "You have a lot of options! Root logins are not required, you can login as any user, and then su or sudo to any user."
   ]
  },
  {
   "cell_type": "code",
   "execution_count": null,
   "metadata": {
    "solution": "hidden"
   },
   "outputs": [],
   "source": [
    "cd /notebooks/exercise-00/"
   ]
  },
  {
   "cell_type": "code",
   "execution_count": null,
   "metadata": {},
   "outputs": [],
   "source": [
    "# Let's check our ansible directory\n",
    "!tree"
   ]
  },
  {
   "attachments": {},
   "cell_type": "markdown",
   "metadata": {},
   "source": [
    "## ansible.cfg \n",
    "\n",
    "It's the main configuration file. While all ansible are in YAML, `ansible.cfg` is in .ini format. Eg.\n",
    "\n",
    "```\n",
    "# This is a .ini file.\n",
    "[stanza]\n",
    "key = value\n",
    "```\n",
    "\n",
    "Let's check the content of a sample ansible.cfg:\n",
    "\n",
    "  - there's a lot of stuff in there\n",
    "  - there will be more ;)\n",
    "  - for now **let's check only the uncommented ones**."
   ]
  },
  {
   "cell_type": "code",
   "execution_count": null,
   "metadata": {},
   "outputs": [],
   "source": [
    "!cat ansible.cfg"
   ]
  },
  {
   "attachments": {},
   "cell_type": "markdown",
   "metadata": {},
   "source": [
    "## Inventories\n",
    "\n",
    "A simple inventory file contains a static list of nodes to contact.\n",
    "\n",
    "Generally, an [inventory can be static or dynamic](https://docs.ansible.com/ansible/latest/inventory_guide/intro_inventory.html), as we will see in the following lessons.\n",
    "\n"
   ]
  },
  {
   "cell_type": "code",
   "execution_count": null,
   "metadata": {},
   "outputs": [],
   "source": [
    "!cat inventory"
   ]
  },
  {
   "cell_type": "code",
   "execution_count": null,
   "metadata": {},
   "outputs": [],
   "source": [
    "# You can have many inventory files\n",
    "!cat staging"
   ]
  },
  {
   "attachments": {},
   "cell_type": "markdown",
   "metadata": {},
   "source": [
    "## Environment variables\n",
    "\n",
    "**N.B. ansible environment variables are not related with process environment**\n",
    "\n",
    "#### Exercise:\n",
    "\n",
    "- using [the terminal](/terminals/ps) identify the process executing this notebook by the current working directory `/proc/*/cwd`;\n",
    "- check the environment variables of the process with `cat /proc/<pid>/environ | od -a`;\n",
    "\n",
    "You defined your host groups in the environment, eg:\n",
    "\n",
    "  - course\n",
    "  - ansible\n",
    "  - staging\n",
    "  \n",
    "Ansible defines [two default groups: all and ungrouped](http://docs.ansible.com/ansible/latest/intro_inventory.html#default-groups).\n",
    "\n",
    "You can assign variables to all hosts using the `all` group."
   ]
  },
  {
   "cell_type": "code",
   "execution_count": null,
   "metadata": {},
   "outputs": [],
   "source": [
    "# group_vars - a directory containing environment files for various host groups.\n",
    "!tree group_vars"
   ]
  },
  {
   "cell_type": "code",
   "execution_count": null,
   "metadata": {},
   "outputs": [],
   "source": [
    "# I set  env_name in two different files\n",
    "!grep env_name -r group_vars/\n",
    "!cat group_vars/staging"
   ]
  },
  {
   "cell_type": "code",
   "execution_count": null,
   "metadata": {
    "solution": "hidden"
   },
   "outputs": [],
   "source": [
    "# The debug module (-m debug) shows variables' content or dumps messages.\n",
    "#   by default uses the inventory set into ansible.cfg, thus writing\n",
    "!ansible all -m debug -a 'var=env_name'"
   ]
  },
  {
   "attachments": {},
   "cell_type": "markdown",
   "metadata": {
    "solution": "shown",
    "solution_first": true
   },
   "source": [
    "#### Exercise\n",
    "\n",
    "Dump env_name tied to the staging inventory.\n",
    "\n",
    "  - which is the expected output?\n",
    "  - what ties the \"staging\" inventory file to group_vars/staging?\n"
   ]
  },
  {
   "cell_type": "code",
   "execution_count": null,
   "metadata": {
    "code_folding": [
     0
    ],
    "solution": "shown"
   },
   "outputs": [],
   "source": [
    "# Solution\n",
    "!ansible all -i staging -m debug -a 'var=env_name'"
   ]
  },
  {
   "cell_type": "code",
   "execution_count": null,
   "metadata": {},
   "outputs": [],
   "source": [
    "# Use this cell for the exercise"
   ]
  },
  {
   "attachments": {},
   "cell_type": "markdown",
   "metadata": {},
   "source": [
    "#### Exercise\n",
    "\n",
    "- Read the inventory and try to predict the output of the following command\n",
    "- Rename the `staging` inventory file to `foobar`. What happens?\n",
    "- Restore the original name."
   ]
  },
  {
   "cell_type": "code",
   "execution_count": null,
   "metadata": {},
   "outputs": [],
   "source": [
    "#\n",
    "# Read the inventory and try to predict the output of\n",
    "#\n",
    "!ansible course -i staging -m debug -a 'var=proxy_env'"
   ]
  }
 ],
 "metadata": {
  "celltoolbar": "Raw Cell Format",
  "kernelspec": {
   "display_name": "Python 2",
   "language": "python",
   "name": "python2"
  },
  "language_info": {
   "codemirror_mode": {
    "name": "ipython",
    "version": 2
   },
   "file_extension": ".py",
   "mimetype": "text/x-python",
   "name": "python",
   "nbconvert_exporter": "python",
   "pygments_lexer": "ipython2",
   "version": "2.7.14"
  }
 },
 "nbformat": 4,
 "nbformat_minor": 2
}
