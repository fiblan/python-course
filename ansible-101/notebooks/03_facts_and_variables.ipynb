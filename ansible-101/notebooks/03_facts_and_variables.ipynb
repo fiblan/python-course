{
 "cells": [
  {
   "attachments": {},
   "cell_type": "markdown",
   "metadata": {},
   "source": [
    "# Facts and variables\n",
    "#### ([exercise directory](/tree/notebooks/exercise-03))"
   ]
  },
  {
   "cell_type": "code",
   "execution_count": null,
   "metadata": {},
   "outputs": [],
   "source": [
    "cd /notebooks/exercise-03"
   ]
  },
  {
   "attachments": {},
   "cell_type": "markdown",
   "metadata": {},
   "source": [
    "\n",
    "When connecting to an host, ansible creates a dictionary with a huge set of useful informations.\n",
    "\n",
    "This step is named **fact gathering**. \n",
    "\n",
    "You can inspect facts using the `setup` module."
   ]
  },
  {
   "cell_type": "code",
   "execution_count": null,
   "metadata": {},
   "outputs": [],
   "source": [
    "# Let's run the setup module\n",
    "!ansible -i inventory -m setup localhost "
   ]
  },
  {
   "attachments": {},
   "cell_type": "markdown",
   "metadata": {},
   "source": [
    "#### Exercise\n",
    "\n",
    "Run the following command\n",
    "- what does it do?\n",
    "- where's  its output ?\n",
    "- use the json python module to make it readable. **Hint: you need to `import json` to parse the output**"
   ]
  },
  {
   "cell_type": "code",
   "execution_count": null,
   "metadata": {
    "solution": "shown",
    "solution_first": true
   },
   "outputs": [],
   "source": [
    "!ansible >/dev/null -i inventory -m setup localhost --tree host_status"
   ]
  },
  {
   "cell_type": "code",
   "execution_count": null,
   "metadata": {
    "code_folding": [],
    "solution": "shown"
   },
   "outputs": [],
   "source": [
    "# Solution\n",
    "!tree host_status\n",
    "import json\n",
    "ret = json.load(open('host_status/localhost'))\n",
    "f = ret['ansible_facts'] # .keys()\n",
    "f['ansible_all_ipv4_addresses']"
   ]
  },
  {
   "attachments": {},
   "cell_type": "markdown",
   "metadata": {},
   "source": [
    "#### Exercise\n",
    "\n",
    "Using python, `print()` the following information from the output of the previous command:\n",
    "\n",
    "  - hostname\n",
    "  - first ip address\n",
    "  - distribution\n",
    "  - kernel release\n",
    "\n"
   ]
  },
  {
   "cell_type": "code",
   "execution_count": null,
   "metadata": {},
   "outputs": [],
   "source": [
    "# use this cell for the exercise"
   ]
  },
  {
   "attachments": {},
   "cell_type": "markdown",
   "metadata": {},
   "source": [
    "#### Exercise\n",
    "\n",
    "modify [this playbook](/edit/notebooks/exercise-03/get-facts.yml) to dump:\n",
    "\n",
    "  - hostname\n",
    "  - first ip address\n",
    "  - distribution\n",
    "  - kernel release\n"
   ]
  },
  {
   "cell_type": "code",
   "execution_count": null,
   "metadata": {},
   "outputs": [],
   "source": [
    "!ansible-playbook get-facts.yml"
   ]
  },
  {
   "attachments": {},
   "cell_type": "markdown",
   "metadata": {},
   "source": [
    "## Facts vs Variables\n",
    "\n",
    "Essentially, facts are per-host variables gathered by ansible.\n",
    "\n",
    "In the vault lesson, we've seen variables in action loaded it via `-e @variables.yml`.\n",
    "\n",
    "Now we'll define them with \n",
    "\n",
    "```yaml\n",
    "- hosts: localhost\n",
    "  vars:\n",
    "  - one_variable: 1\n",
    "  - another_variable: \n",
    "      that_is: a_map\n",
    "```"
   ]
  },
  {
   "attachments": {},
   "cell_type": "markdown",
   "metadata": {},
   "source": [
    "## Templates & filters\n",
    "\n",
    "Ansible can create files using the [jinja2](http://jinja.pocoo.org/docs/2.10/) template engine.\n",
    "\n",
    "Filters are jinja2 functions to process facts and variables.\n",
    "\n",
    "### jinja2\n",
    "\n",
    "Here's a template example\n",
    "\n",
    "```html\n",
    "<html>\n",
    "  <body>\n",
    "\n",
    "# template.j2\n",
    "This is a static line while the following one\n",
    "expands the ansible_hostname variable {{ ansible_hostname }} \n",
    "\n",
    "Now we process a simple number {{ 3.1415 | int }}\n",
    "\n",
    "Or take the first letter from a variable: {{ ansible_hostname[0] }}\n",
    "  </body>\n",
    "</html>\n",
    "```\n",
    "\n",
    "You can process entries inside a template with filters.\n"
   ]
  },
  {
   "cell_type": "code",
   "execution_count": null,
   "metadata": {},
   "outputs": [],
   "source": [
    "# Use the debug module to process a variable\n",
    "# Modify the command to print the last two letters.\n",
    "!ansible localhost -mdebug -a\"var=ansible_user[:2]\""
   ]
  },
  {
   "cell_type": "code",
   "execution_count": null,
   "metadata": {},
   "outputs": [],
   "source": [
    "!cat vars-and-facts.yml"
   ]
  },
  {
   "cell_type": "code",
   "execution_count": null,
   "metadata": {},
   "outputs": [],
   "source": [
    "# This playbook mixes variables and facts\n",
    "!ansible-playbook vars-and-facts.yml --tags variables"
   ]
  },
  {
   "attachments": {},
   "cell_type": "markdown",
   "metadata": {},
   "source": [
    "#### Extra Exercise\n",
    "\n",
    "Re-run the above playbook disabling fact gathering setting the process environment variable `ANSIBLE_GATHERING=explicit`."
   ]
  },
  {
   "attachments": {},
   "cell_type": "markdown",
   "metadata": {},
   "source": [
    "## filters\n",
    "\n",
    "Inside `{{` braces `}}` you can process expressions using filters.\n",
    "\n",
    "```\n",
    "\n",
    "  - debug:\n",
    "      msg: >\n",
    "        Floor it  {{ ( one + pi ) | int }}\n",
    "\n",
    "\n",
    "```\n",
    "\n",
    "A simple filter using `debug` in a playbook.\n",
    "\n",
    "```\n",
    "- name: We already found a simple filter mapping entries to int\n",
    "  debug: msg=\"{{ 3.1415 | int }}\"\n",
    "```\n",
    "\n",
    "A filter is essentially a function returning a function, like a lambda.\n",
    "\n",
    "```\n",
    "int_filter = lambda x: int(x)\n",
    "```\n",
    "\n",
    "A more complex filter: \n",
    "```\n",
    "- name: This is a getter\n",
    "  debug: \n",
    "    msg: >\n",
    "      {{ ['host1', 'host2'] | \n",
    "            map('extract', hostvars, ['key1', .. , 'keyN']) \n",
    "      }}\n",
    "```\n",
    "\n",
    "where\n",
    "```\n",
    "hostvars_getter = lambda host: hostvars[host]['key1'][..]['keyN']\n",
    "```\n",
    "\n",
    "You can pipeline filters and test them incrementally.\n",
    "\n",
    "We'll see further examples when processing `hostvars`"
   ]
  },
  {
   "cell_type": "code",
   "execution_count": null,
   "metadata": {},
   "outputs": [],
   "source": [
    "# This playbook mixes variables and facts\n",
    "!ansible-playbook vars-and-facts.yml --tags filters"
   ]
  },
  {
   "attachments": {},
   "cell_type": "markdown",
   "metadata": {},
   "source": [
    "#### Exercise\n",
    "\n",
    "Edit [the last section of vars-and-facts.yml](/edit/notebooks/exercise-03/vars-and-facts.yml) so that it shows:\n",
    "    \n",
    "- the free percentage of every block device\n",
    "\n",
    "Hints:\n",
    "    \n",
    "- use the playbook as a reference\n",
    "- iterate thru server facts"
   ]
  },
  {
   "cell_type": "code",
   "execution_count": null,
   "metadata": {},
   "outputs": [],
   "source": [
    "!ansible-playbook vars-and-facts.yml --tags exercise"
   ]
  },
  {
   "cell_type": "code",
   "execution_count": null,
   "metadata": {},
   "outputs": [],
   "source": [
    "# Check the difference between the output of ansible\n",
    "#   and the one of the OS.\n",
    "!df -h"
   ]
  }
 ],
 "metadata": {
  "kernelspec": {
   "display_name": "Python 2",
   "language": "python",
   "name": "python2"
  },
  "language_info": {
   "codemirror_mode": {
    "name": "ipython",
    "version": 2
   },
   "file_extension": ".py",
   "mimetype": "text/x-python",
   "name": "python",
   "nbconvert_exporter": "python",
   "pygments_lexer": "ipython2",
   "version": "2.7.14"
  }
 },
 "nbformat": 4,
 "nbformat_minor": 2
}
