{
 "cells": [
  {
   "attachments": {},
   "cell_type": "markdown",
   "metadata": {},
   "source": [
    "# YAML Pitfalls\n",
    "#### ([exercise directory](/tree/notebooks/exercise-06))"
   ]
  },
  {
   "cell_type": "code",
   "execution_count": null,
   "metadata": {},
   "outputs": [],
   "source": [
    "cd /notebooks/exercise-08/"
   ]
  },
  {
   "attachments": {},
   "cell_type": "markdown",
   "metadata": {},
   "source": [
    "\n",
    "Except for `ansible.cfg` which is an .ini file, all ansible files are in YAML, so  let's spent some time on YAML.\n",
    "\n",
    "At the end of [inventories chapter](/notebooks/notebooks/05_inventories.ipynb) we showed how to use YAML to define list and maps variables.\n",
    "\n",
    "In this chapter we'll go a bit further.\n",
    "\n",
    "## Goals\n",
    "\n",
    "- what's YAML\n",
    "- parsing and dumping yaml with python\n",
    "- strings: quotes and multi-line\n",
    "\n",
    "## See also\n",
    "\n",
    "- [YAML in ansible](https://docs.ansible.com/ansible/latest/reference_appendices/YAMLSyntax.html)\n",
    "- [YAML reference](http://www.yaml.org/spec/1.2/spec.html)"
   ]
  },
  {
   "attachments": {},
   "cell_type": "markdown",
   "metadata": {},
   "source": [
    "## What's YAML?"
   ]
  },
  {
   "cell_type": "code",
   "execution_count": null,
   "metadata": {},
   "outputs": [],
   "source": [
    "import yaml\n",
    "\n",
    "txt = \"\"\"\n",
    "{ \"YAML\": 'is', '~ a superset': 'of JSON'}\n",
    "\"\"\"\n",
    "ret = yaml.safe_load(txt)\n",
    "print(ret)"
   ]
  },
  {
   "cell_type": "code",
   "execution_count": null,
   "metadata": {},
   "outputs": [],
   "source": [
    "# Yoda loves dictionaries ;)\n",
    "print(yaml.safe_dump(ret))"
   ]
  },
  {
   "cell_type": "code",
   "execution_count": null,
   "metadata": {},
   "outputs": [],
   "source": [
    "# Customized dumper\n",
    "print(yaml.safe_dump(ret, default_flow_style=False))"
   ]
  },
  {
   "cell_type": "code",
   "execution_count": null,
   "metadata": {},
   "outputs": [],
   "source": [
    "txt = \"\"\"\n",
    "# Yaml comments starts with hash\n",
    "you: {'can':'use', 'brace':'syntax'}\n",
    "\"\"\"\n",
    "\n",
    "ret = yaml.safe_load(txt)\n",
    "print(yaml.safe_dump(ret))"
   ]
  },
  {
   "cell_type": "code",
   "execution_count": null,
   "metadata": {},
   "outputs": [],
   "source": [
    "print(yaml.safe_dump(ret, default_flow_style=False))"
   ]
  },
  {
   "cell_type": "code",
   "execution_count": null,
   "metadata": {},
   "outputs": [],
   "source": [
    "# Yaml can describe list..\n",
    "print(yaml.safe_load(\"\"\"\n",
    "- tasks:\n",
    "  - contains \n",
    "  - a\n",
    "  - list\n",
    "  - of\n",
    "  - modules\n",
    "\"\"\"))"
   ]
  },
  {
   "cell_type": "code",
   "execution_count": null,
   "metadata": {},
   "outputs": [],
   "source": [
    "# .. and maps / dicts\n",
    "print(yaml.safe_load(\"\"\"\n",
    "- tasks:\n",
    "  - name: \"this dict has two keys: name and debug\"\n",
    "    debug: msg=\"Welcome to Rimini!\"\n",
    "\"\"\"))"
   ]
  },
  {
   "attachments": {},
   "cell_type": "markdown",
   "metadata": {},
   "source": [
    "## Quoting\n",
    "\n",
    "Yaml rocks respect to json at managing texts, but watch out:\n",
    "\n",
    "  - **colon `:` is a special character for yaml: it denotes key names **\n",
    "  - single `{` are special charactes too: yaml is a subset of json\n",
    "\n",
    "Moreover, as we're using Ansible\n",
    "\n",
    "  - ansible expands moustaches  `{{ content }}` as variable "
   ]
  },
  {
   "cell_type": "code",
   "execution_count": null,
   "metadata": {},
   "outputs": [],
   "source": [
    "print(yaml.safe_load(\"\"\"\n",
    "this_works: http://no-spaces-after-colon:8080\n",
    "\"\"\"))\n"
   ]
  },
  {
   "cell_type": "code",
   "execution_count": null,
   "metadata": {},
   "outputs": [],
   "source": [
    "print(yaml.safe_load(\"\"\"this_no: spaces: after colon\"\"\")) \n"
   ]
  },
  {
   "cell_type": "code",
   "execution_count": null,
   "metadata": {},
   "outputs": [],
   "source": [
    "# Quoting is important!\n",
    "print(yaml.safe_load(\"\"\"\n",
    "that: \"works: though\"\n",
    "\"\"\"))"
   ]
  },
  {
   "cell_type": "code",
   "execution_count": null,
   "metadata": {},
   "outputs": [],
   "source": [
    "# This is fine \n",
    "print(yaml.safe_load(\"\"\"\n",
    "this_is: fine={{in_yaml}} but\n",
    "\"\"\"))\n",
    "\n",
    "# but with ansible you should\n",
    "print(yaml.safe_load(\"\"\"\n",
    "always: quote=\"{{ moustaches }}\"\n",
    "\"\"\"))"
   ]
  },
  {
   "attachments": {},
   "cell_type": "markdown",
   "metadata": {},
   "source": [
    "### Long texts\n",
    "\n",
    "Long texts are easy and clean as long as you ***use `>` and `|` instead of quoting***."
   ]
  },
  {
   "cell_type": "code",
   "execution_count": null,
   "metadata": {},
   "outputs": [],
   "source": [
    "text = \"\"\"\n",
    "\n",
    "one_line: \"Rimini is also tied with the great cinema, since it is representative of Federico Fellini's world of fantasy.\"\n",
    "\n",
    "trimmed_one_line: >-\n",
    "  Rimini is also tied with the great cinema,\n",
    "  since it is representative of Federico Fellini's\n",
    "  world of fantasy.\n",
    "\n",
    "always_one_line: >\n",
    "  Rimini is also tied with the great cinema,\n",
    "  since it is representative of Federico Fellini's\n",
    "  world of fantasy.\n",
    "  \n",
    "\"\"\"\n",
    "ret = yaml.load(text)\n",
    "\n",
    "assert ret['one_line'] == ret['trimmed_one_line'] == ret['always_one_line']"
   ]
  },
  {
   "attachments": {},
   "cell_type": "markdown",
   "metadata": {},
   "source": [
    "Or write a multi_line string with proper carets"
   ]
  },
  {
   "cell_type": "code",
   "execution_count": null,
   "metadata": {},
   "outputs": [],
   "source": [
    "text = \"\"\"\n",
    "\n",
    "multi: \"Rimini, or the ancient Ariminum, \n",
    "is an art heritage city with over 22 centuries of history.\n",
    "\n",
    "In 268 B.C., the Roman Senate sent six thousand settlers \n",
    "who founded the city that was meant to be strategically central \n",
    "and to develop to this day.\"\n",
    "\n",
    "# Comments are ignored from parser.\n",
    "\n",
    "preserves: |\n",
    "  Rimini, or the ancient Ariminum, \n",
    "  is an art heritage city with over 22 centuries of history. \n",
    "  \n",
    "  In 268 B.C., the Roman Senate sent six thousand settlers \n",
    "  who founded the city that was meant to be strategically central \n",
    "  and to develop to this day.\n",
    "\n",
    "trims: |-\n",
    "  Rimini, or the ancient Ariminum, \n",
    "  is an art heritage city with over 22 centuries of history. \n",
    "  \n",
    "  In 268 B.C., the Roman Senate sent six thousand settlers \n",
    "  who founded the city that was meant to be strategically central \n",
    "  and to develop to this day.\n",
    "\n",
    "\n",
    "\"\"\"\n",
    "\n",
    "ret = yaml.load(text)\n",
    "print(yaml.dump(ret, default_flow_style=False))\n"
   ]
  },
  {
   "attachments": {},
   "cell_type": "markdown",
   "metadata": {},
   "source": [
    "#### Exercise\n",
    "\n",
    "Use the cell below to find the differences between trims and preserve_caret."
   ]
  },
  {
   "cell_type": "code",
   "execution_count": null,
   "metadata": {},
   "outputs": [],
   "source": [
    "# exercise \n",
    "preserves = ret['preserves']\n",
    "trims = ret['trims']"
   ]
  },
  {
   "attachments": {},
   "cell_type": "markdown",
   "metadata": {},
   "source": [
    "# YAML and Ansible recap\n",
    "\n",
    "## YAML\n",
    "\n",
    " - all files are yaml but inventories (for now) and `ansible.cfg`\n",
    " - prefer `>` and `|` over quote hell\n",
    " - ALWAYS QUOTE `:`\n",
    "\n",
    "## Ansible\n",
    "\n",
    " - QUOTE `with_items`\n",
    " - DON'T QUOTE `when`\n",
    " - use `ansible-lint`\n",
    " - Moustaches are special ansible characters: to verbatim print them, you shoud:\n",
    "    \n",
    "    * open an expansion section \n",
    "    * write the `\"{{\"` string in it\n",
    "    \n",
    "    * eg:  `{{ \"{{\" }} whatever  {{ \"}}\" }}  `"
   ]
  },
  {
   "attachments": {},
   "cell_type": "markdown",
   "metadata": {},
   "source": [
    "#### Exercise\n",
    "\n",
    "Can you find a shorter way to express \n",
    "```\n",
    "{{ \"{{\" }} ansible_hostname  {{ \"}}\" }}\n",
    "```\n",
    "\n",
    "Try it with the `debug module`"
   ]
  },
  {
   "cell_type": "code",
   "execution_count": null,
   "metadata": {},
   "outputs": [],
   "source": []
  },
  {
   "cell_type": "code",
   "execution_count": null,
   "metadata": {},
   "outputs": [],
   "source": []
  },
  {
   "cell_type": "code",
   "execution_count": null,
   "metadata": {},
   "outputs": [],
   "source": []
  }
 ],
 "metadata": {
  "kernelspec": {
   "display_name": "Python 2",
   "language": "python",
   "name": "python2"
  },
  "language_info": {
   "codemirror_mode": {
    "name": "ipython",
    "version": 2
   },
   "file_extension": ".py",
   "mimetype": "text/x-python",
   "name": "python",
   "nbconvert_exporter": "python",
   "pygments_lexer": "ipython2",
   "version": "2.7.13"
  }
 },
 "nbformat": 4,
 "nbformat_minor": 2
}
