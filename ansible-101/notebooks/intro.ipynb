{
 "cells": [
  {
   "cell_type": "markdown",
   "metadata": {
    "solution": "hidden"
   },
   "source": [
    "# Ansible 2 done right\n",
    "\n",
    "Welcome to the Ansible 2 training!\n",
    "\n"
   ]
  },
  {
   "cell_type": "markdown",
   "metadata": {},
   "source": [
    "# Jupyter\n",
    "\n",
    "is the course environment in your browser.\n",
    "\n",
    "It's not a way for not doing your homework ;)\n",
    "\n",
    "You can:\n",
    "\n",
    "  - [open a terminal on the local machine](/terminals/example)\n",
    "  - [edit an existing file](/edit/notebooks/untitled.txt)\n",
    "  - add more cells with `ALT+ENTER`\n",
    "  \n",
    "Go to the [basic python course](/tree/notebooks/rendered_notebooks/python-basic)"
   ]
  },
  {
   "cell_type": "code",
   "execution_count": null,
   "metadata": {},
   "outputs": [],
   "source": [
    "# You can evaluate maths and strings\n",
    "s = 1\n",
    "print(\"a string and the number \" + str(s))\n",
    "\n",
    "s = s + 1\n",
    "print(\"now s is increased \" + str(s))"
   ]
  },
  {
   "cell_type": "markdown",
   "metadata": {},
   "source": [
    "# Git\n",
    "\n",
    "is the powerful versioning system used to distribute this course\n",
    "\n",
    "Go to your [git beginners course](/notebooks/notebooks/rendered_notebooks/git-101/01-git.ipynb)"
   ]
  },
  {
   "cell_type": "markdown",
   "metadata": {},
   "source": [
    "# Docker\n",
    "\n",
    "Docker is a lightweight container environment. Jupyter and all other \"machines\" are based on docker.\n",
    "\n",
    "[Slideshare presentation](https://www.slideshare.net/ioggstream/docker-virtualizzazione-leggera)\n",
    "\n",
    "[Reveal JS](http://www.piumalab.org/dockerslide)\n",
    "\n",
    "Some examples via a [local terminal](/terminals/example)\n",
    "\n",
    "\n",
    "Go to your [docker-101course](/notebooks/notebooks/rendered_notebooks/docker-101/01-docker.ipynb)"
   ]
  },
  {
   "cell_type": "markdown",
   "metadata": {
    "solution": "hidden",
    "solution_first": true
   },
   "source": [
    "#### Exercises\n",
    "\n",
    "Exercise solutions are folded. You can show them clicking on the `+` sign.\n",
    "\n"
   ]
  },
  {
   "cell_type": "code",
   "execution_count": null,
   "metadata": {},
   "outputs": [],
   "source": []
  },
  {
   "cell_type": "markdown",
   "metadata": {
    "solution": "hidden",
    "solution_first": true
   },
   "source": [
    "# Don't do that :D just try and ...\n",
    "![Do your homework](http://s2.quickmeme.com/img/43/438ccdc454bc53dfe79f6190ee43b2be19bd578ad002426efcf90f7a327cedd1.jpg)"
   ]
  },
  {
   "cell_type": "code",
   "execution_count": null,
   "metadata": {
    "solution": "hidden"
   },
   "outputs": [],
   "source": []
  },
  {
   "cell_type": "markdown",
   "metadata": {},
   "source": [
    "## Setup with digitalocean (if you don't have your server)\n",
    "\n",
    "Create and `ssh` into your docker droplet.\n",
    "\n",
    "![Create droplet](https://cdn.pbrd.co/images/GA8dkaJ.png)\n",
    "\n",
    "## Setup example\n",
    "\n",
    "[![asciicast](https://asciinema.org/a/9xqX4akNND7Yc0Q1sTb3ZnEhI.png)](https://asciinema.org/a/9xqX4akNND7Yc0Q1sTb3ZnEhI)\n",
    "\n",
    "\n",
    "## Docker must listen on 172.17.0.1:2735\n",
    "\n",
    "```\n",
    "# vim /etc/systemd/system/multi-user.target.wants/docker.service\n",
    "[Service]\n",
    "...\n",
    "ExecStart=/usr/bin/dockerd -H fd:// -H tcp://172.17.0.1:2375\n",
    "...\n",
    "#wq!\n",
    "\n",
    "systemctl daemon-reload\n",
    "systemctl restart docker\n",
    "```\n",
    "\n",
    "## Clone and start\n",
    "\n",
    "```\n",
    "git clone https://github.com/ioggstream/python-course.git\n",
    "cd python-course/ansible-101\n",
    "make course\n",
    "\n",
    "```\n",
    "\n",
    "## Connect to jupyter\n",
    "\n",
    "```\n",
    "firefox http://43.32.54.212:8888/tree/notebooks/?token=....\n",
    "```\n"
   ]
  }
 ],
 "metadata": {
  "kernelspec": {
   "display_name": "Python 2",
   "language": "python",
   "name": "python2"
  },
  "language_info": {
   "codemirror_mode": {
    "name": "ipython",
    "version": 2
   },
   "file_extension": ".py",
   "mimetype": "text/x-python",
   "name": "python",
   "nbconvert_exporter": "python",
   "pygments_lexer": "ipython2",
   "version": "2.7.14"
  }
 },
 "nbformat": 4,
 "nbformat_minor": 2
}
