{
 "cells": [
  {
   "attachments": {},
   "cell_type": "markdown",
   "metadata": {},
   "source": [
    "# Delivery Layout - ansible.cfg\n",
    "#### ([exercise directory](/tree/notebooks/exercise-00))"
   ]
  },
  {
   "cell_type": "code",
   "execution_count": null,
   "metadata": {},
   "outputs": [],
   "source": [
    "cd /notebooks/exercise-00"
   ]
  },
  {
   "attachments": {},
   "cell_type": "markdown",
   "metadata": {},
   "source": [
    "\n",
    "When you deliver something you'll probably have a layout:\n",
    "\n",
    "  - a static or dynamic inventory of all the nodes to manage\n",
    "  - ssh keys to use\n",
    "  - users and secrets to connect to the hosts\n",
    "  - whether to do privilege escalation (eg. sudo, ...) before running tasks\n",
    "  - if nodes should be accessed via a bastion host, docker, ...\n",
    "  \n",
    "Put those information, together with a brief description of the playbook usage (eg. 2/3 lines) into `ansible.cfg`\n",
    "\n",
    "[![](https://mermaid.ink/img/pako:eNplUz2TmzAQ_SuaLVIBARk4m-KqpEyVLuLmRkYLZg4kRgImjs__PZLAn9eIt0-r3fdW4gSVEggFNJoPB1LKUs586kbmV1LzouZhp6qPt1J-4NEwYw7EgXXLQrtjpv1ynkvT7juMqrphd3hNrtsOiU1X4wH12ui9UrJum1LyaTxcA5TCSbnWbeWMclT6yK7ovub3NWg6tUenJ2GDVmJlDeoZtaMpG9GMX-gN84qiKHreetbRaDUN7zPXht3gRYnqBOpHLc5tMy9qPFwU3CrfDykMXz811qhRVmg-b6adIRJGIbGlnIsV0-ttrXNzFYgnHsbpaXdnXxs-deyVmDo05BvRyn6ZXx_svUEAPeqet8I-mlMpCSnBDq_HEgoLBda-P5TybFOnQfARf4rW2oBi1BMGYJWp30dZXeIl50fL7Yh7sK06Y9mByz9K9ZckG0Jxgr9QJGkapXGWJXFKN9tdvAvgCAXdZVGe7fINzXNKt8nLOYB__nwc5UlG4yzJty80jfM4CQC9oF_Ly_c_wPk_d6YQxA?type=png)](https://mermaid.live/edit#pako:eNplUz2TmzAQ_SuaLVIBARk4m-KqpEyVLuLmRkYLZg4kRgImjs__PZLAn9eIt0-r3fdW4gSVEggFNJoPB1LKUs586kbmV1LzouZhp6qPt1J-4NEwYw7EgXXLQrtjpv1ynkvT7juMqrphd3hNrtsOiU1X4wH12ui9UrJum1LyaTxcA5TCSbnWbeWMclT6yK7ovub3NWg6tUenJ2GDVmJlDeoZtaMpG9GMX-gN84qiKHreetbRaDUN7zPXht3gRYnqBOpHLc5tMy9qPFwU3CrfDykMXz811qhRVmg-b6adIRJGIbGlnIsV0-ttrXNzFYgnHsbpaXdnXxs-deyVmDo05BvRyn6ZXx_svUEAPeqet8I-mlMpCSnBDq_HEgoLBda-P5TybFOnQfARf4rW2oBi1BMGYJWp30dZXeIl50fL7Yh7sK06Y9mByz9K9ZckG0Jxgr9QJGkapXGWJXFKN9tdvAvgCAXdZVGe7fINzXNKt8nLOYB__nwc5UlG4yzJty80jfM4CQC9oF_Ly_c_wPk_d6YQxA)"
   ]
  },
  {
   "attachments": {},
   "cell_type": "markdown",
   "metadata": {},
   "source": [
    "# ansible.cfg\n",
    "\n",
    "When running ansible, the first file read is ansible.cfg, resolved in the following order:\n",
    "\n",
    "  - `ANSIBLE_CONFIG` (process environment variable)\n",
    "  - `./ansible.cfg` (in the current directory)\n",
    "  - `~/ansible.cfg` (in the home directory)\n",
    "  - `/etc/ansible/ansible.cfg`\n",
    "  \n",
    "  \n",
    "`ansible.cfg` is divided in stanzas\n",
    "\n",
    "```\n",
    "# defaults, ends with \"s\". Without \"s\" it won't work :D\n",
    "[defaults]\n",
    "...\n",
    "\n",
    "[ssh_connection]\n",
    "...\n",
    "\n",
    "```\n",
    "\n",
    "Always check [ansible source code](https://raw.github.com/ansible/ansible/devel/examples/ansible.cfg)  to get in touch with new parameters, for example see the [ansible.cfg stable-2.4](https://github.com/ansible/ansible/blob/stable-2.4/examples/ansible.cfg)\n",
    "\n",
    "We'll create a new `ansible.cfg` for every project!"
   ]
  },
  {
   "attachments": {},
   "cell_type": "markdown",
   "metadata": {},
   "source": [
    "#### Exercise\n",
    "\n",
    "We mentioned a couple of ansible.cfg sections: defaults and ssh_connection.\n",
    "    \n",
    "Name a couple more."
   ]
  },
  {
   "cell_type": "code",
   "execution_count": null,
   "metadata": {},
   "outputs": [],
   "source": [
    "# Write here some more ansible.cfg sections."
   ]
  },
  {
   "cell_type": "code",
   "execution_count": null,
   "metadata": {},
   "outputs": [],
   "source": [
    "# When running ansible, the first file to be read is\n",
    "!cat ansible.cfg"
   ]
  },
  {
   "attachments": {},
   "cell_type": "markdown",
   "metadata": {
    "solution": "shown",
    "solution_first": true
   },
   "source": [
    "#### Exercise \n",
    "\n",
    " - ping all hosts without specifying an inventory file\n",
    " - comment the \"inventory\" line out of [ansible.cfg](/edit/notebooks/exercise-00/ansible.cfg)\n",
    " - try to ping then again"
   ]
  },
  {
   "cell_type": "code",
   "execution_count": null,
   "metadata": {
    "solution": "shown"
   },
   "outputs": [],
   "source": [
    "# Use this cell for the exercise\n",
    "!ansible -m ping all"
   ]
  },
  {
   "cell_type": "code",
   "execution_count": null,
   "metadata": {
    "code_folding": [],
    "solution": "shown"
   },
   "outputs": [],
   "source": [
    "# Solution\n",
    "!sed -i 's/^inventory/#inventory/' ansible.cfg\n",
    "!ansible -m ping all\n",
    "!sed -i 's/#inventory/inventory/' ansible.cfg"
   ]
  },
  {
   "attachments": {},
   "cell_type": "markdown",
   "metadata": {
    "solution": "hidden",
    "solution_first": true
   },
   "source": [
    "#### Exercise\n",
    "\n",
    "You can subscript host groups, eg: `all[0]` is the first host in inventory.\n",
    "\n",
    "  - ping only the first host\n",
    "  - then the second"
   ]
  },
  {
   "cell_type": "code",
   "execution_count": null,
   "metadata": {},
   "outputs": [],
   "source": [
    "# Use this cell for the exercise"
   ]
  },
  {
   "cell_type": "code",
   "execution_count": null,
   "metadata": {
    "code_folding": [
     0
    ],
    "solution": "hidden"
   },
   "outputs": [],
   "source": [
    "# Solution\n",
    "!ansible -m ping all[0]"
   ]
  },
  {
   "attachments": {},
   "cell_type": "markdown",
   "metadata": {},
   "source": [
    "#### Exercise\n",
    "\n",
    "Can you find a default ansible.cfg on this machine? \n",
    "If not, have a look at it on your local distro.\n",
    "\n"
   ]
  },
  {
   "attachments": {},
   "cell_type": "markdown",
   "metadata": {},
   "source": [
    "## Authentication\n",
    "\n",
    "You can manage machines via `ssh` or `docker`, but what happens via ssh if `PermitRootLogin=no`?\n",
    "\n",
    "Just use \n",
    "```\n",
    "[privilege_escalation]\n",
    "become = yes\n",
    "become_user = root\n",
    "become_method = sudo  # defaults to sudo\n",
    "```\n",
    "\n",
    "#### Exercise\n",
    "\n",
    "You can specify which ssh key to use: \n",
    "\n",
    "  - which parameter allows to set the default ssh identity?\n",
    "  - find the answer on the official documentation ;)\n",
    "  \n",
    "\n"
   ]
  },
  {
   "cell_type": "code",
   "execution_count": null,
   "metadata": {
    "code_folding": []
   },
   "outputs": [],
   "source": [
    "# Write here the answer!"
   ]
  },
  {
   "attachments": {},
   "cell_type": "markdown",
   "metadata": {},
   "source": [
    "## Inventory\n",
    "\n",
    "The inventory contains the infrastructure hosts. Maintaining an inventory helps to:\n",
    "\n",
    "  - clearly state each host and its functionalities\n",
    "  - communicate to others all the involved machines\n",
    "  - describe the infrastructure\n",
    "\n",
    "Via `ansible.cfg` you can set a default inventory. You could  eg. default to staging  and require `-i production` to run on actual machines.\n",
    "\n",
    "Ansible supports dynamic inventories (ldap, script, ..) [see inventory chapter](/notebooks/notebooks/05_inventories.ipynb)"
   ]
  },
  {
   "attachments": {},
   "cell_type": "markdown",
   "metadata": {},
   "source": [
    "## Encrypt secrets\n",
    "\n",
    "You can use and deliver secrets in your infrastructure using an encrypted file (aka vault).\n",
    "\n",
    "Decryption password can be typed each time or can be stored in a pin file configured in `ansible.cfg`.\n",
    "\n",
    "```\n",
    "# either\n",
    "ask_vault_pass = True\n",
    "# or\n",
    "vault_password_file = /path/to/pin_file\n",
    "\n",
    "```\n",
    "\n",
    "\n",
    "REMEMBER: clear your pin file at logout ;) "
   ]
  },
  {
   "attachments": {},
   "cell_type": "markdown",
   "metadata": {},
   "source": [
    "## Bastion\n",
    "\n",
    "A bastion host is the unique management   entrypoint  for an infrastructure.\n",
    "\n",
    "Ansible *leverages ssh functionalities* to manage resources from your local machine thru a bastion.\n",
    "With a proper configuration you can run your commands/playbooks **without** continusly moving files to and fro your bastion.\n",
    "\n",
    "Those includes:\n",
    " \n",
    "  - socks \n",
    "  - local and reverse tunnels (ssh -L | -R )\n",
    "\n",
    "![title](https://cloud.google.com/solutions/images/bastion.png)\n",
    "    \n",
    "  "
   ]
  },
  {
   "attachments": {},
   "cell_type": "markdown",
   "metadata": {},
   "source": [
    "## Recap Exercise\n",
    "\n",
    "Check the latest ansible.cfg source code and find 2 parameters you consider useful.\n",
    "\n",
    "Write down their name and functionality\n"
   ]
  },
  {
   "cell_type": "code",
   "execution_count": null,
   "metadata": {},
   "outputs": [],
   "source": [
    "# Write the solution here"
   ]
  }
 ],
 "metadata": {
  "kernelspec": {
   "display_name": "Python 3",
   "language": "python",
   "name": "python3"
  },
  "language_info": {
   "codemirror_mode": {
    "name": "ipython",
    "version": 3
   },
   "file_extension": ".py",
   "mimetype": "text/x-python",
   "name": "python",
   "nbconvert_exporter": "python",
   "pygments_lexer": "ipython3",
   "version": "3.9.9"
  }
 },
 "nbformat": 4,
 "nbformat_minor": 2
}
