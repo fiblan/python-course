{
 "cells": [
  {
   "cell_type": "markdown",
   "metadata": {},
   "source": [
    "# Delivery Layout - ansible.cfg\n",
    "\n",
    "When you deliver something you'll probably have a layout:\n",
    "\n",
    "  - a static or dynamic inventory of all the nodes to manage\n",
    "  - ssh keys to use\n",
    "  - users and secrets to connect to the hosts\n",
    "  - whether to do privilege escalation (eg. sudo, ...) before running tasks\n",
    "  - if nodes should be accessed via a bastion host, docker, ...\n",
    "  \n",
    "Put those informations, together with a brief description of the playbook usage (eg. 2/3 lines) into ansible.cfg\n",
    "\n",
    "![delivery layout](https://cdn.pbrd.co/images/39e3p1vlg.png)\n"
   ]
  },
  {
   "cell_type": "code",
   "execution_count": null,
   "metadata": {},
   "outputs": [],
   "source": [
    "cd /notebooks/exercise-00"
   ]
  },
  {
   "cell_type": "markdown",
   "metadata": {},
   "source": [
    "# ansible.cfg\n",
    "\n",
    "When running ansible, the first file read is ansible.cfg, resolved in the following order:\n",
    "\n",
    "  - `ANSIBLE_CONFIG` (env var)\n",
    "  - `./ansible.cfg` (in the current directory)\n",
    "  - `~/ansible.cfg` (in the home directory)\n",
    "  - `/etc/ansible/ansible.cfg`\n",
    "  \n",
    "  \n",
    "`ansible.cfg` is divided in stanzas\n",
    "\n",
    "```\n",
    "# defaults, ends with \"s\". Without \"s\" it won't work :D\n",
    "[defaults]\n",
    "...\n",
    "\n",
    "[ssh_connection]\n",
    "...\n",
    "\n",
    "```\n",
    "\n",
    "Always check [ansible source code](https://raw.github.com/ansible/ansible/devel/examples/ansible.cfg)  to get in touch with new parameters.\n",
    "\n",
    "We'll create a new ansible.cfg for every project!"
   ]
  },
  {
   "cell_type": "markdown",
   "metadata": {},
   "source": [
    "#### Exercise\n",
    "\n",
    "We mentioned a couple of ansible.cfg sections: defaults and ssh_connection.\n",
    "    \n",
    "Name a couple more."
   ]
  },
  {
   "cell_type": "code",
   "execution_count": null,
   "metadata": {},
   "outputs": [],
   "source": [
    "# Write here some more ansible.cfg sections."
   ]
  },
  {
   "cell_type": "code",
   "execution_count": null,
   "metadata": {},
   "outputs": [],
   "source": [
    "# When running ansible, the first file to be read is\n",
    "!cat ansible.cfg"
   ]
  },
  {
   "cell_type": "markdown",
   "metadata": {
    "solution": "shown",
    "solution_first": true
   },
   "source": [
    "#### Exercise \n",
    "\n",
    " - ping all hosts without specifying an inventory file\n",
    " - comment the \"inventory\" line out of [ansible.cfg](/edit/notebooks/exercise-00/ansible.cfg)\n",
    " - try to ping then again"
   ]
  },
  {
   "cell_type": "code",
   "execution_count": null,
   "metadata": {
    "code_folding": [],
    "solution": "shown"
   },
   "outputs": [],
   "source": [
    "# Solution\n",
    "!sed -i 's/^inventory/#inventory/' ansible.cfg\n",
    "!ansible -m ping all\n",
    "!sed -i 's/#inventory/inventory/' ansible.cfg"
   ]
  },
  {
   "cell_type": "code",
   "execution_count": null,
   "metadata": {
    "solution": "shown"
   },
   "outputs": [],
   "source": [
    "# Use this cell for the exercise\n",
    "!ansible -m ping all"
   ]
  },
  {
   "cell_type": "markdown",
   "metadata": {
    "solution": "hidden",
    "solution_first": true
   },
   "source": [
    "#### Exercise\n",
    "\n",
    "You can subscript host groups, eg: `all[0]` is the first host in inventory.\n",
    "\n",
    "  - ping only the first host\n",
    "  - then the second"
   ]
  },
  {
   "cell_type": "code",
   "execution_count": null,
   "metadata": {
    "code_folding": [
     0
    ],
    "solution": "hidden"
   },
   "outputs": [],
   "source": [
    "# Solution\n",
    "!ansible -m ping all[0]"
   ]
  },
  {
   "cell_type": "code",
   "execution_count": null,
   "metadata": {},
   "outputs": [],
   "source": [
    "# Use this cell for the exercise\n",
    "!ansible -m ping all[0]"
   ]
  },
  {
   "cell_type": "markdown",
   "metadata": {},
   "source": [
    "#### Exercise\n",
    "\n",
    "Can you find a default ansible.cfg on this machine? \n",
    "If not, have a look at it on your local distro.\n",
    "\n"
   ]
  },
  {
   "cell_type": "markdown",
   "metadata": {},
   "source": [
    "## Authentication\n",
    "\n",
    "You can manage machines via `ssh` or `docker`, but what happens via ssh if `PermitRootLogin=no`?\n",
    "\n",
    "Just use \n",
    "```\n",
    "[privilege_escalation]\n",
    "become = yes\n",
    "become_user = root\n",
    "become_method = sudo  # defaults to sudo\n",
    "```\n",
    "\n",
    "#### Exercise\n",
    "\n",
    "You can specify which ssh key to use: \n",
    "\n",
    "  - which parameter allows to set the default ssh identity?\n",
    "  - find the answer on the official documentation ;)\n",
    "  \n",
    "\n"
   ]
  },
  {
   "cell_type": "code",
   "execution_count": null,
   "metadata": {
    "code_folding": []
   },
   "outputs": [],
   "source": [
    "# Write here the answer!\n",
    "[defaults]  # ansible.cfg\n",
    "private_key_file = "
   ]
  },
  {
   "cell_type": "markdown",
   "metadata": {},
   "source": [
    "## Inventory\n",
    "\n",
    "The inventory contains the infrastructure hosts. Maintaining an inventory helps to:\n",
    "\n",
    "  - clearly state each host and its functionalities\n",
    "  - communicate to others all the involved machines\n",
    "  - describe the infrastructure\n",
    "\n",
    "Via `ansible.cfg` you can set a default inventory. You could  eg. default to staging  and require `-i production` to run on actual machines.\n",
    "\n",
    "Ansible supports dynamic inventories (ldap, script, ..) [see inventory chapter](/notebooks/notebooks/05_inventories.ipynb)"
   ]
  },
  {
   "cell_type": "markdown",
   "metadata": {},
   "source": [
    "## Encrypt secrets\n",
    "\n",
    "You can use and deliver secrets in your infrastructure using an encrypted file (aka vault).\n",
    "\n",
    "Decryption password can be typed each time or can be stored in a pin file configured in `ansible.cfg`.\n",
    "\n",
    "```\n",
    "# either\n",
    "ask_vault_pass = True\n",
    "# or\n",
    "vault_password_file = /path/to/pin_file\n",
    "\n",
    "```\n",
    "\n",
    "\n",
    "REMEMBER: clear your pin file at logout ;) "
   ]
  },
  {
   "cell_type": "markdown",
   "metadata": {},
   "source": [
    "## Bastion\n",
    "\n",
    "A bastion host is the unique management   entrypoint  for an infrastructure.\n",
    "\n",
    "Ansible *leverages ssh functionalities* to manage resources from your local machine thru a bastion.\n",
    "With a proper configuration you can run your commands/playbooks without continusly moving files to and fro your bastion.\n",
    "\n",
    "Those includes:\n",
    " \n",
    "  - socks \n",
    "  - local and reverse tunnels (ssh -L | -R )\n",
    "\n",
    "![title](https://cloud.google.com/solutions/images/bastion.png)\n",
    "    \n",
    "  "
   ]
  },
  {
   "cell_type": "markdown",
   "metadata": {},
   "source": [
    "## Recap Exercise\n",
    "\n",
    "Check the latest ansible.cfg source code and find 2 parameters you consider useful.\n",
    "\n",
    "Write down their name and functionality\n"
   ]
  },
  {
   "cell_type": "code",
   "execution_count": null,
   "metadata": {},
   "outputs": [],
   "source": [
    "# Write the solution here"
   ]
  }
 ],
 "metadata": {
  "kernelspec": {
   "display_name": "Python 2",
   "language": "python",
   "name": "python2"
  },
  "language_info": {
   "codemirror_mode": {
    "name": "ipython",
    "version": 2
   },
   "file_extension": ".py",
   "mimetype": "text/x-python",
   "name": "python",
   "nbconvert_exporter": "python",
   "pygments_lexer": "ipython2",
   "version": "2.7.14"
  }
 },
 "nbformat": 4,
 "nbformat_minor": 2
}
