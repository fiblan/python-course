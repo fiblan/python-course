{
 "cells": [
  {
   "attachments": {},
   "cell_type": "markdown",
   "metadata": {},
   "source": [
    "# Inventories \n",
    "#### ([exercise directory](/tree/notebooks/exercise-05))"
   ]
  },
  {
   "cell_type": "code",
   "execution_count": null,
   "metadata": {},
   "outputs": [],
   "source": [
    "cd /notebooks/exercise-05"
   ]
  },
  {
   "attachments": {},
   "cell_type": "markdown",
   "metadata": {},
   "source": [
    "\n",
    "Inventories are a fundamental doc entrypoint for our infrastructures. \n",
    "\n",
    "They contain a lot of informations, including:\n",
    "    \n",
    "- `ansible_user`\n",
    "- configuration variables in `[group_name:vars]`\n",
    "- host grouping eg. by geographical zones in `[group_name:children]`\n",
    "    \n",
    "    \n",
    "Files:\n",
    "\n",
    "- [open the inventory](/edit/notebooks/exercise-05/inventory) file or print it\n",
    "    "
   ]
  },
  {
   "cell_type": "code",
   "execution_count": null,
   "metadata": {},
   "outputs": [],
   "source": [
    "!cat inventory"
   ]
  },
  {
   "attachments": {},
   "cell_type": "markdown",
   "metadata": {},
   "source": [
    "The `ansible` executable can process inventory files"
   ]
  },
  {
   "cell_type": "code",
   "execution_count": null,
   "metadata": {},
   "outputs": [],
   "source": [
    "!ansible -i inventory --list-host all"
   ]
  },
  {
   "attachments": {},
   "cell_type": "markdown",
   "metadata": {},
   "source": [
    "#### Exercise\n",
    "\n",
    "Use `ansible` to show:\n",
    "    \n",
    "- all hosts of the web group."
   ]
  },
  {
   "cell_type": "code",
   "execution_count": null,
   "metadata": {},
   "outputs": [],
   "source": [
    "# Use this  cell for the exercise"
   ]
  },
  {
   "cell_type": "code",
   "execution_count": null,
   "metadata": {},
   "outputs": [],
   "source": [
    "# The ping module is very useful. \n",
    "# Use it whenever you want to check connectivity!\n",
    "!ansible -m ping -i inventory web_rome"
   ]
  },
  {
   "attachments": {},
   "cell_type": "markdown",
   "metadata": {},
   "source": [
    "## Inventory scripts\n",
    "\n",
    "To create custom inventory scripts just use python ;) and set the script path in `inventory`."
   ]
  },
  {
   "cell_type": "code",
   "execution_count": null,
   "metadata": {},
   "outputs": [],
   "source": [
    "!grep inventory  ansible.cfg # inventory = ./docker-inventory.py"
   ]
  },
  {
   "attachments": {},
   "cell_type": "markdown",
   "metadata": {},
   "source": [
    "#### Exercise\n",
    "\n",
    "in the official ansible documentation find at least 3 `ansible_connection=docker` parameters "
   ]
  },
  {
   "attachments": {},
   "cell_type": "markdown",
   "metadata": {},
   "source": [
    "An example python inventory script."
   ]
  },
  {
   "cell_type": "code",
   "execution_count": null,
   "metadata": {},
   "outputs": [],
   "source": [
    "\"\"\"List our containers. \n",
    "\n",
    "  Note: this only works with docker-compose containers.\n",
    "\n",
    "\"\"\"\n",
    "from __future__ import print_function\n",
    "# \n",
    "# Manage different docker libraries\n",
    "#\n",
    "try:\n",
    "    from docker import Client\n",
    "except ImportError:\n",
    "    from docker import APIClient as Client\n",
    "\n",
    "\n",
    "c = Client(base_url=\"http://172.17.0.1:2375\")\n",
    "\n",
    "# Define a function to make it clear!\n",
    "def get_inventory_data(container):\n",
    "    return {\n",
    "        \"container_name\": container[\"Names\"][0][1:],\n",
    "        \"ip_address\": container[\"NetworkSettings\"][\"Networks\"][\"bridge\"][\"IPAddress\"],\n",
    "        \"group_name\": container[\"Labels\"].get(\"com.docker.compose.service\"),\n",
    "    }\n",
    "\n",
    "for container in c.containers():\n",
    "    # The following exercises will ask you to\n",
    "    #   modify the code in the loop in order to create a correct inventory.\n",
    "    try:\n",
    "        print(get_inventory_data(container))\n",
    "    except KeyError:\n",
    "        # skip non-docker-compose containers\n",
    "        pass"
   ]
  },
  {
   "attachments": {},
   "cell_type": "markdown",
   "metadata": {},
   "source": [
    "JSON inventories"
   ]
  },
  {
   "cell_type": "code",
   "execution_count": null,
   "metadata": {},
   "outputs": [],
   "source": [
    "# Ansible accepts\n",
    "import json\n",
    "\n",
    "inventories = {\n",
    "    'web': {\n",
    "        'hosts': ['ws-1', 'ws-2'],\n",
    "    },\n",
    "    'db': {\n",
    "        'hosts': ['db-1', 'db-2'],\n",
    "    }\n",
    "}\n",
    "\n",
    "# like this \n",
    "print(json.dumps(inventories, indent=1))\n",
    "      "
   ]
  },
  {
   "cell_type": "code",
   "execution_count": null,
   "metadata": {},
   "outputs": [],
   "source": [
    "# You can pass variables to generated inventories too\n",
    "inventories['web']['vars'] = {\n",
    "    'ansible_ssh_common_args': ' -o GSSApiAuthentication=no'\n",
    "}\n",
    "print(json.dumps(inventories, indent=1))"
   ]
  },
  {
   "attachments": {},
   "cell_type": "markdown",
   "metadata": {},
   "source": [
    "#### Exercise: \n",
    "\n",
    "Reuse the code in [inventory-docker.py](/edit/notebooks/exercise-05/inventory-docker.py) to print a JSON inventory that:\n",
    "\n",
    "- connects via docker to \"web\" hosts\n",
    "- connects via ssh to \"ansible\" hosts \n",
    "\n",
    "Test it in the cell below.\n",
    "\n",
    "**NOTE: there's a [docker inventory](https://github.com/ansible-community/contrib-scripts/blob/main/inventory/docker.py) script shipped with ansible**\n",
    "\n"
   ]
  },
  {
   "cell_type": "code",
   "execution_count": null,
   "metadata": {},
   "outputs": [],
   "source": [
    "!ansible -m ping -i inventory-docker-solution.py all "
   ]
  },
  {
   "attachments": {},
   "cell_type": "markdown",
   "metadata": {
    "code_folding": []
   },
   "source": [
    "#### Exercise\n",
    "\n",
    "Modify the [inventory-docker.py](/edit/notebooks/exercise-05/inventory-docker.py) to skip StrictHostKeyChecking only on web hosts."
   ]
  },
  {
   "cell_type": "code",
   "execution_count": null,
   "metadata": {},
   "outputs": [],
   "source": [
    "# Test here your inventory"
   ]
  },
  {
   "attachments": {},
   "cell_type": "markdown",
   "metadata": {},
   "source": [
    "# Configurations\n",
    "\n",
    "You may want to split inventory files and separate production and test environments."
   ]
  },
  {
   "attachments": {},
   "cell_type": "markdown",
   "metadata": {},
   "source": [
    "#### Exercise: \n",
    "\n",
    "split inventory in two inventory files:\n",
    "\n",
    "  - [prod](/edit/notebooks/exercise-05/prod)  for production servers \n",
    "  - [test](/edit/notebooks/exercise-05/test)  for test servers\n",
    "  \n",
    "Then use `ansible -i` to explicitly use the different ones."
   ]
  },
  {
   "cell_type": "code",
   "execution_count": null,
   "metadata": {},
   "outputs": [],
   "source": [
    "# Use this cell to test the exercise"
   ]
  },
  {
   "attachments": {},
   "cell_type": "markdown",
   "metadata": {},
   "source": [
    "## group_vars and host_vars\n",
    "\n",
    "You can move variables out of inventories - eg to simplify inventory scripts - and store them in files:\n",
    "\n",
    " - under `group_vars` for host groups\n",
    " - under `host_vars` for single hosts"
   ]
  },
  {
   "cell_type": "code",
   "execution_count": null,
   "metadata": {},
   "outputs": [],
   "source": [
    "!tree group_vars"
   ]
  },
  {
   "attachments": {},
   "cell_type": "markdown",
   "metadata": {},
   "source": [
    "If you have different inventories, you can store different set of variable in custom files.\n",
    "The `all` ones will be shared between all inventories\n",
    "\n",
    "#### Exercise: \n",
    "    \n",
    "  - edit [group_vars/all](/edit/notebooks/exercise-05/group_vars/all) and move there all common variables from [inventory](/edit/notebooks/exercise-05/inventory) "
   ]
  },
  {
   "cell_type": "code",
   "execution_count": null,
   "metadata": {},
   "outputs": [],
   "source": [
    "# Test here the new inventory file"
   ]
  },
  {
   "attachments": {},
   "cell_type": "markdown",
   "metadata": {},
   "source": [
    "Inventory variables can store almost everything and even describe the architecture of your deployment\n"
   ]
  },
  {
   "cell_type": "code",
   "execution_count": null,
   "metadata": {},
   "outputs": [],
   "source": [
    "!cat group_vars/example"
   ]
  },
  {
   "attachments": {},
   "cell_type": "markdown",
   "metadata": {},
   "source": [
    "We can even mix and mojo `group_vars` and `inventory`, as we'll see in the next lessons.\n",
    "\n",
    "\n",
    "\n"
   ]
  },
  {
   "attachments": {},
   "cell_type": "markdown",
   "metadata": {},
   "source": [
    "### host_vars\n",
    "\n",
    "Host vars can be used in automated or cloud deployments where:\n",
    "\n",
    "  - every new host or vm, at boot, populate its own entries in `host_vars` (e.g., via file)\n",
    "  - ansible is run after that setup, and uses `host_vars` to configure the server and to expose that values to the other machines."
   ]
  },
  {
   "attachments": {},
   "cell_type": "markdown",
   "metadata": {},
   "source": []
  }
 ],
 "metadata": {
  "kernelspec": {
   "display_name": "Python 3",
   "language": "python",
   "name": "python3"
  },
  "language_info": {
   "codemirror_mode": {
    "name": "ipython",
    "version": 3
   },
   "file_extension": ".py",
   "mimetype": "text/x-python",
   "name": "python",
   "nbconvert_exporter": "python",
   "pygments_lexer": "ipython3",
   "version": "3.9.9"
  }
 },
 "nbformat": 4,
 "nbformat_minor": 2
}
