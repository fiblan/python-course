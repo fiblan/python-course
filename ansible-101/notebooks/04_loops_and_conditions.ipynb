{
 "cells": [
  {
   "attachments": {},
   "cell_type": "markdown",
   "metadata": {},
   "source": [
    "# Loops\n",
    "#### ([exercise directory](/tree/notebooks/exercise-03))"
   ]
  },
  {
   "cell_type": "code",
   "execution_count": null,
   "metadata": {},
   "outputs": [],
   "source": [
    "cd /notebooks/exercise-03"
   ]
  },
  {
   "attachments": {},
   "cell_type": "markdown",
   "metadata": {},
   "source": [
    "\n",
    "To repeat a *single task* multiple times, you can use *`with_items`*.\n",
    "\n",
    "`with_items`:\n",
    "\n",
    "  - goes at the same level of the task\n",
    "  - loops through iterable types (`dict`, `list`, ..)\n",
    "  - puts each value in the `item` variable\n",
    "  \n",
    "\n",
    "```\n",
    "- hosts: localhost\n",
    "  tasks:    \n",
    "  - name: Put with_items ad the same level of \"debug\" and \"name\"\n",
    "    debug: \n",
    "      msg: \"{{ item }}\"\n",
    "    with_items:          \n",
    "    - one\n",
    "    - two\n",
    "    - three\n",
    "```\n",
    "\n",
    "You can use variables or facts\n",
    "\n",
    "```\n",
    "- hosts: localhost\n",
    "  tasks:\n",
    "  - name: Save ls output in result\n",
    "    shell: |\n",
    "      ls /etc/host*\n",
    "    register: result\n",
    "        \n",
    "  - debug: \n",
    "      msg: \"{{ item }}\"\n",
    "    with_items: >\n",
    "      {{result.stdout_lines}}\n",
    "```\n",
    "\n",
    "\n",
    "`with_items` flattens list\n",
    "\n",
    "```\n",
    "- hosts: localhost\n",
    "  tasks:\n",
    "  - name: Save ls output in result\n",
    "    shell: |\n",
    "      ls /etc/host*\n",
    "    register: result\n",
    "        \n",
    "  - debug: \n",
    "      msg: \"{{ item }}\"\n",
    "    with_items: \n",
    "    - \"{{result.stdout_lines}}\"\n",
    "    - foo\n",
    "    - bar\n",
    "```"
   ]
  },
  {
   "attachments": {},
   "cell_type": "markdown",
   "metadata": {},
   "source": [
    "## Conditions and Assertions\n",
    "\n",
    "### Conditions:  `when`, `end_meta`\n",
    "\n",
    "Ansible supports basic condition checking via `when`:\n",
    "    \n",
    "```\n",
    "- hosts: localhost\n",
    "  tasks:    \n",
    "  - debug: msg=\"This always happens\"\n",
    "    when: true\n",
    "  - debug: msg=\"This never does\"\n",
    "    when: false\n",
    "```\n",
    "\n",
    "\n",
    "You can use `when` with variables and conditions too:\n",
    "\n",
    "```\n",
    "- hosts: localhost  \n",
    "  tasks:    \n",
    "  - debug: msg=\"This is {{ansible_kernel}}!\"\n",
    "    when: ansible_system == 'Linux'\n",
    "\n",
    "```\n",
    "\n",
    "To graceful end a play, use  `meta: end_play`\n",
    "\n",
    "\n",
    "```\n",
    "- hosts: localhost\n",
    "  tasks:\n",
    "  - stat:\n",
    "      path: /opt/tomcat\n",
    "    register: has_tomcat\n",
    "    \n",
    "  - name: Stop this playbook if /opt/tomcat exists.  \n",
    "    meta: end_play\n",
    "    when: has_tomcat.stat.isdir\n",
    "    \n",
    "  ... continue installing tomcat...\n",
    "\n",
    "\n",
    "```\n",
    "\n",
    "Remember on `when` and `with_items`\n",
    "\n",
    "####  `when` statements should not include jinja2 templating delimiters such as {{ }} or {% %} because they are evaluated as python code.\n",
    "\n",
    "####  `with_items` [requires proper templating and braces](http://docs.ansible.com/ansible/porting_guide_2.0.html#other-caveats). Do it for  all expressions everywhere except conditionals (`when`):\n"
   ]
  },
  {
   "cell_type": "code",
   "execution_count": null,
   "metadata": {},
   "outputs": [],
   "source": [
    "!ansible-playbook conditions.yml --tags when"
   ]
  },
  {
   "attachments": {},
   "cell_type": "markdown",
   "metadata": {},
   "source": [
    "## assertions: `assert`\n",
    "\n",
    "The fail module is used to make assertions. Unless told otherwise, ansible playbooks stops when a task fail.\n",
    "\n",
    "```\n",
    "- hosts: localhost  \n",
    "  tags: assert\n",
    "  tasks:    \n",
    "  - fail:\n",
    "      msg: \"This is Linux!\"\n",
    "    when: ansible_system != 'Linux'\n",
    "\n",
    "  - fail:\n",
    "      msg: \"Stop processing now!\"\n",
    "    when: ansible_architecture == 'x86_64'\n",
    "\n",
    "```"
   ]
  },
  {
   "cell_type": "code",
   "execution_count": null,
   "metadata": {},
   "outputs": [],
   "source": [
    "!ansible-playbook conditions.yml --tags assert"
   ]
  },
  {
   "attachments": {},
   "cell_type": "markdown",
   "metadata": {},
   "source": [
    "#### Exercise\n",
    "\n",
    "Edit [conditions.yml](/edit/notebooks/exercise-03/conditions.yml) and add a check on free disk size > 75%.\n",
    "\n",
    "  - get informations from gather_facts\n",
    "  - iterate thru partition `with_items`\n",
    "  - use `when` and fail module\n",
    "    "
   ]
  },
  {
   "cell_type": "code",
   "execution_count": null,
   "metadata": {},
   "outputs": [],
   "source": [
    "!ansible-playbook conditions.yml --tags exercise"
   ]
  },
  {
   "attachments": {},
   "cell_type": "markdown",
   "metadata": {},
   "source": [
    "# Predefined variables\n",
    "\n",
    "There is a set of predefined variables too:\n",
    "\n",
    "  - `group_names`\n",
    "  - `groups`\n",
    "  - `environment`\n",
    "  - `hostvars`\n"
   ]
  },
  {
   "cell_type": "code",
   "execution_count": null,
   "metadata": {},
   "outputs": [],
   "source": [
    "!ansible all[0] -i web -m debug -a \"var=groups\""
   ]
  },
  {
   "attachments": {},
   "cell_type": "markdown",
   "metadata": {},
   "source": [
    "#### Exercise\n",
    "\n",
    "Show the content of all 4 variables:\n",
    "\n",
    "  - is every variable defined?\n",
    "  - is every variable not empty?"
   ]
  },
  {
   "cell_type": "code",
   "execution_count": null,
   "metadata": {},
   "outputs": [],
   "source": [
    "# Use this cell for the exercise"
   ]
  },
  {
   "attachments": {},
   "cell_type": "markdown",
   "metadata": {},
   "source": [
    "# Shell environment & Files\n",
    "\n",
    "Ansible can iterate thru **local** files using\n",
    "\n",
    "```\n",
    "- name: >\n",
    "    Ansible can use globbing only on local system.\n",
    "  debug:\n",
    "    msg: >\n",
    "      I live on the local system {{item}}\n",
    "  with_fileglob:\n",
    "  - \"/etc/host*\"\n",
    "    \n",
    "\n",
    "```\n",
    "\n",
    "AFAIK There's not a remote version of `with_fileglob`, so **you cannot loop over remote fileglob**. This is because:\n",
    "\n",
    " - `with_fileglob` is implemented via executing code \n",
    " - ansible won't implicitly execute code on the remote host\n",
    " - a more complex implementation will be shown in the template lesson\n",
    " \n",
    "\n",
    "```\n",
    "- name: You can implement a remote fileglob in 2 steps\n",
    "  shell: >\n",
    "    ls /etc/host*\n",
    "  register: fileglob_remote\n",
    "  \n",
    "- name: Here we go\n",
    "  debug: msg=\"{{item}}\"\n",
    "  with_items: \"{{fileglob_remote.stdout_lines}}\"\n",
    "\n",
    "```"
   ]
  },
  {
   "cell_type": "code",
   "execution_count": null,
   "metadata": {},
   "outputs": [],
   "source": [
    "!ansible-playbook   -i web fileglob.yml --tags fileglob "
   ]
  },
  {
   "attachments": {},
   "cell_type": "markdown",
   "metadata": {},
   "source": [
    "You can pass `environment` variables (eg: /proc/PID/environ) to ansible plays via\n",
    "\n",
    "```\n",
    "- hosts: all\n",
    "  environment:\n",
    "    LD_LIBRARY_PATH: /usr/local/lib\n",
    "  tasks:\n",
    "    - name: >\n",
    "        Set at taskgroup level, \n",
    "        but you can do it at task level too.\n",
    "      shell: >\n",
    "         echo $LD_LIBRARY_PATH\n",
    "```"
   ]
  },
  {
   "cell_type": "code",
   "execution_count": null,
   "metadata": {},
   "outputs": [],
   "source": [
    "!ansible-playbook  -vvv -i web fileglob.yml --tags environment"
   ]
  },
  {
   "cell_type": "code",
   "execution_count": null,
   "metadata": {},
   "outputs": [],
   "source": []
  }
 ],
 "metadata": {
  "kernelspec": {
   "display_name": "Python 2",
   "language": "python",
   "name": "python2"
  },
  "language_info": {
   "codemirror_mode": {
    "name": "ipython",
    "version": 2
   },
   "file_extension": ".py",
   "mimetype": "text/x-python",
   "name": "python",
   "nbconvert_exporter": "python",
   "pygments_lexer": "ipython2",
   "version": "2.7.13"
  }
 },
 "nbformat": 4,
 "nbformat_minor": 2
}
