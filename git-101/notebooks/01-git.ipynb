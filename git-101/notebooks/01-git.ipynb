{
 "cells": [
  {
   "cell_type": "markdown",
   "id": "7f120a0a",
   "metadata": {},
   "source": [
    "# Git - simple repository management\n",
    "\n",
    "## Agenda\n",
    "\n",
    "- VCS intro\n",
    "- tracking modifications\n",
    "- using a local git repository\n",
    "- remote repositories\n",
    "\n",
    "*Beware*: commands contain small typos. You must fix them to properly complete the course!\n",
    "\n",
    "## VCS\n",
    "\n",
    "The importance of tracking changes.\n",
    "\n",
    "VCS basics:\n",
    "\n",
    "- initialize a local repo\n",
    "- change the software\n",
    "- acknowledge (commit) changes\n",
    "- eventually revert changes"
   ]
  },
  {
   "cell_type": "markdown",
   "id": "c4538aef",
   "metadata": {
    "slideshow": {
     "slide_type": "slide"
    }
   },
   "source": [
    "---\n",
    "\n",
    "## Tracking modifications\n",
    "\n",
    "Track modifications of our config files without messing\n",
    "with the real /etc."
   ]
  },
  {
   "cell_type": "code",
   "execution_count": null,
   "id": "700a7a3a",
   "metadata": {},
   "outputs": [],
   "source": [
    "!mkdir -p /repo-path\n",
    "!cp -v /etc/host* /etc/s* /repo-path"
   ]
  },
  {
   "cell_type": "markdown",
   "id": "9d560d87",
   "metadata": {},
   "source": [
    "All operations are local to /repo-path"
   ]
  },
  {
   "cell_type": "code",
   "execution_count": null,
   "id": "4e7bc3b2",
   "metadata": {},
   "outputs": [],
   "source": [
    "cd /repo-path"
   ]
  },
  {
   "cell_type": "markdown",
   "id": "99c3bcd9",
   "metadata": {},
   "source": [
    "Always timestamp backup copies, don't `.ori`."
   ]
  },
  {
   "cell_type": "code",
   "execution_count": null,
   "id": "cd27bc4d",
   "metadata": {},
   "outputs": [],
   "source": [
    "! SIMPLE_BACKUP_SUFFIX=\"$(date -I)\" cp -v -bf hosts hosts\n",
    "!ls -l hosts*"
   ]
  },
  {
   "cell_type": "markdown",
   "id": "d6cd9236",
   "metadata": {},
   "source": [
    "Exercise: Use `date +%s` to timestamp a backup copy of `hosts`."
   ]
  },
  {
   "cell_type": "code",
   "execution_count": null,
   "id": "000235a9",
   "metadata": {},
   "outputs": [],
   "source": [
    "# Use this cell for the exercise."
   ]
  },
  {
   "cell_type": "markdown",
   "id": "01f6ef62",
   "metadata": {
    "slideshow": {
     "slide_type": "slide"
    }
   },
   "source": [
    "---\n",
    "\n",
    "## Git\n",
    "\n",
    "A better way of tracking changes.\n",
    "\n",
    "Used to maintain the Linux Kernel.\n",
    "\n",
    "Distributed approach.\n",
    "\n",
    "![Checkout and Push](https://git-scm.com/figures/18333fig0106-tn.png)"
   ]
  },
  {
   "cell_type": "markdown",
   "id": "4786f164",
   "metadata": {
    "slideshow": {
     "slide_type": "slide"
    }
   },
   "source": [
    "---\n",
    "\n",
    "## Tracing requires identification\n",
    "\n",
    "Declare who's modifying files. This will be inserted in\n",
    "the commit."
   ]
  },
  {
   "cell_type": "code",
   "execution_count": null,
   "id": "7319e718",
   "metadata": {},
   "outputs": [],
   "source": [
    "!git config --global user.email \"jon@example.com\"\n",
    "!git config --global user.name \"Jon Doe\""
   ]
  },
  {
   "cell_type": "markdown",
   "id": "8d9e2062",
   "metadata": {},
   "source": [
    "Note: authentication can not be enforced on a local repository."
   ]
  },
  {
   "cell_type": "markdown",
   "id": "6051c86d",
   "metadata": {
    "slideshow": {
     "slide_type": "slide"
    }
   },
   "source": [
    "---\n",
    "\n",
    "## Create a repository\n",
    "\n",
    "Track modifications with `git`"
   ]
  },
  {
   "cell_type": "code",
   "execution_count": null,
   "id": "fdf04eb4",
   "metadata": {},
   "outputs": [],
   "source": [
    "!git init /repo-path\n",
    "!ls -l /repo-path/.git  # this is the index directory"
   ]
  },
  {
   "cell_type": "markdown",
   "id": "b8c78e39",
   "metadata": {},
   "source": [
    "### Exercise\n",
    "\n",
    "- get the previous `git config ... user.email`\n",
    "- remove the `--global` flag  from the previous command\n",
    "- run it"
   ]
  },
  {
   "cell_type": "code",
   "execution_count": null,
   "id": "69557bf0",
   "metadata": {},
   "outputs": [],
   "source": [
    "# Write here the command\n",
    "# and show the git config file.\n",
    "!cat .git/config"
   ]
  },
  {
   "cell_type": "markdown",
   "id": "a981eecc",
   "metadata": {
    "slideshow": {
     "slide_type": "slide"
    }
   },
   "source": [
    "---\n",
    "\n",
    "Enter in the repo directory and check  the status: there\n",
    "are a lot of files we are not interested in..."
   ]
  },
  {
   "cell_type": "code",
   "execution_count": null,
   "id": "29a73ba6",
   "metadata": {},
   "outputs": [],
   "source": [
    "!git status"
   ]
  },
  {
   "cell_type": "markdown",
   "id": "d9e41818",
   "metadata": {},
   "source": [
    "`.gitignore` lists the files we're not interested in"
   ]
  },
  {
   "cell_type": "code",
   "execution_count": null,
   "id": "7e24aaf6",
   "metadata": {},
   "outputs": [],
   "source": [
    "# Ignore all files not starting with h\n",
    "!echo \"[^h]*\" >> .gitignore\n",
    "!git status"
   ]
  },
  {
   "cell_type": "markdown",
   "id": "c0463059",
   "metadata": {},
   "source": [
    "Now we have all `host*` files to be tracked."
   ]
  },
  {
   "cell_type": "markdown",
   "id": "93276090",
   "metadata": {
    "slideshow": {
     "slide_type": "slide"
    }
   },
   "source": [
    "---\n",
    "\n",
    "## Populate the repo\n",
    "\n",
    "Add files to the index"
   ]
  },
  {
   "cell_type": "code",
   "execution_count": null,
   "id": "ba250a13",
   "metadata": {},
   "outputs": [],
   "source": [
    "!git add hosts"
   ]
  },
  {
   "cell_type": "markdown",
   "id": "7fdde7cd",
   "metadata": {},
   "source": [
    "The file is now *staged* for commit. It's not archived though."
   ]
  },
  {
   "cell_type": "code",
   "execution_count": null,
   "id": "4a45be06",
   "metadata": {},
   "outputs": [],
   "source": [
    "!git status"
   ]
  },
  {
   "cell_type": "markdown",
   "id": "ced6d9a3",
   "metadata": {},
   "source": [
    "Save files to the local index"
   ]
  },
  {
   "cell_type": "code",
   "execution_count": null,
   "id": "2246b5da",
   "metadata": {},
   "outputs": [],
   "source": [
    "!git commit -m \"Initial snapshot of hosts\""
   ]
  },
  {
   "cell_type": "markdown",
   "id": "e40f0406",
   "metadata": {},
   "source": [
    "![Git areas](https://git-scm.com/images/about/index1@2x.png)"
   ]
  },
  {
   "cell_type": "markdown",
   "id": "5c47fc45",
   "metadata": {
    "slideshow": {
     "slide_type": "slide"
    }
   },
   "source": [
    "---\n",
    "\n",
    "## Basic workflow\n",
    "\n",
    "Adding a line to the file we discover that"
   ]
  },
  {
   "cell_type": "code",
   "execution_count": null,
   "id": "61a489ee",
   "metadata": {},
   "outputs": [],
   "source": [
    "!echo \"127.0.0.2  localhost2.localdomain\" >> hosts\n",
    "!git diff hosts"
   ]
  },
  {
   "cell_type": "markdown",
   "id": "7b3d7ccc",
   "metadata": {},
   "source": [
    "If we like the changes, we can stage them"
   ]
  },
  {
   "cell_type": "code",
   "execution_count": null,
   "id": "89f6d0d0",
   "metadata": {},
   "outputs": [],
   "source": [
    "!git add hosts\n",
    "!git status"
   ]
  },
  {
   "cell_type": "markdown",
   "id": "4f57b9e5",
   "metadata": {},
   "source": [
    "and finally save them in the repo."
   ]
  },
  {
   "cell_type": "code",
   "execution_count": null,
   "id": "0b48ff38",
   "metadata": {},
   "outputs": [],
   "source": [
    "!git commit  \"Added localhost2 to hosts\""
   ]
  },
  {
   "cell_type": "markdown",
   "id": "75973a82",
   "metadata": {
    "slideshow": {
     "slide_type": "slide"
    }
   },
   "source": [
    "---\n",
    "\n",
    "## History changes\n",
    "\n",
    "Now we have an history with two changes, containing:\n",
    "\n",
    "- commit messages\n",
    "- a commit hash\n",
    "\n",
    "HEAD is the last commit."
   ]
  },
  {
   "cell_type": "code",
   "execution_count": null,
   "id": "b1a64497",
   "metadata": {},
   "outputs": [],
   "source": [
    "!git log"
   ]
  },
  {
   "cell_type": "markdown",
   "id": "42aad7f8",
   "metadata": {},
   "source": [
    "![Basic branch](https://git-scm.com/figures/18333fig0310-tn.png)"
   ]
  },
  {
   "cell_type": "markdown",
   "id": "f45574e8",
   "metadata": {
    "slideshow": {
     "slide_type": "slide"
    }
   },
   "source": [
    "---\n",
    "\n",
    "## Reverting changes\n",
    "\n",
    "We can revert a change using the hash or an history log"
   ]
  },
  {
   "cell_type": "code",
   "execution_count": null,
   "id": "ec0651ef",
   "metadata": {},
   "outputs": [],
   "source": [
    "!git checkout HEAD~1 -- hosts  # revert hosts to the previous commit"
   ]
  },
  {
   "cell_type": "markdown",
   "id": "96eba2fc",
   "metadata": {
    "slideshow": {
     "slide_type": "slide"
    }
   },
   "source": [
    "---\n",
    "\n",
    "## Cheatsheet\n",
    "\n",
    "Now some git commands, but first create a dir."
   ]
  },
  {
   "cell_type": "code",
   "execution_count": null,
   "id": "c7f5263e",
   "metadata": {},
   "outputs": [],
   "source": [
    "!mkdir -p /repo-path\n",
    "!date >> /repo-path/file.txt\n",
    "!date >> /repo-path/hi.txt"
   ]
  },
  {
   "cell_type": "markdown",
   "id": "1b486c01",
   "metadata": {},
   "source": [
    "---"
   ]
  },
  {
   "cell_type": "code",
   "execution_count": null,
   "id": "d625983f",
   "metadata": {},
   "outputs": [],
   "source": [
    "!git init /repo-path    # Initialize repo eventually creating a directory\n",
    "!git add /repo-path/hi.txt # Add file to index\n",
    "!git commit -m \"My changes\"  # Save changes"
   ]
  },
  {
   "cell_type": "markdown",
   "id": "12c36cb1",
   "metadata": {},
   "source": [
    "### Exercise\n",
    "\n",
    "- add `file.txt` to the index and commit"
   ]
  },
  {
   "cell_type": "code",
   "execution_count": null,
   "id": "f2875a20",
   "metadata": {},
   "outputs": [],
   "source": [
    "# Use this cell for the exercise"
   ]
  },
  {
   "cell_type": "markdown",
   "id": "176dabc2",
   "metadata": {},
   "source": [
    "---"
   ]
  },
  {
   "cell_type": "code",
   "execution_count": null,
   "id": "2786502f",
   "metadata": {},
   "outputs": [],
   "source": [
    "!date >> /repo-path/file.txt\n",
    "!git diff\n",
    "!git commit -a -m \"Save all previously added files\""
   ]
  },
  {
   "cell_type": "markdown",
   "id": "5e605932",
   "metadata": {},
   "source": [
    "---"
   ]
  },
  {
   "cell_type": "code",
   "execution_count": null,
   "id": "f3aa8b5d",
   "metadata": {},
   "outputs": [],
   "source": [
    "!git log /repo-path/file.txt  # show changes"
   ]
  },
  {
   "cell_type": "code",
   "execution_count": null,
   "id": "809cb347",
   "metadata": {},
   "outputs": [],
   "source": [
    "!git checkout HEAD~1 -- file.txt # revert file"
   ]
  },
  {
   "cell_type": "code",
   "execution_count": null,
   "id": "5f408bf2",
   "metadata": {},
   "outputs": [],
   "source": [
    "!git diff HEAD  # diff with reverted"
   ]
  },
  {
   "cell_type": "code",
   "execution_count": null,
   "id": "51681f21",
   "metadata": {},
   "outputs": [],
   "source": [
    "!git checkout HEAD -- . # get *all files* from the latest commit"
   ]
  },
  {
   "cell_type": "markdown",
   "id": "ff306b1d",
   "metadata": {
    "slideshow": {
     "slide_type": "slide"
    }
   },
   "source": [
    "---\n",
    "\n",
    "## Tags & Branches\n",
    "\n",
    "Writing codes and configuration we may want to follow\n",
    "different strategies and save our different attempts.\n",
    "\n",
    "- *tag*  makes an unmodifiable snapshot of the repo instead."
   ]
  },
  {
   "cell_type": "code",
   "execution_count": null,
   "id": "effd478b",
   "metadata": {},
   "outputs": [],
   "source": [
    "!git tag myconfig-v1 # create a tag\n",
    "!git tag -l    # list tags"
   ]
  },
  {
   "cell_type": "markdown",
   "id": "4b05fced",
   "metadata": {},
   "source": [
    "- *branch* create a modifiable copy of the code, allowing\n",
    "     to save and work on different features\n",
    "\n",
    "![Branches](https://git-scm.com/figures/18333fig0313-tn.png)"
   ]
  },
  {
   "cell_type": "markdown",
   "id": "65f48039",
   "metadata": {
    "slideshow": {
     "slide_type": "slide"
    }
   },
   "source": [
    "---\n",
    "\n",
    "## Branches\n",
    "\n",
    "`master` is the default branch"
   ]
  },
  {
   "cell_type": "code",
   "execution_count": null,
   "id": "d0f52580",
   "metadata": {},
   "outputs": [],
   "source": [
    "!git branch -a"
   ]
  },
  {
   "cell_type": "markdown",
   "id": "440c9e9d",
   "metadata": {},
   "source": [
    "Create a branch"
   ]
  },
  {
   "cell_type": "code",
   "execution_count": null,
   "id": "1cbdaefc",
   "metadata": {},
   "outputs": [],
   "source": [
    "!git checkout -b work-on-my-changes"
   ]
  },
  {
   "cell_type": "markdown",
   "id": "15d4499e",
   "metadata": {},
   "source": [
    "And list the branches, check the active one!"
   ]
  },
  {
   "cell_type": "code",
   "execution_count": null,
   "id": "15b4fb9e",
   "metadata": {},
   "outputs": [],
   "source": [
    "!git branch -a"
   ]
  },
  {
   "cell_type": "markdown",
   "id": "7a767353",
   "metadata": {
    "slideshow": {
     "slide_type": "slide"
    }
   },
   "source": [
    "---\n",
    "\n",
    "Modify a file in a branch"
   ]
  },
  {
   "cell_type": "code",
   "execution_count": null,
   "id": "a4631b97",
   "metadata": {},
   "outputs": [],
   "source": [
    "!date > new-file.txt\n",
    "!git add new-file.txt"
   ]
  },
  {
   "cell_type": "markdown",
   "id": "38365710",
   "metadata": {},
   "source": [
    "With commit we consolidate the new file in the branch"
   ]
  },
  {
   "cell_type": "code",
   "execution_count": null,
   "id": "0f8e151b",
   "metadata": {},
   "outputs": [],
   "source": [
    "!git commit -m \"Added a new file\""
   ]
  },
  {
   "cell_type": "markdown",
   "id": "284b07da",
   "metadata": {
    "slideshow": {
     "slide_type": "slide"
    }
   },
   "source": [
    "---\n",
    "\n",
    "Compare branches"
   ]
  },
  {
   "cell_type": "code",
   "execution_count": null,
   "id": "64d828f6",
   "metadata": {},
   "outputs": [],
   "source": [
    "!git diff mister"
   ]
  },
  {
   "cell_type": "markdown",
   "id": "af639d85",
   "metadata": {},
   "source": [
    "Diff supports some parameters"
   ]
  },
  {
   "cell_type": "code",
   "execution_count": null,
   "id": "ce494335",
   "metadata": {},
   "outputs": [],
   "source": [
    "!git diff --ignore-all-space master"
   ]
  },
  {
   "cell_type": "markdown",
   "id": "ff806888",
   "metadata": {
    "slideshow": {
     "slide_type": "slide"
    }
   },
   "source": [
    "---\n",
    "\n",
    "We can now switch between branches"
   ]
  },
  {
   "cell_type": "code",
   "execution_count": null,
   "id": "f9fcf98f",
   "metadata": {},
   "outputs": [],
   "source": [
    "!git checkout master\n",
    "!cat new-file.txt"
   ]
  },
  {
   "cell_type": "markdown",
   "id": "8eceeeb6",
   "metadata": {},
   "source": [
    "And switch back"
   ]
  },
  {
   "cell_type": "code",
   "execution_count": null,
   "id": "4a90452a",
   "metadata": {},
   "outputs": [],
   "source": [
    "!git checkout work-on-my-changes\n",
    "!cat new-file.txt"
   ]
  },
  {
   "cell_type": "markdown",
   "id": "60f1a8f7",
   "metadata": {
    "slideshow": {
     "slide_type": "slide"
    }
   },
   "source": [
    "---\n",
    "\n",
    "### Exercise\n",
    "\n",
    "- Create a new branch named `antani`\n",
    "- modify `new-file.txt` as you please\n",
    "- [open a terminal](/terminals/git), and use `git add -p` to stage the changes. What does it do?\n",
    "- commit the changes"
   ]
  },
  {
   "cell_type": "code",
   "execution_count": null,
   "id": "e2c7bd22",
   "metadata": {},
   "outputs": [],
   "source": [
    "# Use this cell for the exercise"
   ]
  },
  {
   "cell_type": "markdown",
   "id": "1cd00765",
   "metadata": {
    "slideshow": {
     "slide_type": "slide"
    }
   },
   "source": [
    "---\n",
    "\n",
    "## Checkout troubleshooting\n",
    "\n",
    "If you change a file, git won't make you checkout\n",
    "to avoid missing changes."
   ]
  },
  {
   "cell_type": "code",
   "execution_count": null,
   "id": "59e5a254",
   "metadata": {},
   "outputs": [],
   "source": [
    "!date >> new-file.txt\n",
    "!git checkout master"
   ]
  },
  {
   "cell_type": "markdown",
   "id": "71da518c",
   "metadata": {},
   "source": [
    "You have to remove the changes or commit them (in another branch too)"
   ]
  },
  {
   "cell_type": "code",
   "execution_count": null,
   "id": "e22fd009",
   "metadata": {},
   "outputs": [],
   "source": [
    "# Use this cell for the exercise."
   ]
  },
  {
   "cell_type": "markdown",
   "id": "0b77d8f6",
   "metadata": {
    "slideshow": {
     "slide_type": "slide"
    }
   },
   "source": [
    "---\n",
    "\n",
    "## Merge\n",
    "\n",
    "Once we have consolidated some changes (e.g., test, ...)\n",
    "we can *merge* the changes into the master branch"
   ]
  },
  {
   "cell_type": "code",
   "execution_count": null,
   "id": "770704f3",
   "metadata": {},
   "outputs": [],
   "source": [
    "!git checkout master"
   ]
  },
  {
   "cell_type": "markdown",
   "id": "92138e82",
   "metadata": {},
   "source": [
    "Before merging, we have to check the differences"
   ]
  },
  {
   "cell_type": "code",
   "execution_count": null,
   "id": "f91d8d41",
   "metadata": {},
   "outputs": [],
   "source": [
    "!git diff work-on-my-changes"
   ]
  },
  {
   "cell_type": "markdown",
   "id": "c3610538",
   "metadata": {},
   "source": [
    "And finally merge"
   ]
  },
  {
   "cell_type": "code",
   "execution_count": null,
   "id": "e64c822b",
   "metadata": {},
   "outputs": [],
   "source": [
    "!git merge work-on-my-changes"
   ]
  },
  {
   "cell_type": "markdown",
   "id": "a31db651",
   "metadata": {
    "slideshow": {
     "slide_type": "slide"
    }
   },
   "source": [
    "---\n",
    "\n",
    "After a merge, if the branch is no more useful, we can remove it.\n",
    "Note: before deleting a branch, you can double-check available\n",
    "branches with `git branch -a`."
   ]
  },
  {
   "cell_type": "code",
   "execution_count": null,
   "id": "71b22af5",
   "metadata": {},
   "outputs": [],
   "source": [
    "!git branch -d work-on-changes"
   ]
  },
  {
   "cell_type": "markdown",
   "id": "3216d35a",
   "metadata": {},
   "source": [
    "If there are unmerged changes, git doesn't allow deleting a branch.\n",
    "\n",
    "Exercise:\n",
    "\n",
    "- use `git branch -d` to remove the `antani` branch\n",
    "- what happens?\n",
    "- replace `-d` with `-D`. Does it work now?"
   ]
  },
  {
   "cell_type": "code",
   "execution_count": null,
   "id": "762915dd",
   "metadata": {},
   "outputs": [],
   "source": [
    "# use this cell for the exrcise\n"
   ]
  },
  {
   "cell_type": "markdown",
   "id": "869b3fda",
   "metadata": {
    "slideshow": {
     "slide_type": "slide"
    }
   },
   "source": [
    "---\n",
    "\n",
    "## Selective adding\n",
    "\n",
    "You can stage partial changes with:"
   ]
  },
  {
   "cell_type": "code",
   "execution_count": null,
   "id": "e49ff846",
   "metadata": {},
   "outputs": [],
   "source": [
    "!git add -p"
   ]
  },
  {
   "cell_type": "markdown",
   "id": "1ffb0b4b",
   "metadata": {
    "slideshow": {
     "slide_type": "slide"
    }
   },
   "source": [
    "---\n",
    "\n",
    "## Remote repositories\n",
    "\n",
    "Remote repos may be either https, ssh or files."
   ]
  },
  {
   "cell_type": "code",
   "execution_count": null,
   "id": "e4db9adc",
   "metadata": {},
   "outputs": [],
   "source": [
    "! mkdir -p /repo-tmp && cd /repo-tmp && pwd # use another directory ;)"
   ]
  },
  {
   "cell_type": "markdown",
   "id": "3f42676a",
   "metadata": {},
   "source": [
    "Exercise:\n",
    "\n",
    "- what happens in the following cell?"
   ]
  },
  {
   "cell_type": "code",
   "execution_count": null,
   "id": "aaa4aac3",
   "metadata": {},
   "outputs": [],
   "source": [
    "!pwd"
   ]
  },
  {
   "cell_type": "markdown",
   "id": "5558113b",
   "metadata": {},
   "source": [
    "Go to the correct directory now."
   ]
  },
  {
   "cell_type": "code",
   "execution_count": null,
   "id": "2c80c152",
   "metadata": {},
   "outputs": [],
   "source": [
    "cd /repo-tmp"
   ]
  },
  {
   "cell_type": "markdown",
   "id": "00d2f691",
   "metadata": {
    "slideshow": {
     "slide_type": "slide"
    }
   },
   "source": [
    "---\n",
    "\n",
    "### https repo\n",
    "\n",
    "Git clone downloads a remote repo, with all its changes and history.\n",
    "Try with a remote https repo."
   ]
  },
  {
   "cell_type": "code",
   "execution_count": null,
   "id": "93194032",
   "metadata": {},
   "outputs": [],
   "source": [
    "!git clone https://github.com/ioggstream/python-course/ python-course"
   ]
  },
  {
   "cell_type": "markdown",
   "id": "7e364def",
   "metadata": {},
   "source": [
    "Now enter in the repo directory"
   ]
  },
  {
   "cell_type": "code",
   "execution_count": null,
   "id": "908d6e35",
   "metadata": {},
   "outputs": [],
   "source": [
    "cd /repo-tmp/python-course"
   ]
  },
  {
   "cell_type": "markdown",
   "id": "f67f6120",
   "metadata": {},
   "source": [
    "Show repository configuration. Which is the remote origin?"
   ]
  },
  {
   "cell_type": "code",
   "execution_count": null,
   "id": "9d125c4b",
   "metadata": {},
   "outputs": [],
   "source": [
    "!git config -l"
   ]
  },
  {
   "cell_type": "markdown",
   "id": "74dccdd3",
   "metadata": {},
   "source": [
    "The remote repo is retrieved with all its changes and history"
   ]
  },
  {
   "cell_type": "code",
   "execution_count": null,
   "id": "72d8a61c",
   "metadata": {},
   "outputs": [],
   "source": [
    "! du -ms .git"
   ]
  },
  {
   "cell_type": "markdown",
   "id": "ce9dc27b",
   "metadata": {},
   "source": [
    "And `log` can show branches and merges."
   ]
  },
  {
   "cell_type": "code",
   "execution_count": null,
   "id": "99152bbc",
   "metadata": {},
   "outputs": [],
   "source": [
    "!git log --graph"
   ]
  },
  {
   "cell_type": "markdown",
   "id": "da3f94c6",
   "metadata": {
    "slideshow": {
     "slide_type": "slide"
    }
   },
   "source": [
    "---\n",
    "\n",
    "### file repo\n",
    "\n",
    "A local repo can be cloned too, and has the same features\n",
    "of a remote one. It's actually a remote `file://` uri."
   ]
  },
  {
   "cell_type": "code",
   "execution_count": null,
   "id": "172e28c4",
   "metadata": {},
   "outputs": [],
   "source": [
    "!git clone /repo-tmp/python-course /repo-tmp/my-course"
   ]
  },
  {
   "cell_type": "markdown",
   "id": "5142954c",
   "metadata": {},
   "source": [
    "Now move to the new directory"
   ]
  },
  {
   "cell_type": "code",
   "execution_count": null,
   "id": "024280c5",
   "metadata": {},
   "outputs": [],
   "source": [
    "cd /repo-tmp/my-course"
   ]
  },
  {
   "cell_type": "markdown",
   "id": "99ee299e",
   "metadata": {},
   "source": [
    "Show repository configuration. Which is the remote origin?"
   ]
  },
  {
   "cell_type": "code",
   "execution_count": null,
   "id": "505037a8",
   "metadata": {},
   "outputs": [],
   "source": [
    "!git config -l"
   ]
  },
  {
   "cell_type": "markdown",
   "id": "22ce0715",
   "metadata": {
    "slideshow": {
     "slide_type": "slide"
    }
   },
   "source": [
    "---\n",
    "\n",
    "## Pull & push\n",
    "\n",
    "You can add new files to a repo with the above workflow:\n",
    "\n",
    "- create a branch with `git checkout -b test-1`\n",
    "- add a new file\n",
    "- stage changes with `git add`\n",
    "- commit with `git commit`"
   ]
  },
  {
   "cell_type": "code",
   "execution_count": null,
   "id": "42505c18",
   "metadata": {},
   "outputs": [],
   "source": [
    "# Use this cell for the exercise"
   ]
  },
  {
   "cell_type": "markdown",
   "id": "73ce1851",
   "metadata": {},
   "source": [
    "Now that your changes are on your local repo, you can synchronize / upload them to the remote copy\n",
    "with:"
   ]
  },
  {
   "cell_type": "code",
   "execution_count": null,
   "id": "420e52e1",
   "metadata": {},
   "outputs": [],
   "source": [
    "!git push origin test-1"
   ]
  },
  {
   "cell_type": "markdown",
   "id": "af356259",
   "metadata": {},
   "source": [
    "Remember:\n",
    "\n",
    "- origin is the URI specified by `git config -l`\n",
    "- `test-1` is the branch name where you want to upload\n",
    "\n",
    "To upload changes to the remote master (default) branch, you need to\n",
    "\n",
    "- merge the changes to your local master"
   ]
  },
  {
   "cell_type": "code",
   "execution_count": null,
   "id": "f1cc68b6",
   "metadata": {},
   "outputs": [],
   "source": [
    "!git checkout master"
   ]
  },
  {
   "cell_type": "markdown",
   "id": "3d948893",
   "metadata": {},
   "source": [
    "Check the differences"
   ]
  },
  {
   "cell_type": "code",
   "execution_count": null,
   "id": "62cdee76",
   "metadata": {},
   "outputs": [],
   "source": [
    "!git diff test-1"
   ]
  },
  {
   "cell_type": "markdown",
   "id": "0b3bf0a4",
   "metadata": {},
   "source": [
    "And finally merge"
   ]
  },
  {
   "cell_type": "code",
   "execution_count": null,
   "id": "583a589e",
   "metadata": {},
   "outputs": [],
   "source": [
    "!git merge test-1"
   ]
  },
  {
   "cell_type": "markdown",
   "id": "bc785752",
   "metadata": {},
   "source": [
    "Exercise:\n",
    "\n",
    "- check the master history;\n",
    "- check the difference with the last commit.\n",
    "\n",
    "\n",
    "Finally, push changes to `origin/master`"
   ]
  },
  {
   "cell_type": "code",
   "execution_count": null,
   "id": "81dfa372",
   "metadata": {},
   "outputs": [],
   "source": [
    "!git push origin master"
   ]
  },
  {
   "cell_type": "markdown",
   "id": "a65f7a63",
   "metadata": {},
   "source": [
    "To make it work, you need to be authenticated/authorized with the remote repo ;)"
   ]
  }
 ],
 "metadata": {},
 "nbformat": 4,
 "nbformat_minor": 5
}
