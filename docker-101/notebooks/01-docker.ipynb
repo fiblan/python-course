{
 "cells": [
  {
   "cell_type": "markdown",
   "metadata": {
    "code_folding": [
     0
    ]
   },
   "source": [
    "# Docker 101\n",
    "\n",
    "This is a crash docker course.\n"
   ]
  },
  {
   "cell_type": "markdown",
   "metadata": {},
   "source": [
    "## Look at our machine\n",
    "\n",
    "At first, we will inspect this machine: the operating system, the IP address and the rest."
   ]
  },
  {
   "cell_type": "code",
   "execution_count": 19,
   "metadata": {},
   "outputs": [
    {
     "name": "stdout",
     "output_type": "stream",
     "text": [
      "Debian GNU/Linux 8 \\n \\l\n",
      "\n",
      "Linux d152a5a9b4e2 4.15.0-122-generic #124-Ubuntu SMP Thu Oct 15 13:03:05 UTC 2020 x86_64 GNU/Linux\n",
      "5: eth0    inet 172.17.0.2/16 brd 172.17.255.255 scope global eth0\\       valid_lft forever preferred_lft forever\n"
     ]
    }
   ],
   "source": [
    "# Distro\n",
    "!cat /etc/issue\n",
    "\n",
    "# Linux version\n",
    "!uname -a\n",
    "\n",
    "# IP address\n",
    "! ip -4 -o address show eth0"
   ]
  },
  {
   "cell_type": "code",
   "execution_count": 2,
   "metadata": {},
   "outputs": [
    {
     "name": "stdout",
     "output_type": "stream",
     "text": [
      "Docker version 17.12.0-ce, build c97c6d6\r\n"
     ]
    }
   ],
   "source": [
    "# Docker CLI version.\n",
    "\n",
    "!docker --version\n"
   ]
  },
  {
   "cell_type": "code",
   "execution_count": 3,
   "metadata": {},
   "outputs": [
    {
     "name": "stdout",
     "output_type": "stream",
     "text": [
      "Docker version 17.12.0-ce, build c97c6d6\r\n"
     ]
    }
   ],
   "source": [
    "# Docker server version\n",
    "\n",
    "!dockerd --version"
   ]
  },
  {
   "cell_type": "markdown",
   "metadata": {},
   "source": [
    "## Docker\n",
    "\n",
    "Docker is an application that simulates the creation of virtual machines using Linux isolation capabilities, including chroot, network namespaces, cgroups and capabilities. Those \"virtual machines\" are named \"containers\".\n",
    "\n",
    "Docker comes with a catalog of possible operating systems and applications named Docker Registry. You can deploy your custom registry too."
   ]
  },
  {
   "cell_type": "code",
   "execution_count": 7,
   "metadata": {},
   "outputs": [
    {
     "name": "stdout",
     "output_type": "stream",
     "text": [
      "NAME                             DESCRIPTION                                     STARS               OFFICIAL            AUTOMATED\r\n",
      "ubuntu                           Ubuntu is a Debian-based Linux operating sys…   15936               [OK]                \r\n",
      "websphere-liberty                WebSphere Liberty multi-architecture images …   294                 [OK]                \r\n",
      "ubuntu-upstart                   DEPRECATED, as is Upstart (find other proces…   114                 [OK]                \r\n",
      "neurodebian                      NeuroDebian provides neuroscience research s…   99                  [OK]                \r\n",
      "ubuntu/nginx                     Nginx, a high-performance reverse proxy & we…   89                                      \r\n",
      "open-liberty                     Open Liberty multi-architecture images based…   59                  [OK]                \r\n",
      "ubuntu/apache2                   Apache, a secure & extensible open-source HT…   58                                      \r\n",
      "ubuntu/squid                     Squid is a caching proxy for the Web. Long-t…   56                                      \r\n",
      "ubuntu-debootstrap               DEPRECATED; use \"ubuntu\" instead                51                  [OK]                \r\n"
     ]
    }
   ],
   "source": [
    "# Search images from catalog\n",
    "\n",
    "!docker search ubuntu|head\n"
   ]
  },
  {
   "cell_type": "code",
   "execution_count": 10,
   "metadata": {},
   "outputs": [
    {
     "name": "stdout",
     "output_type": "stream",
     "text": [
      "22.04: Pulling from library/ubuntu\n",
      "\n",
      "\u001b[1BDigest: sha256:dfd64a3b4296d8c9b62aa3309984f8620b98d87e47492599ee20739e8eb54fbf\u001b[K\u001b[1A\u001b[1K\u001b[K\u001b[1A\u001b[1K\u001b[K\u001b[1A\u001b[1K\u001b[K\u001b[1A\u001b[1K\u001b[K\u001b[1A\u001b[1K\u001b[K\u001b[1A\u001b[1K\u001b[K\u001b[1A\u001b[1K\u001b[K\u001b[1A\u001b[1K\u001b[K\u001b[1A\u001b[1K\u001b[K\u001b[1A\u001b[1K\u001b[K\u001b[1A\u001b[1K\u001b[K\u001b[1A\u001b[1K\u001b[K\u001b[1A\u001b[1K\u001b[K\u001b[1A\u001b[1K\u001b[K\u001b[1A\u001b[1K\u001b[K\u001b[1A\u001b[1K\u001b[K\u001b[1A\u001b[1K\u001b[K\u001b[1A\u001b[1K\u001b[K\u001b[1A\u001b[1K\u001b[K\u001b[1A\u001b[1K\u001b[K\u001b[1A\u001b[1K\u001b[K\u001b[1A\u001b[1K\u001b[K\u001b[1A\u001b[1K\u001b[K\u001b[1A\u001b[1K\u001b[K\u001b[1A\u001b[1K\u001b[K\u001b[1A\u001b[1K\u001b[K\u001b[1A\u001b[1K\u001b[K\u001b[1A\u001b[1K\u001b[K\u001b[1A\u001b[1K\u001b[K\n",
      "Status: Downloaded newer image for ubuntu:22.04\n"
     ]
    }
   ],
   "source": [
    "# Download the ubuntu image\n",
    "!docker pull ubuntu:22.04\n",
    "    "
   ]
  },
  {
   "cell_type": "markdown",
   "metadata": {},
   "source": [
    "Open a [terminal](/terminals/docker) and run an interactive shell with a terminal (tty) in a new container based on ubuntu:22.04\n",
    "\n",
    "```\n",
    "docker run --rm --tty --interactive ubuntu:22.04 /bin/bash\n",
    "```\n",
    "\n",
    "Then run the above commands to ensure that you are on another virtual hosts.\n",
    "\n",
    "```\n",
    "# Operating System\n",
    "cat /etc/issue\n",
    "# Linux version\n",
    "uname -a\n",
    "```\n",
    "\n",
    "#### Exercise\n",
    "\n",
    "What happens if you try to get the IP address using the following command?\n",
    "\n",
    "```\n",
    "ip -4 -o a\n",
    "```\n",
    "\n",
    "Can you retrieve the IP address in another way?\n"
   ]
  },
  {
   "cell_type": "code",
   "execution_count": null,
   "metadata": {},
   "outputs": [],
   "source": []
  }
 ],
 "metadata": {
  "kernelspec": {
   "display_name": "Python 2",
   "language": "python",
   "name": "python2"
  },
  "language_info": {
   "codemirror_mode": {
    "name": "ipython",
    "version": 2
   },
   "file_extension": ".py",
   "mimetype": "text/x-python",
   "name": "python",
   "nbconvert_exporter": "python",
   "pygments_lexer": "ipython2",
   "version": "2.7.14"
  }
 },
 "nbformat": 4,
 "nbformat_minor": 2
}
