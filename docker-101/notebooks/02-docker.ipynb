{
 "cells": [
  {
   "cell_type": "markdown",
   "id": "a01a6b89",
   "metadata": {},
   "source": [
    "## Inspect the Docker host\n",
    "\n",
    "At first, we will inspect this machine: the operating system, the IP address and the rest."
   ]
  },
  {
   "cell_type": "code",
   "execution_count": null,
   "id": "6093cdd8",
   "metadata": {},
   "outputs": [],
   "source": [
    "# Distro\n",
    "!cat /etc/issue"
   ]
  },
  {
   "cell_type": "code",
   "execution_count": null,
   "id": "1de2c383",
   "metadata": {},
   "outputs": [],
   "source": [
    "# Linux version\n",
    "!uname -a"
   ]
  },
  {
   "cell_type": "code",
   "execution_count": null,
   "id": "c02f1de0",
   "metadata": {},
   "outputs": [],
   "source": [
    "# IP address\n",
    "! ip -4 -o address show eth0"
   ]
  },
  {
   "cell_type": "markdown",
   "id": "8819937b",
   "metadata": {
    "slideshow": {
     "slide_type": "slide"
    }
   },
   "source": [
    "---\n",
    "\n",
    "## Docker installation\n",
    "\n",
    "Check docker tools."
   ]
  },
  {
   "cell_type": "code",
   "execution_count": null,
   "id": "82ff3167",
   "metadata": {},
   "outputs": [],
   "source": [
    "# Docker CLI version.\n",
    "!docker --version"
   ]
  },
  {
   "cell_type": "code",
   "execution_count": null,
   "id": "b53c0828",
   "metadata": {},
   "outputs": [],
   "source": [
    "# Docker server version\n",
    "!dockerd --version"
   ]
  },
  {
   "cell_type": "markdown",
   "id": "775edbab",
   "metadata": {
    "slideshow": {
     "slide_type": "slide"
    }
   },
   "source": [
    "---\n",
    "\n",
    "## Running a container\n",
    "\n",
    "Docker comes with a catalog of possible operating systems and applications named Docker Registry. You can deploy your custom registry too.\n",
    "\n",
    "Let's pull and run an image\n",
    "\n",
    "[![](https://mermaid.ink/img/pako:eNptU8tu2zAQ_BWCQG6SUT_kODr00hRoD70kQA8Vc6DEtcVaXArkMq1r5d9LPRzbScADZ7XD0exyeeSVVcBznqapQNLUQM7ubbUHxzQSOFmRtugFDoSdk20tUKAP5YDZA-y0J3coHsBYgteYbWWZb2WqBq0ngXpeCP7dyB34mOtTVSjBi15t4jpQtaTTyVAGpHCKfstnecLtgWqLgkdVQHVl55v1JHAsYKsbKM5w-usEr8092yYY8MXPcZ-oSpIspYdIqCyS1AjOF8WXV3xRyFMkNbaSTaxi6sj7Ys-G-3VhLU0_d2XQjerYtUifYR3J3dvEpaWRVFljNH0g0CddwI6dT7w93Rkbm92xqQ_v0p6ko8STbRMHQ3CtJrBv_EBtg6_jpeq--Mvau_NojLSm-Zg2XqHAmxvWk5hExaL9uLOBPYuN1rh_pENs3DK5ZVHT7iGP05OMMP2jFdV5xhNuwBmpVRzwo0DGBKcaDAieR6hgK0NDggt8idTQxvuGr0qTdTwnFyDhMpB9PGB1ikfOvZZx2gyPphsfv7YSf1lrTqQY8vzI__J8nm1mq_liucw2m8UyW9wuEn7g-eJuPVtnd-tNtlmuVllcLwn_Nyh8mmUJh8HDj_FhDu_z5T_yHk5s?type=png)](https://mermaid.live/edit#pako:eNptU8tu2zAQ_BWCQG6SUT_kODr00hRoD70kQA8Vc6DEtcVaXArkMq1r5d9LPRzbScADZ7XD0exyeeSVVcBznqapQNLUQM7ubbUHxzQSOFmRtugFDoSdk20tUKAP5YDZA-y0J3coHsBYgteYbWWZb2WqBq0ngXpeCP7dyB34mOtTVSjBi15t4jpQtaTTyVAGpHCKfstnecLtgWqLgkdVQHVl55v1JHAsYKsbKM5w-usEr8092yYY8MXPcZ-oSpIspYdIqCyS1AjOF8WXV3xRyFMkNbaSTaxi6sj7Ys-G-3VhLU0_d2XQjerYtUifYR3J3dvEpaWRVFljNH0g0CddwI6dT7w93Rkbm92xqQ_v0p6ko8STbRMHQ3CtJrBv_EBtg6_jpeq--Mvau_NojLSm-Zg2XqHAmxvWk5hExaL9uLOBPYuN1rh_pENs3DK5ZVHT7iGP05OMMP2jFdV5xhNuwBmpVRzwo0DGBKcaDAieR6hgK0NDggt8idTQxvuGr0qTdTwnFyDhMpB9PGB1ikfOvZZx2gyPphsfv7YSf1lrTqQY8vzI__J8nm1mq_liucw2m8UyW9wuEn7g-eJuPVtnd-tNtlmuVllcLwn_Nyh8mmUJh8HDj_FhDu_z5T_yHk5s)"
   ]
  },
  {
   "cell_type": "code",
   "execution_count": null,
   "id": "fc43ca83",
   "metadata": {},
   "outputs": [],
   "source": [
    "# Search images from catalog\n",
    "!docker search ubuntu|head"
   ]
  },
  {
   "cell_type": "markdown",
   "id": "3cff75bb",
   "metadata": {},
   "source": [
    "Download an image from the remote registry."
   ]
  },
  {
   "cell_type": "code",
   "execution_count": null,
   "id": "a64d1a21",
   "metadata": {},
   "outputs": [],
   "source": [
    "# Download the ubuntu image\n",
    "!docker pull ubuntu:22.04"
   ]
  },
  {
   "cell_type": "markdown",
   "id": "103802a1",
   "metadata": {},
   "source": [
    "Open a [terminal](/terminals/docker) and run an **interactive shell** (`--interactive`) with a terminal (`--tty`)\n",
    "in a new container based on `ubuntu:22.04`. The `--rm` option removes the container when it exits.\n",
    "\n",
    "**NB: run the following commands in the terminal, not in the jupyter notebook**"
   ]
  },
  {
   "cell_type": "code",
   "execution_count": null,
   "id": "3743b57f",
   "metadata": {},
   "outputs": [],
   "source": [
    "%%bash\n",
    "docker run --rm --tty --interactive ubuntu:22.04 /bin/bash"
   ]
  },
  {
   "cell_type": "markdown",
   "id": "6b1dca8e",
   "metadata": {},
   "source": [
    "Then run the above commands to ensure that you are on another virtual hosts."
   ]
  },
  {
   "cell_type": "code",
   "execution_count": null,
   "id": "395c2403",
   "metadata": {},
   "outputs": [],
   "source": [
    "%%bash\n",
    "# Operating System\n",
    "cat /etc/issue\n",
    "# Linux version\n",
    "uname -a"
   ]
  },
  {
   "cell_type": "markdown",
   "id": "1c9d3e78",
   "metadata": {
    "slideshow": {
     "slide_type": "slide"
    }
   },
   "source": [
    "---\n",
    "\n",
    "#### Exercise\n",
    "\n",
    "What happens if you try to get the IP address using the following command?"
   ]
  },
  {
   "cell_type": "code",
   "execution_count": null,
   "id": "72e40858",
   "metadata": {},
   "outputs": [],
   "source": [
    "%%bash\n",
    "ip -4 -o a"
   ]
  },
  {
   "cell_type": "markdown",
   "id": "762d26aa",
   "metadata": {},
   "source": [
    "Can you retrieve the IP address in another way?\n",
    "**Hint: the `/proc` filesystem contains information about the system. Try to find the IP address in one of the files in `/proc`.**"
   ]
  },
  {
   "cell_type": "markdown",
   "id": "ef49f6c1",
   "metadata": {
    "slideshow": {
     "slide_type": "slide"
    }
   },
   "source": [
    "---\n",
    "\n",
    "## Dockerizing Applications\n",
    "\n",
    "`busybox` is a lightweight Linux distribution. You can run an one-shot command in a container."
   ]
  },
  {
   "cell_type": "code",
   "execution_count": null,
   "id": "a9eb4484",
   "metadata": {},
   "outputs": [],
   "source": [
    "%%bash\n",
    "docker run busybox /bin/echo 'Hello world'"
   ]
  },
  {
   "cell_type": "markdown",
   "id": "e79e15fe",
   "metadata": {
    "slideshow": {
     "slide_type": "slide"
    }
   },
   "source": [
    "---\n",
    "\n",
    "## Docker commands\n",
    "\n",
    "Here is a list of docker commands."
   ]
  },
  {
   "cell_type": "code",
   "execution_count": null,
   "id": "5b1d74f8",
   "metadata": {
    "attributes": {
     "classes": [
      "text"
     ],
     "id": ""
    }
   },
   "outputs": [],
   "source": [
    "docker create  # creates a container but does not start it.\n",
    "docker run     # creates and starts a container.\n",
    "docker stop    # stops it.\n",
    "docker start   # will start it again.\n",
    "docker restart # restarts a container.\n",
    "docker rm      # deletes a container.\n",
    "docker kill    # sends a SIGKILL to a container.\n",
    "docker attach  # will connect to a running container.\n",
    "docker wait    # blocks until container stops.\n",
    "docker exec    # executes a command in a running container."
   ]
  },
  {
   "cell_type": "markdown",
   "id": "193f7868",
   "metadata": {},
   "source": [
    "You can inspect containers"
   ]
  },
  {
   "cell_type": "code",
   "execution_count": null,
   "id": "1dde4d12",
   "metadata": {
    "attributes": {
     "classes": [
      "text"
     ],
     "id": ""
    }
   },
   "outputs": [],
   "source": [
    "docker ps      # shows running containers.\n",
    "docker inspect # information on a container (incl. IP address).\n",
    "docker logs    # gets logs from container.\n",
    "docker events  # gets events from container.\n",
    "docker port    # shows public facing port of container.\n",
    "docker top     # shows running processes in container.\n",
    "docker diff    # shows changed files in container's FS.\n",
    "docker stats   # shows metrics, memory, cpu, filsystem"
   ]
  },
  {
   "cell_type": "markdown",
   "id": "9dd9d674",
   "metadata": {},
   "source": [
    "#### Exercise\n",
    "\n",
    "1. List the running containers."
   ]
  },
  {
   "cell_type": "code",
   "execution_count": null,
   "id": "fdaf1ecd",
   "metadata": {},
   "outputs": [],
   "source": [
    "# Use this cell to run the correct docker command."
   ]
  },
  {
   "cell_type": "markdown",
   "id": "23e6c883",
   "metadata": {},
   "source": [
    "1. Inspect the `ansible-101_bastion_1` container.\n",
    "1. Use the `--format` option to get the IP address. Hint: you can google for the solution."
   ]
  },
  {
   "cell_type": "code",
   "execution_count": null,
   "id": "8053b13a",
   "metadata": {},
   "outputs": [],
   "source": [
    "# Use this cell to run the correct docker command."
   ]
  },
  {
   "cell_type": "markdown",
   "id": "d10e46a9",
   "metadata": {
    "slideshow": {
     "slide_type": "slide"
    }
   },
   "source": [
    "---\n",
    "\n",
    "## Images\n",
    "\n",
    "### Like VMs template images\n",
    "\n",
    "Docker leverages a [copy-on-write filesystem](https://docs.docker.com/storage/storagedriver/).\n",
    "This allows Docker to instantiate containers very quickly.\n",
    "Docker use to layering one container filesytem on top of another.\n",
    "For example, you might create a container that is based on\n",
    "a base Debian image, and then in turn create another container that is\n",
    "based on the first container.\n",
    "\n",
    "[![](https://mermaid.ink/img/pako:eNpVkstO6zAQhl_FmnVS2U7iNFmwQLBAiBVIR6I-QtPYoRaxXSW2RE_Vd8ckp7Ts5vLN7dccofNKQwvvI-530kk3xe1sk867gMbpcfNnNAG3g76EyIAHPf6VLnyGzcvOTEuAeDccztQkU3qnSW8GPZGww0Bw1MR6ZXqjVSrWTn1PvJppLL7rt7nX5sHauIyN2-hCbDlf0XJBSI9tj_ngu4_UZ4uTznl-Xdw0VVV0NSGMPt6eEfYLqRWvFWWE8OLpB6G_kJ6KAouCEEFn5P_CFxny_OZ65-8kZGD1aNGopOpROkIkJBmsltAmU-ke4xAkSHdKaNwrDPpemeBHaMMYdQYYg38-uO7sL8ydwaSRhXT3MKXoHt2r9_YMJRfaI3xCy8pyVdKqYrTkxbqhTQYHaHlTrUTViIILwfma1acM_s31dCVYxWnFxLrmJRWUZaDnhZ6W15g_5PQF27i6QA?type=png)](https://mermaid.live/edit#pako:eNpVkstO6zAQhl_FmnVS2U7iNFmwQLBAiBVIR6I-QtPYoRaxXSW2RE_Vd8ckp7Ts5vLN7dccofNKQwvvI-530kk3xe1sk867gMbpcfNnNAG3g76EyIAHPf6VLnyGzcvOTEuAeDccztQkU3qnSW8GPZGww0Bw1MR6ZXqjVSrWTn1PvJppLL7rt7nX5sHauIyN2-hCbDlf0XJBSI9tj_ngu4_UZ4uTznl-Xdw0VVV0NSGMPt6eEfYLqRWvFWWE8OLpB6G_kJ6KAouCEEFn5P_CFxny_OZ65-8kZGD1aNGopOpROkIkJBmsltAmU-ke4xAkSHdKaNwrDPpemeBHaMMYdQYYg38-uO7sL8ydwaSRhXT3MKXoHt2r9_YMJRfaI3xCy8pyVdKqYrTkxbqhTQYHaHlTrUTViIILwfma1acM_s31dCVYxWnFxLrmJRWUZaDnhZ6W15g_5PQF27i6QA)\n",
    "\n",
    "This mechanism allows an efficient storage usage, since multiple containers can\n",
    "reuse the same filesystem layers.\n",
    "\n",
    "[![](https://mermaid.ink/img/pako:eNqlkk2P0zAQhv_KyAdOSRU7cb4OHBY4ILQnONEg5MaTrUVsV44ttnT733GTDaQSN-LL2HnmnZnXvpDeSiQteXLidOxMZ6ZwmGPorfFCGXR0_24NgcJPp7w4jAijOKP71hn_7On-y1FNywlYM57X5KmL_48IgxpxAn8UHoRD0FaqQaGM2Wjkv2qyTU22LcX-s9TdiEqLJ_w-a-0_ah2WwcIhGB9axnZZsSAwiHYQ6Wj7H1HnICZMWbpNbhrO874CoNmnhxWhd0glWSUzCsDyxz9IdocMWZmLPAcosxl5bfjvRcCbjUOQpm_hxaGQ6c2HOL7DMCHchNe2b168bMe86ZGEaHRaKBnv_dIZgI5E5zR2pI2hxEGE0XekM9eIhpMUHj9I5a0jrXcBEyKCt5_Ppl_3C_NeiWirJtGqcYqnJ2G-WqtXKG5JeyHPpKW83hWU5Tmva5ZzVrGEnEnLmnJX8qaseZ0XBY_rmpBfs0K249nyFVXDGOc0ITi39Lg83_kVX38DC_v2ew?type=png)](https://mermaid.live/edit#pako:eNqlkk2P0zAQhv_KyAdOSRU7cb4OHBY4ILQnONEg5MaTrUVsV44ttnT733GTDaQSN-LL2HnmnZnXvpDeSiQteXLidOxMZ6ZwmGPorfFCGXR0_24NgcJPp7w4jAijOKP71hn_7On-y1FNywlYM57X5KmL_48IgxpxAn8UHoRD0FaqQaGM2Wjkv2qyTU22LcX-s9TdiEqLJ_w-a-0_ah2WwcIhGB9axnZZsSAwiHYQ6Wj7H1HnICZMWbpNbhrO874CoNmnhxWhd0glWSUzCsDyxz9IdocMWZmLPAcosxl5bfjvRcCbjUOQpm_hxaGQ6c2HOL7DMCHchNe2b168bMe86ZGEaHRaKBnv_dIZgI5E5zR2pI2hxEGE0XekM9eIhpMUHj9I5a0jrXcBEyKCt5_Ppl_3C_NeiWirJtGqcYqnJ2G-WqtXKG5JeyHPpKW83hWU5Tmva5ZzVrGEnEnLmnJX8qaseZ0XBY_rmpBfs0K249nyFVXDGOc0ITi39Lg83_kVX38DC_v2ew)"
   ]
  },
  {
   "cell_type": "markdown",
   "id": "bd1ba26f",
   "metadata": {
    "slideshow": {
     "slide_type": "subslide"
    }
   },
   "source": [
    "----\n",
    "\n",
    "\n",
    "## Commands for interacting with images"
   ]
  },
  {
   "cell_type": "code",
   "execution_count": null,
   "id": "45ed0543",
   "metadata": {
    "attributes": {
     "classes": [
      "text"
     ],
     "id": ""
    }
   },
   "outputs": [],
   "source": [
    "docker images  # shows all images.\n",
    "docker import  # creates an image from a tarball.\n",
    "docker build   # creates image from Dockerfile.\n",
    "docker commit  # creates image from a container.\n",
    "docker rmi     # removes an image.\n",
    "docker history # list changes of an image."
   ]
  },
  {
   "cell_type": "markdown",
   "id": "30197228",
   "metadata": {
    "slideshow": {
     "slide_type": "slide"
    }
   },
   "source": [
    "---\n",
    "\n",
    "## Building images with Dockerfile\n",
    "\n",
    "The Dockerfile is a text file that contains all the commands a user could\n",
    "call on the command line to assemble an image."
   ]
  },
  {
   "cell_type": "code",
   "execution_count": null,
   "id": "42339314",
   "metadata": {
    "attributes": {
     "classes": [
      "dockerfile"
     ],
     "id": ""
    }
   },
   "outputs": [],
   "source": [
    "FROM debian:stable-slim\n",
    "MAINTAINER Piuma \"piuma@piumalab.org\"\n",
    "RUN apt-get update && apt-get -y install apache2\n",
    "EXPOSE 80\n",
    "CMD [\"/usr/sbin/apache2ctl\", \"-D\", \"FOREGROUND\"]"
   ]
  },
  {
   "cell_type": "markdown",
   "id": "f8577fe9",
   "metadata": {},
   "source": [
    "Docker will execute all the commands in the Dockerfile and create a new image."
   ]
  },
  {
   "cell_type": "code",
   "execution_count": null,
   "id": "f86164a1",
   "metadata": {},
   "outputs": [],
   "source": [
    "!docker build -t apache-example ."
   ]
  },
  {
   "cell_type": "markdown",
   "id": "5a47f022",
   "metadata": {},
   "source": [
    "Open the [terminal](/terminals/docker) and:\n",
    "\n",
    "- inspect the image\n",
    "- run the image with"
   ]
  },
  {
   "cell_type": "code",
   "execution_count": null,
   "id": "1488821c",
   "metadata": {},
   "outputs": [],
   "source": [
    "%%bash\n",
    "docker run --rm --detach apache-example"
   ]
  },
  {
   "cell_type": "markdown",
   "id": "57bd2970",
   "metadata": {},
   "source": [
    "- check the running container with `docker ps`\n",
    "- use `curl` to check if the webserver works\n",
    "- stop the container with `docker stop`\n",
    "- check the running container with `docker ps`\n",
    "- check the stopped container with `docker ps -a`\n",
    "- remove the container with `docker rm`"
   ]
  },
  {
   "cell_type": "markdown",
   "id": "f8d0f29d",
   "metadata": {
    "slideshow": {
     "slide_type": "slide"
    }
   },
   "source": [
    "---\n",
    "\n",
    "## docker-compose\n",
    "\n",
    "[Docker Compose](https://docs.docker.com/compose/) is a tool for defining and running complex applications with\n",
    "Docker.\n",
    "\n",
    "With Compose, you define a multi-container application in a\n",
    "single file, then spin your application up in a single command which\n",
    "does everything that needs to be done to get it running."
   ]
  },
  {
   "cell_type": "markdown",
   "id": "10c52150",
   "metadata": {
    "slideshow": {
     "slide_type": "subslide"
    }
   },
   "source": [
    "----\n",
    "\n",
    "## docker-compose\n",
    "\n",
    "Using Compose is basically a three-step process:\n",
    "\n",
    "1. define your app's image with a `Dockerfile`\n",
    "1. define the services that make up your app in\n",
    "`docker-compose.yaml` so they can be run together in an isolated\n",
    "environment.\n",
    "1. run `docker-compose up` and Compose will start and run your\n",
    " entire app."
   ]
  },
  {
   "cell_type": "markdown",
   "id": "7d6d3849",
   "metadata": {
    "slideshow": {
     "slide_type": "subslide"
    }
   },
   "source": [
    "----\n",
    "\n",
    "## docker-compose\n",
    "\n",
    "docker-compose.yaml"
   ]
  },
  {
   "cell_type": "code",
   "execution_count": null,
   "id": "fe83cfc1",
   "metadata": {
    "attributes": {
     "classes": [
      "docker-compose"
     ],
     "id": ""
    }
   },
   "outputs": [],
   "source": [
    "version: '2'\n",
    "services:\n",
    "  web:\n",
    "    build: .\n",
    "    command: python app.py\n",
    "    ports:\n",
    "    - \"5000:5000\"\n",
    "    volumes:\n",
    "    - .:/code\n",
    "    links:\n",
    "    - redis\n",
    "  redis:\n",
    "    image: redis"
   ]
  },
  {
   "cell_type": "markdown",
   "id": "f3859dd3",
   "metadata": {},
   "source": [
    "Now run docker-compose up and Compose will start and run your entire app.\n",
    "\n",
    "Docker Compose is a basic example of Infrastructure as Code.\n",
    "The infrastructure setup is defined in a file and can be versioned.\n",
    "All the changes are tracked and can be reverted.\n",
    "Administrators do not have to run commands on the server to setup the infrastructure."
   ]
  },
  {
   "cell_type": "code",
   "execution_count": null,
   "id": "4ae4f092",
   "metadata": {},
   "outputs": [],
   "source": [
    "%%bash\n",
    "docker-compose up -d"
   ]
  },
  {
   "cell_type": "markdown",
   "id": "27e0b0dc",
   "metadata": {
    "slideshow": {
     "slide_type": "slide"
    }
   },
   "source": [
    "---\n",
    "\n",
    "## docker-compose example"
   ]
  },
  {
   "cell_type": "code",
   "execution_count": null,
   "id": "4e8ace61",
   "metadata": {},
   "outputs": [],
   "source": [
    "version: \"2\"\n",
    "services:\n",
    "  web:\n",
    "    image: piuma/phpsysinfo\n",
    "    ports:\n",
    "     - \"80:80\""
   ]
  },
  {
   "cell_type": "markdown",
   "id": "9e81f374",
   "metadata": {
    "slideshow": {
     "slide_type": "subslide"
    }
   },
   "source": [
    "----\n",
    "\n",
    "## docker-compose example"
   ]
  },
  {
   "cell_type": "code",
   "execution_count": null,
   "id": "4714eee9",
   "metadata": {
    "attributes": {
     "classes": [
      "docker-compose"
     ],
     "id": ""
    }
   },
   "outputs": [],
   "source": [
    "version: \"2\"\n",
    "services:\n",
    "  web1:\n",
    "    image: piuma/phpsysinfo\n",
    "  web2:\n",
    "    image: piuma/phpsysinfo\n",
    "  proxy:\n",
    "    image: tutum/haproxy\n",
    "    links:\n",
    "    - web1\n",
    "    - web2\n",
    "    ports:\n",
    "    - \"80:80\""
   ]
  },
  {
   "cell_type": "markdown",
   "id": "a420adc4",
   "metadata": {
    "slideshow": {
     "slide_type": "subslide"
    }
   },
   "source": [
    "----\n",
    "\n",
    "## docker-compose example"
   ]
  },
  {
   "cell_type": "code",
   "execution_count": null,
   "id": "fa6a114b",
   "metadata": {},
   "outputs": [],
   "source": [
    "version: \"2\"\n",
    "services:\n",
    "  web1:\n",
    "    image: piuma/phpsysinfo\n",
    "  web2:\n",
    "    image: piuma/phpsysinfo\n",
    "  web3:\n",
    "    image: piuma/phpsysinfo\n",
    "  proxy:\n",
    "    image: tutum/haproxy\n",
    "    links:\n",
    "    - web1\n",
    "    - web2\n",
    "    - web3\n",
    "    ports:\n",
    "    - \"80:80\""
   ]
  },
  {
   "cell_type": "markdown",
   "id": "5a4b46b8",
   "metadata": {
    "slideshow": {
     "slide_type": "subslide"
    }
   },
   "source": [
    "----\n",
    "\n",
    "## docker-compose example"
   ]
  },
  {
   "cell_type": "code",
   "execution_count": null,
   "id": "2ec2f720",
   "metadata": {},
   "outputs": [],
   "source": [
    "version: \"2\"\n",
    "services:\n",
    "  phpmyadmin:\n",
    "    image: nazarpc/phpmyadmin\n",
    "    links:\n",
    "    - mysql\n",
    "    ports:\n",
    "    - \"8080:80\"\n",
    "  mysql:\n",
    "    image: mysql\n",
    "    environment:\n",
    "    - MYSQL_ROOT_PASSWORD=secret"
   ]
  },
  {
   "cell_type": "markdown",
   "id": "4d8563b3",
   "metadata": {
    "slideshow": {
     "slide_type": "slide"
    }
   },
   "source": [
    "---\n",
    "\n",
    "## What next?"
   ]
  },
  {
   "cell_type": "code",
   "execution_count": null,
   "id": "91fd8470",
   "metadata": {},
   "outputs": [],
   "source": [
    "!docker run --rm mribeiro/cowsay \"Any questions?\""
   ]
  },
  {
   "cell_type": "markdown",
   "id": "5d5cdd6c",
   "metadata": {},
   "source": [
    "---"
   ]
  }
 ],
 "metadata": {},
 "nbformat": 4,
 "nbformat_minor": 5
}
